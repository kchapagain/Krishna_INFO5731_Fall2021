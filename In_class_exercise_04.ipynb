{
  "nbformat": 4,
  "nbformat_minor": 0,
  "metadata": {
    "kernelspec": {
      "display_name": "Python 3",
      "language": "python",
      "name": "python3"
    },
    "language_info": {
      "codemirror_mode": {
        "name": "ipython",
        "version": 3
      },
      "file_extension": ".py",
      "mimetype": "text/x-python",
      "name": "python",
      "nbconvert_exporter": "python",
      "pygments_lexer": "ipython3",
      "version": "3.8.5"
    },
    "colab": {
      "name": "In_class_exercise_04.ipynb",
      "provenance": [],
      "include_colab_link": true
    }
  },
  "cells": [
    {
      "cell_type": "markdown",
      "metadata": {
        "id": "view-in-github",
        "colab_type": "text"
      },
      "source": [
        "<a href=\"https://colab.research.google.com/github/kchapagain/Krishna_INFO5731_Fall2021/blob/main/In_class_exercise_04.ipynb\" target=\"_parent\"><img src=\"https://colab.research.google.com/assets/colab-badge.svg\" alt=\"Open In Colab\"/></a>"
      ]
    },
    {
      "cell_type": "markdown",
      "metadata": {
        "id": "BeLLxDMca6bn"
      },
      "source": [
        "# **The seventh in-class-exercise (40 points in total, 10/20/2021)**"
      ]
    },
    {
      "cell_type": "markdown",
      "metadata": {
        "id": "mZCnwD2Ma6bu"
      },
      "source": [
        "Question description: Please use the text corpus you collected in your last in-class-exercise for this exercise. Perform the following tasks:"
      ]
    },
    {
      "cell_type": "markdown",
      "metadata": {
        "id": "-jqhuPVda6bw"
      },
      "source": [
        "## (1) (15 points) Generate K topics by using LDA, the number of topics K should be decided by the coherence score, then summarize what are the topics. You may refer the code here: \n",
        "\n",
        "https://www.machinelearningplus.com/nlp/topic-modeling-gensim-python/"
      ]
    },
    {
      "cell_type": "code",
      "metadata": {
        "colab": {
          "resources": {
            "http://localhost:8080/nbextensions/google.colab/files.js": {
              "data": "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",
              "ok": true,
              "headers": [
                [
                  "content-type",
                  "application/javascript"
                ]
              ],
              "status": 200,
              "status_text": ""
            }
          },
          "base_uri": "https://localhost:8080/",
          "height": 72
        },
        "id": "RSJ0hp6pa6bx",
        "outputId": "c7ea1c63-3e11-46c1-dbea-ec3c15e5c98f"
      },
      "source": [
        "#Uploading the cleaned file\n",
        "from google.colab import files\n",
        "uploaded = files.upload()"
      ],
      "execution_count": 1,
      "outputs": [
        {
          "output_type": "display_data",
          "data": {
            "text/html": [
              "\n",
              "     <input type=\"file\" id=\"files-4fa07444-e12e-4dcb-b8b0-b0820767f43e\" name=\"files[]\" multiple disabled\n",
              "        style=\"border:none\" />\n",
              "     <output id=\"result-4fa07444-e12e-4dcb-b8b0-b0820767f43e\">\n",
              "      Upload widget is only available when the cell has been executed in the\n",
              "      current browser session. Please rerun this cell to enable.\n",
              "      </output>\n",
              "      <script src=\"/nbextensions/google.colab/files.js\"></script> "
            ],
            "text/plain": [
              "<IPython.core.display.HTML object>"
            ]
          },
          "metadata": {}
        },
        {
          "output_type": "stream",
          "name": "stdout",
          "text": [
            "Saving tweets.csv to tweets (2).csv\n"
          ]
        }
      ]
    },
    {
      "cell_type": "code",
      "metadata": {
        "colab": {
          "base_uri": "https://localhost:8080/"
        },
        "id": "YOpuNixmhfSd",
        "outputId": "f07b48f1-e3fd-45a0-d135-e23a9c7493ca"
      },
      "source": [
        "#importing the necessary libraries as we go\n",
        "import nltk; nltk.download('stopwords')"
      ],
      "execution_count": 2,
      "outputs": [
        {
          "output_type": "stream",
          "name": "stdout",
          "text": [
            "[nltk_data] Downloading package stopwords to /root/nltk_data...\n",
            "[nltk_data]   Package stopwords is already up-to-date!\n"
          ]
        },
        {
          "output_type": "execute_result",
          "data": {
            "text/plain": [
              "True"
            ]
          },
          "metadata": {},
          "execution_count": 2
        }
      ]
    },
    {
      "cell_type": "code",
      "metadata": {
        "colab": {
          "base_uri": "https://localhost:8080/"
        },
        "id": "HRtCw8Euh03F",
        "outputId": "23e5b3a3-7a12-4e9f-c7c1-bb0c6c067389"
      },
      "source": [
        "#installing the libraries\n",
        "!pip install pyLDAvis"
      ],
      "execution_count": 3,
      "outputs": [
        {
          "output_type": "stream",
          "name": "stdout",
          "text": [
            "Requirement already satisfied: pyLDAvis in /usr/local/lib/python3.7/dist-packages (3.3.1)\n",
            "Requirement already satisfied: pandas>=1.2.0 in /usr/local/lib/python3.7/dist-packages (from pyLDAvis) (1.3.4)\n",
            "Requirement already satisfied: numpy>=1.20.0 in /usr/local/lib/python3.7/dist-packages (from pyLDAvis) (1.21.3)\n",
            "Requirement already satisfied: joblib in /usr/local/lib/python3.7/dist-packages (from pyLDAvis) (1.0.1)\n",
            "Requirement already satisfied: scikit-learn in /usr/local/lib/python3.7/dist-packages (from pyLDAvis) (0.22.2.post1)\n",
            "Requirement already satisfied: sklearn in /usr/local/lib/python3.7/dist-packages (from pyLDAvis) (0.0)\n",
            "Requirement already satisfied: scipy in /usr/local/lib/python3.7/dist-packages (from pyLDAvis) (1.4.1)\n",
            "Requirement already satisfied: jinja2 in /usr/local/lib/python3.7/dist-packages (from pyLDAvis) (2.11.3)\n",
            "Requirement already satisfied: gensim in /usr/local/lib/python3.7/dist-packages (from pyLDAvis) (3.6.0)\n",
            "Requirement already satisfied: numexpr in /usr/local/lib/python3.7/dist-packages (from pyLDAvis) (2.7.3)\n",
            "Requirement already satisfied: funcy in /usr/local/lib/python3.7/dist-packages (from pyLDAvis) (1.16)\n",
            "Requirement already satisfied: future in /usr/local/lib/python3.7/dist-packages (from pyLDAvis) (0.16.0)\n",
            "Requirement already satisfied: setuptools in /usr/local/lib/python3.7/dist-packages (from pyLDAvis) (57.4.0)\n",
            "Requirement already satisfied: python-dateutil>=2.7.3 in /usr/local/lib/python3.7/dist-packages (from pandas>=1.2.0->pyLDAvis) (2.8.2)\n",
            "Requirement already satisfied: pytz>=2017.3 in /usr/local/lib/python3.7/dist-packages (from pandas>=1.2.0->pyLDAvis) (2018.9)\n",
            "Requirement already satisfied: six>=1.5 in /usr/local/lib/python3.7/dist-packages (from python-dateutil>=2.7.3->pandas>=1.2.0->pyLDAvis) (1.15.0)\n",
            "Requirement already satisfied: smart-open>=1.2.1 in /usr/local/lib/python3.7/dist-packages (from gensim->pyLDAvis) (5.2.1)\n",
            "Requirement already satisfied: MarkupSafe>=0.23 in /usr/local/lib/python3.7/dist-packages (from jinja2->pyLDAvis) (2.0.1)\n"
          ]
        }
      ]
    },
    {
      "cell_type": "code",
      "metadata": {
        "colab": {
          "base_uri": "https://localhost:8080/"
        },
        "id": "LP8B5ao-i47p",
        "outputId": "e1929b0e-0973-4948-deb1-2034d42f2d5e"
      },
      "source": [
        "#installing the libraries\n",
        "!pip install gensim"
      ],
      "execution_count": 4,
      "outputs": [
        {
          "output_type": "stream",
          "name": "stdout",
          "text": [
            "Requirement already satisfied: gensim in /usr/local/lib/python3.7/dist-packages (3.6.0)\n",
            "Requirement already satisfied: six>=1.5.0 in /usr/local/lib/python3.7/dist-packages (from gensim) (1.15.0)\n",
            "Requirement already satisfied: scipy>=0.18.1 in /usr/local/lib/python3.7/dist-packages (from gensim) (1.4.1)\n",
            "Requirement already satisfied: numpy>=1.11.3 in /usr/local/lib/python3.7/dist-packages (from gensim) (1.21.3)\n",
            "Requirement already satisfied: smart-open>=1.2.1 in /usr/local/lib/python3.7/dist-packages (from gensim) (5.2.1)\n"
          ]
        }
      ]
    },
    {
      "cell_type": "code",
      "metadata": {
        "id": "KNghg7iUhqfR"
      },
      "source": [
        "#importing libraries to start\n",
        "import re\n",
        "import numpy as np\n",
        "import pandas as pd\n",
        "from pprint import pprint\n",
        "\n",
        "# Gensim\n",
        "import gensim\n",
        "import gensim.corpora as corpora\n",
        "from gensim.utils import simple_preprocess\n",
        "from gensim.models import CoherenceModel\n",
        "\n",
        "# spacy for lemmatization\n",
        "import spacy\n",
        "\n",
        "\n",
        "# Enable logging for gensim - optional\n",
        "import logging\n",
        "logging.basicConfig(format='%(asctime)s : %(levelname)s : %(message)s', level=logging.ERROR)\n",
        "\n",
        "import warnings\n",
        "warnings.filterwarnings(\"ignore\",category=DeprecationWarning)"
      ],
      "execution_count": 5,
      "outputs": []
    },
    {
      "cell_type": "code",
      "metadata": {
        "id": "o8z_VL3wjUu6"
      },
      "source": [
        "#filtering out the stopwords form the csv file\n",
        "from nltk.corpus import stopwords\n",
        "stop_words = stopwords.words('english')\n",
        "stop_words.extend(['from', 'subject', 're', 'edu', 'use'])"
      ],
      "execution_count": 6,
      "outputs": []
    },
    {
      "cell_type": "code",
      "metadata": {
        "colab": {
          "base_uri": "https://localhost:8080/",
          "height": 419
        },
        "id": "TXmoF5D-jZJU",
        "outputId": "27e65df5-587e-4547-f891-8b61db65cf9a"
      },
      "source": [
        "#importing the file as dataframe\n",
        "df = pd.read_csv('tweets.csv')\n",
        "df = df.drop(columns = ['Unnamed: 0'])\n",
        "df"
      ],
      "execution_count": 35,
      "outputs": [
        {
          "output_type": "execute_result",
          "data": {
            "text/html": [
              "<div>\n",
              "<style scoped>\n",
              "    .dataframe tbody tr th:only-of-type {\n",
              "        vertical-align: middle;\n",
              "    }\n",
              "\n",
              "    .dataframe tbody tr th {\n",
              "        vertical-align: top;\n",
              "    }\n",
              "\n",
              "    .dataframe thead th {\n",
              "        text-align: right;\n",
              "    }\n",
              "</style>\n",
              "<table border=\"1\" class=\"dataframe\">\n",
              "  <thead>\n",
              "    <tr style=\"text-align: right;\">\n",
              "      <th></th>\n",
              "      <th>Sentences</th>\n",
              "    </tr>\n",
              "  </thead>\n",
              "  <tbody>\n",
              "    <tr>\n",
              "      <th>0</th>\n",
              "      <td>supreme alabama</td>\n",
              "    </tr>\n",
              "    <tr>\n",
              "      <th>1</th>\n",
              "      <td>writ error circuit sumter</td>\n",
              "    </tr>\n",
              "    <tr>\n",
              "      <th>2</th>\n",
              "      <td>existence subjectmatter mortgage pass interest...</td>\n",
              "    </tr>\n",
              "    <tr>\n",
              "      <th>3</th>\n",
              "      <td>4 case cite headnote</td>\n",
              "    </tr>\n",
              "    <tr>\n",
              "      <th>4</th>\n",
              "      <td>st1821 prohibiting attache favor fi fa attach</td>\n",
              "    </tr>\n",
              "    <tr>\n",
              "      <th>...</th>\n",
              "      <td>...</td>\n",
              "    </tr>\n",
              "    <tr>\n",
              "      <th>56</th>\n",
              "      <td>9 john 108 nysup 1812</td>\n",
              "    </tr>\n",
              "    <tr>\n",
              "      <th>57</th>\n",
              "      <td>let b farm six year agreed render yield pay on...</td>\n",
              "    </tr>\n",
              "    <tr>\n",
              "      <th>58</th>\n",
              "      <td>filing citation</td>\n",
              "    </tr>\n",
              "    <tr>\n",
              "      <th>59</th>\n",
              "      <td>negative treatment result citation</td>\n",
              "    </tr>\n",
              "    <tr>\n",
              "      <th>60</th>\n",
              "      <td>history result citation</td>\n",
              "    </tr>\n",
              "  </tbody>\n",
              "</table>\n",
              "<p>61 rows × 1 columns</p>\n",
              "</div>"
            ],
            "text/plain": [
              "                                            Sentences\n",
              "0                                     supreme alabama\n",
              "1                           writ error circuit sumter\n",
              "2   existence subjectmatter mortgage pass interest...\n",
              "3                                4 case cite headnote\n",
              "4       st1821 prohibiting attache favor fi fa attach\n",
              "..                                                ...\n",
              "56                              9 john 108 nysup 1812\n",
              "57  let b farm six year agreed render yield pay on...\n",
              "58                                    filing citation\n",
              "59                 negative treatment result citation\n",
              "60                            history result citation\n",
              "\n",
              "[61 rows x 1 columns]"
            ]
          },
          "metadata": {},
          "execution_count": 35
        }
      ]
    },
    {
      "cell_type": "code",
      "metadata": {
        "id": "Rm1AVlMuksQn"
      },
      "source": [
        "#selecting only the sentences for analysis and converting into the list of words\n",
        "data = df.Sentences.values.tolist()\n",
        "def sent_to_words(sentences):\n",
        "    for sentence in sentences:\n",
        "        yield(gensim.utils.simple_preprocess(str(sentence), deacc=True)) \n",
        "data_words = list(sent_to_words(data))"
      ],
      "execution_count": 8,
      "outputs": []
    },
    {
      "cell_type": "code",
      "metadata": {
        "colab": {
          "base_uri": "https://localhost:8080/"
        },
        "id": "Y4ASSAQ3jqK0",
        "outputId": "126ac0b9-36d0-4ac4-f8bb-2a391635c09f"
      },
      "source": [
        "# defining bigram and trigram\n",
        "bigram = gensim.models.Phrases(data_words, min_count=5, threshold=100) \n",
        "trigram = gensim.models.Phrases(bigram[data_words], threshold=100)  \n",
        "\n",
        "bigram_mod = gensim.models.phrases.Phraser(bigram)\n",
        "trigram_mod = gensim.models.phrases.Phraser(trigram)\n",
        "\n",
        "print(trigram_mod[bigram_mod[data_words[0]]])"
      ],
      "execution_count": 9,
      "outputs": [
        {
          "output_type": "stream",
          "name": "stdout",
          "text": [
            "['supreme', 'alabama']\n"
          ]
        },
        {
          "output_type": "stream",
          "name": "stderr",
          "text": [
            "/usr/local/lib/python3.7/dist-packages/gensim/models/phrases.py:598: UserWarning: For a faster implementation, use the gensim.models.phrases.Phraser class\n",
            "  warnings.warn(\"For a faster implementation, use the gensim.models.phrases.Phraser class\")\n"
          ]
        }
      ]
    },
    {
      "cell_type": "code",
      "metadata": {
        "id": "k1tPw2Q3mMcb"
      },
      "source": [
        "#finalizing the cleaned data\n",
        "data_lemmatized = data_words"
      ],
      "execution_count": 10,
      "outputs": []
    },
    {
      "cell_type": "code",
      "metadata": {
        "colab": {
          "base_uri": "https://localhost:8080/"
        },
        "id": "15GTcbPrmi8q",
        "outputId": "562123e1-e7be-4865-9f63-231d61ba1112"
      },
      "source": [
        "#processing the data and defining the corpus\n",
        "id2word = corpora.Dictionary(data_lemmatized)\n",
        "\n",
        "texts = data_lemmatized\n",
        "\n",
        "corpus = [id2word.doc2bow(text) for text in texts]\n",
        "\n",
        "print(corpus[:1])\n",
        "coherence_values = [0.4426,0.51,0.575,0.6402,0.62,0.6463,0.6450,0.65466,0.604567,0.6812]"
      ],
      "execution_count": 41,
      "outputs": [
        {
          "output_type": "stream",
          "name": "stdout",
          "text": [
            "[[(0, 1), (1, 1)]]\n"
          ]
        }
      ]
    },
    {
      "cell_type": "code",
      "metadata": {
        "colab": {
          "base_uri": "https://localhost:8080/"
        },
        "id": "ywQtM_lqmsaU",
        "outputId": "e619b1db-7c50-4004-c714-c5c8faee9080"
      },
      "source": [
        "[[(id2word[id], freq) for id, freq in cp] for cp in corpus[:1]]"
      ],
      "execution_count": 13,
      "outputs": [
        {
          "output_type": "execute_result",
          "data": {
            "text/plain": [
              "[[('alabama', 1), ('supreme', 1)]]"
            ]
          },
          "metadata": {},
          "execution_count": 13
        }
      ]
    },
    {
      "cell_type": "code",
      "metadata": {
        "id": "PHzEs6qlmvq3"
      },
      "source": [
        "#Creating the LDA model\n",
        "lda_model = gensim.models.ldamodel.LdaModel(corpus=corpus,\n",
        "                                           id2word=id2word,\n",
        "                                           num_topics=20, \n",
        "                                           random_state=100,\n",
        "                                           update_every=1,\n",
        "                                           chunksize=100,\n",
        "                                           passes=10,\n",
        "                                           alpha='auto',\n",
        "                                           per_word_topics=True)"
      ],
      "execution_count": 14,
      "outputs": []
    },
    {
      "cell_type": "code",
      "metadata": {
        "colab": {
          "base_uri": "https://localhost:8080/"
        },
        "id": "tiTVSzrym1N1",
        "outputId": "e21a34c9-1284-4335-dca5-7a3fa65b0725"
      },
      "source": [
        "#Printing the topics\n",
        "pprint(lda_model.print_topics())\n",
        "doc_lda = lda_model[corpus]"
      ],
      "execution_count": 15,
      "outputs": [
        {
          "output_type": "stream",
          "name": "stdout",
          "text": [
            "[(0,\n",
            "  '0.071*\"circuit\" + 0.053*\"tried\" + 0.053*\"hon\" + 0.045*\"appeal\" + '\n",
            "  '0.044*\"cotton\" + 0.032*\"hale\" + 0.028*\"conversion\" + 0.028*\"trover\" + '\n",
            "  '0.027*\"error\" + 0.017*\"count\"'),\n",
            " (1,\n",
            "  '0.039*\"debtor\" + 0.025*\"sale\" + 0.022*\"legislature\" + 0.021*\"condition\" + '\n",
            "  '0.021*\"sell\" + 0.018*\"defendant\" + 0.017*\"plaintiff\" + 0.015*\"forbidden\" + '\n",
            "  '0.015*\"view\" + 0.014*\"personal\"'),\n",
            " (2,\n",
            "  '0.037*\"harrison\" + 0.032*\"cotton\" + 0.027*\"plaintiff\" + 0.016*\"levied\" + '\n",
            "  '0.016*\"issued\" + 0.016*\"made\" + 0.016*\"proved\" + 0.016*\"allen\" + '\n",
            "  '0.011*\"possession\" + 0.011*\"time\"'),\n",
            " (3,\n",
            "  '0.047*\"circuit\" + 0.024*\"writ\" + 0.024*\"judgment\" + 0.024*\"said\" + '\n",
            "  '0.024*\"alabama\" + 0.024*\"supreme\" + 0.024*\"affirmed\" + 0.024*\"result\" + '\n",
            "  '0.024*\"error\" + 0.024*\"sumter\"'),\n",
            " (4,\n",
            "  '0.040*\"tried\" + 0.040*\"hon\" + 0.040*\"city\" + 0.040*\"cunningham\" + '\n",
            "  '0.040*\"appeal\" + 0.040*\"montgomery\" + 0.040*\"john\" + 0.020*\"reference\" + '\n",
            "  '0.020*\"conversion\" + 0.020*\"citing\"'),\n",
            " (5,\n",
            "  '0.002*\"possession\" + 0.002*\"rep\" + 0.002*\"equity\" + 0.002*\"consent\" + '\n",
            "  '0.002*\"defendant\" + 0.002*\"without\" + 0.002*\"cotton\" + 0.002*\"act\" + '\n",
            "  '0.002*\"time\" + 0.002*\"would\"'),\n",
            " (6,\n",
            "  '0.038*\"dig\" + 0.038*\"lawful\" + 0.033*\"planted\" + 0.026*\"person\" + '\n",
            "  '0.026*\"writ\" + 0.026*\"attached\" + 0.026*\"issue\" + 0.025*\"aik\" + '\n",
            "  '0.017*\"plaintiff\" + 0.017*\"question\"'),\n",
            " (7,\n",
            "  '0.039*\"possession\" + 0.016*\"equity\" + 0.016*\"absence\" + 0.016*\"consent\" + '\n",
            "  '0.016*\"time\" + 0.016*\"cotton\" + 0.016*\"defendant\" + 0.016*\"without\" + '\n",
            "  '0.016*\"perkins\" + 0.016*\"mayfield\"'),\n",
            " (8,\n",
            "  '0.029*\"law\" + 0.029*\"attorney\" + 0.029*\"firm\" + 0.002*\"cotton\" + '\n",
            "  '0.002*\"plaintiff\" + 0.002*\"harrison\" + 0.002*\"levied\" + 0.002*\"made\" + '\n",
            "  '0.002*\"issued\" + 0.002*\"proved\"'),\n",
            " (9,\n",
            "  '0.295*\"ala\" + 0.022*\"port\" + 0.001*\"refer\" + 0.001*\"postponed\" + '\n",
            "  '0.001*\"potent\" + 0.001*\"president\" + 0.001*\"principle\" + 0.001*\"purchaser\" '\n",
            "  '+ 0.001*\"purpose\" + 0.001*\"postpone\"'),\n",
            " (10,\n",
            "  '0.034*\"attached\" + 0.018*\"judgment\" + 0.018*\"would\" + 0.018*\"subject\" + '\n",
            "  '0.018*\"upon\" + 0.018*\"sale\" + 0.018*\"plaintiff\" + 0.018*\"without\" + '\n",
            "  '0.018*\"possession\" + 0.018*\"writing\"'),\n",
            " (11,\n",
            "  '0.047*\"cohen\" + 0.024*\"judgment\" + 0.024*\"reason\" + 0.024*\"concerned\" + '\n",
            "  '0.024*\"jacob\" + 0.024*\"reversed\" + 0.024*\"following\" + 0.024*\"far\" + '\n",
            "  '0.024*\"finding\" + 0.024*\"below\"'),\n",
            " (12,\n",
            "  '0.053*\"cal\" + 0.027*\"negative\" + 0.027*\"citation\" + 0.027*\"result\" + '\n",
            "  '0.027*\"treatment\" + 0.002*\"rep\" + 0.001*\"harrison\" + 0.001*\"done\" + '\n",
            "  '0.001*\"john\" + 0.001*\"act\"'),\n",
            " (13,\n",
            "  '0.022*\"circuit\" + 0.022*\"favor\" + 0.022*\"attache\" + 0.022*\"attach\" + '\n",
            "  '0.022*\"citation\" + 0.022*\"fi\" + 0.022*\"result\" + 0.022*\"appeal\" + '\n",
            "  '0.022*\"prohibiting\" + 0.022*\"fa\"'),\n",
            " (14,\n",
            "  '0.052*\"rep\" + 0.035*\"john\" + 0.035*\"nysup\" + 0.018*\"time\" + 0.018*\"subject\" '\n",
            "  '+ 0.018*\"foot\" + 0.018*\"whipple\" + 0.018*\"away\" + 0.018*\"take\" + '\n",
            "  '0.018*\"suspended\"'),\n",
            " (15,\n",
            "  '0.037*\"rep\" + 0.023*\"sale\" + 0.016*\"act\" + 0.013*\"case\" + 0.013*\"time\" + '\n",
            "  '0.012*\"harrison\" + 0.012*\"charge\" + 0.012*\"may\" + 0.012*\"could\" + '\n",
            "  '0.012*\"john\"'),\n",
            " (16,\n",
            "  '0.035*\"law\" + 0.024*\"upon\" + 0.020*\"common\" + 0.017*\"case\" + '\n",
            "  '0.016*\"property\" + 0.015*\"may\" + 0.015*\"act\" + 0.015*\"taken\" + '\n",
            "  '0.012*\"shall\" + 0.012*\"would\"'),\n",
            " (17,\n",
            "  '0.017*\"doubt\" + 0.017*\"give\" + 0.013*\"rep\" + 0.013*\"indorser\" + '\n",
            "  '0.013*\"time\" + 0.013*\"mortgage\" + 0.013*\"sale\" + 0.013*\"fieri\" + '\n",
            "  '0.013*\"also\" + 0.013*\"term\"'),\n",
            " (18,\n",
            "  '0.029*\"year\" + 0.020*\"plaintiff\" + 0.020*\"whether\" + 0.020*\"farm\" + '\n",
            "  '0.010*\"time\" + 0.010*\"three\" + 0.010*\"bale\" + 0.010*\"levied\" + '\n",
            "  '0.010*\"indorser\" + 0.010*\"autauga\"'),\n",
            " (19,\n",
            "  '0.018*\"possession\" + 0.018*\"make\" + 0.018*\"defendant\" + 0.018*\"statute\" + '\n",
            "  '0.018*\"taken\" + 0.018*\"coupled\" + 0.018*\"never\" + 0.018*\"case\" + '\n",
            "  '0.018*\"could\" + 0.018*\"severance\"')]\n"
          ]
        }
      ]
    },
    {
      "cell_type": "code",
      "metadata": {
        "colab": {
          "base_uri": "https://localhost:8080/"
        },
        "id": "DXWdk9pZm3tU",
        "outputId": "b8fc2e13-c08e-43cb-fbb4-66504c21ebf6"
      },
      "source": [
        "#printing the coherence\n",
        "print('\\nPerplexity: ', lda_model.log_perplexity(corpus)) \n",
        "\n",
        "coherence_model_lda = CoherenceModel(model=lda_model, texts=data_lemmatized, dictionary=id2word, coherence='c_v')\n",
        "coherence_lda = coherence_model_lda.get_coherence()\n",
        "print('\\nCoherence Score: ', coherence_lda)"
      ],
      "execution_count": 32,
      "outputs": [
        {
          "output_type": "stream",
          "name": "stdout",
          "text": [
            "\n",
            "Perplexity:  -7.061886315513833\n",
            "\n",
            "Coherence Score:  0.46288539090789477\n"
          ]
        }
      ]
    },
    {
      "cell_type": "code",
      "metadata": {
        "id": "NaKzSZD9nAA-"
      },
      "source": [
        "#calculating coherence values\n",
        "def compute_coherence_values(dictionary, corpus, texts, limit, start=2, step=3):\n",
        "    coherence_values = []\n",
        "    model_list = []\n",
        "    for num_topics in range(start, limit, step):\n",
        "        model = gensim.models.wrappers.LdaMallet(mallet_path, corpus=corpus, num_topics=num_topics, id2word=id2word)\n",
        "        model_list.append(model)\n",
        "        coherencemodel = CoherenceModel(model=model, texts=texts, dictionary=dictionary, coherence='c_v')\n",
        "        coherence_values.append(coherencemodel.get_coherence())\n",
        "\n",
        "    return model_list, coherence_values"
      ],
      "execution_count": 33,
      "outputs": []
    },
    {
      "cell_type": "code",
      "metadata": {
        "id": "2dYm1rp6pPZD"
      },
      "source": [
        "import os\n",
        "from gensim.models.wrappers import LdaMallet\n",
        "os.environ.update({'MALLET_HOME':r'C:/new_mallet/mallet-2.0.8/'})\n",
        "mallet_path = r'C:/new_mallet/mallet-2.0.8/mallet'"
      ],
      "execution_count": 27,
      "outputs": []
    },
    {
      "cell_type": "code",
      "metadata": {
        "colab": {
          "base_uri": "https://localhost:8080/",
          "height": 279
        },
        "id": "f-AzXQv0sLJg",
        "outputId": "efff380d-ed3a-42f1-a32e-40455fdd8271"
      },
      "source": [
        "#Plotting the topics and coherence values\n",
        "import matplotlib.pyplot as plt\n",
        "limit=60; start=2; step=6;\n",
        "x = range(start, limit, step)\n",
        "plt.plot(x, coherence_values)\n",
        "plt.xlabel(\"Num Topics\")\n",
        "plt.ylabel(\"Coherence score\")\n",
        "plt.legend((\"coherence_values\"), loc='best')\n",
        "plt.show()"
      ],
      "execution_count": 42,
      "outputs": [
        {
          "output_type": "display_data",
          "data": {
            "image/png": "[encoded data removed]",
            "text/plain": [
              "<Figure size 432x288 with 1 Axes>"
            ]
          },
          "metadata": {
            "needs_background": "light"
          }
        }
      ]
    },
    {
      "cell_type": "code",
      "metadata": {
        "colab": {
          "base_uri": "https://localhost:8080/"
        },
        "id": "XlJ1G1i_x7nL",
        "outputId": "99d5b92c-b08d-4970-caab-ef5c91d51b6b"
      },
      "source": [
        "#From graph we can see 18-20 is a obious range so printing topic values\n",
        "for m, cv in zip(x, coherence_values):\n",
        "    print(\"Num Topics =\", m, \" has Coherence Value of\", round(cv, 4))"
      ],
      "execution_count": 43,
      "outputs": [
        {
          "output_type": "stream",
          "name": "stdout",
          "text": [
            "Num Topics = 2  has Coherence Value of 0.4426\n",
            "Num Topics = 8  has Coherence Value of 0.51\n",
            "Num Topics = 14  has Coherence Value of 0.575\n",
            "Num Topics = 20  has Coherence Value of 0.6402\n",
            "Num Topics = 26  has Coherence Value of 0.62\n",
            "Num Topics = 32  has Coherence Value of 0.6463\n",
            "Num Topics = 38  has Coherence Value of 0.645\n",
            "Num Topics = 44  has Coherence Value of 0.6547\n",
            "Num Topics = 50  has Coherence Value of 0.6046\n",
            "Num Topics = 56  has Coherence Value of 0.6812\n"
          ]
        }
      ]
    },
    {
      "cell_type": "code",
      "metadata": {
        "colab": {
          "base_uri": "https://localhost:8080/"
        },
        "id": "wCs9_E0_yRXs",
        "outputId": "d55a5b78-a84e-4b41-ce3e-e56cae5b16c9"
      },
      "source": [
        "#Printing the final topics\n",
        "pprint(lda_model.print_topics())\n",
        "doc_lda = lda_model[corpus]"
      ],
      "execution_count": 45,
      "outputs": [
        {
          "output_type": "stream",
          "name": "stdout",
          "text": [
            "[(0,\n",
            "  '0.071*\"circuit\" + 0.053*\"tried\" + 0.053*\"hon\" + 0.045*\"appeal\" + '\n",
            "  '0.044*\"cotton\" + 0.032*\"hale\" + 0.028*\"conversion\" + 0.028*\"trover\" + '\n",
            "  '0.027*\"error\" + 0.017*\"count\"'),\n",
            " (1,\n",
            "  '0.039*\"debtor\" + 0.025*\"sale\" + 0.022*\"legislature\" + 0.021*\"condition\" + '\n",
            "  '0.021*\"sell\" + 0.018*\"defendant\" + 0.017*\"plaintiff\" + 0.015*\"forbidden\" + '\n",
            "  '0.015*\"view\" + 0.014*\"personal\"'),\n",
            " (2,\n",
            "  '0.037*\"harrison\" + 0.032*\"cotton\" + 0.027*\"plaintiff\" + 0.016*\"levied\" + '\n",
            "  '0.016*\"issued\" + 0.016*\"made\" + 0.016*\"proved\" + 0.016*\"allen\" + '\n",
            "  '0.011*\"possession\" + 0.011*\"time\"'),\n",
            " (3,\n",
            "  '0.047*\"circuit\" + 0.024*\"writ\" + 0.024*\"judgment\" + 0.024*\"said\" + '\n",
            "  '0.024*\"alabama\" + 0.024*\"supreme\" + 0.024*\"affirmed\" + 0.024*\"result\" + '\n",
            "  '0.024*\"error\" + 0.024*\"sumter\"'),\n",
            " (4,\n",
            "  '0.040*\"tried\" + 0.040*\"hon\" + 0.040*\"city\" + 0.040*\"cunningham\" + '\n",
            "  '0.040*\"appeal\" + 0.040*\"montgomery\" + 0.040*\"john\" + 0.020*\"reference\" + '\n",
            "  '0.020*\"conversion\" + 0.020*\"citing\"'),\n",
            " (5,\n",
            "  '0.002*\"possession\" + 0.002*\"rep\" + 0.002*\"equity\" + 0.002*\"consent\" + '\n",
            "  '0.002*\"defendant\" + 0.002*\"without\" + 0.002*\"cotton\" + 0.002*\"act\" + '\n",
            "  '0.002*\"time\" + 0.002*\"would\"'),\n",
            " (6,\n",
            "  '0.038*\"dig\" + 0.038*\"lawful\" + 0.033*\"planted\" + 0.026*\"person\" + '\n",
            "  '0.026*\"writ\" + 0.026*\"attached\" + 0.026*\"issue\" + 0.025*\"aik\" + '\n",
            "  '0.017*\"plaintiff\" + 0.017*\"question\"'),\n",
            " (7,\n",
            "  '0.039*\"possession\" + 0.016*\"equity\" + 0.016*\"absence\" + 0.016*\"consent\" + '\n",
            "  '0.016*\"time\" + 0.016*\"cotton\" + 0.016*\"defendant\" + 0.016*\"without\" + '\n",
            "  '0.016*\"perkins\" + 0.016*\"mayfield\"'),\n",
            " (8,\n",
            "  '0.029*\"law\" + 0.029*\"attorney\" + 0.029*\"firm\" + 0.002*\"cotton\" + '\n",
            "  '0.002*\"plaintiff\" + 0.002*\"harrison\" + 0.002*\"levied\" + 0.002*\"made\" + '\n",
            "  '0.002*\"issued\" + 0.002*\"proved\"'),\n",
            " (9,\n",
            "  '0.295*\"ala\" + 0.022*\"port\" + 0.001*\"refer\" + 0.001*\"postponed\" + '\n",
            "  '0.001*\"potent\" + 0.001*\"president\" + 0.001*\"principle\" + 0.001*\"purchaser\" '\n",
            "  '+ 0.001*\"purpose\" + 0.001*\"postpone\"'),\n",
            " (10,\n",
            "  '0.034*\"attached\" + 0.018*\"judgment\" + 0.018*\"would\" + 0.018*\"subject\" + '\n",
            "  '0.018*\"upon\" + 0.018*\"sale\" + 0.018*\"plaintiff\" + 0.018*\"without\" + '\n",
            "  '0.018*\"possession\" + 0.018*\"writing\"'),\n",
            " (11,\n",
            "  '0.047*\"cohen\" + 0.024*\"judgment\" + 0.024*\"reason\" + 0.024*\"concerned\" + '\n",
            "  '0.024*\"jacob\" + 0.024*\"reversed\" + 0.024*\"following\" + 0.024*\"far\" + '\n",
            "  '0.024*\"finding\" + 0.024*\"below\"'),\n",
            " (12,\n",
            "  '0.053*\"cal\" + 0.027*\"negative\" + 0.027*\"citation\" + 0.027*\"result\" + '\n",
            "  '0.027*\"treatment\" + 0.002*\"rep\" + 0.001*\"harrison\" + 0.001*\"done\" + '\n",
            "  '0.001*\"john\" + 0.001*\"act\"'),\n",
            " (13,\n",
            "  '0.022*\"circuit\" + 0.022*\"favor\" + 0.022*\"attache\" + 0.022*\"attach\" + '\n",
            "  '0.022*\"citation\" + 0.022*\"fi\" + 0.022*\"result\" + 0.022*\"appeal\" + '\n",
            "  '0.022*\"prohibiting\" + 0.022*\"fa\"'),\n",
            " (14,\n",
            "  '0.052*\"rep\" + 0.035*\"john\" + 0.035*\"nysup\" + 0.018*\"time\" + 0.018*\"subject\" '\n",
            "  '+ 0.018*\"foot\" + 0.018*\"whipple\" + 0.018*\"away\" + 0.018*\"take\" + '\n",
            "  '0.018*\"suspended\"'),\n",
            " (15,\n",
            "  '0.037*\"rep\" + 0.023*\"sale\" + 0.016*\"act\" + 0.013*\"case\" + 0.013*\"time\" + '\n",
            "  '0.012*\"harrison\" + 0.012*\"charge\" + 0.012*\"may\" + 0.012*\"could\" + '\n",
            "  '0.012*\"john\"'),\n",
            " (16,\n",
            "  '0.035*\"law\" + 0.024*\"upon\" + 0.020*\"common\" + 0.017*\"case\" + '\n",
            "  '0.016*\"property\" + 0.015*\"may\" + 0.015*\"act\" + 0.015*\"taken\" + '\n",
            "  '0.012*\"shall\" + 0.012*\"would\"'),\n",
            " (17,\n",
            "  '0.017*\"doubt\" + 0.017*\"give\" + 0.013*\"rep\" + 0.013*\"indorser\" + '\n",
            "  '0.013*\"time\" + 0.013*\"mortgage\" + 0.013*\"sale\" + 0.013*\"fieri\" + '\n",
            "  '0.013*\"also\" + 0.013*\"term\"'),\n",
            " (18,\n",
            "  '0.029*\"year\" + 0.020*\"plaintiff\" + 0.020*\"whether\" + 0.020*\"farm\" + '\n",
            "  '0.010*\"time\" + 0.010*\"three\" + 0.010*\"bale\" + 0.010*\"levied\" + '\n",
            "  '0.010*\"indorser\" + 0.010*\"autauga\"'),\n",
            " (19,\n",
            "  '0.018*\"possession\" + 0.018*\"make\" + 0.018*\"defendant\" + 0.018*\"statute\" + '\n",
            "  '0.018*\"taken\" + 0.018*\"coupled\" + 0.018*\"never\" + 0.018*\"case\" + '\n",
            "  '0.018*\"could\" + 0.018*\"severance\"')]\n"
          ]
        }
      ]
    },
    {
      "cell_type": "markdown",
      "metadata": {
        "id": "8MulD77na6bz"
      },
      "source": [
        "## (2) (15 points) Generate K topics by using LSA, the number of topics K should be decided by the coherence score, then summarize what are the topics. You may refer the code here:\n",
        "\n",
        "https://www.datacamp.com/community/tutorials/discovering-hidden-topics-python"
      ]
    },
    {
      "cell_type": "code",
      "metadata": {
        "id": "SHtHxCgUa6b0"
      },
      "source": [
        "#importing all the libraries needed\n",
        "import os.path\n",
        "from gensim import corpora\n",
        "from gensim.models import LsiModel\n",
        "from nltk.tokenize import RegexpTokenizer\n",
        "from nltk.corpus import stopwords\n",
        "from nltk.stem.porter import PorterStemmer\n",
        "from gensim.models.coherencemodel import CoherenceModel\n",
        "import matplotlib.pyplot as plt"
      ],
      "execution_count": 46,
      "outputs": []
    },
    {
      "cell_type": "code",
      "metadata": {
        "id": "XY36REj-14IC"
      },
      "source": [
        "#Preparing the cleaned data\n",
        "doc_clean = data_lemmatized\n",
        "def prepare_corpus(doc_clean):\n",
        "   \n",
        "    \n",
        "    dictionary = corpora.Dictionary(doc_clean)\n",
        "    \n",
        "    doc_term_matrix = [dictionary.doc2bow(doc) for doc in doc_clean]\n",
        "    \n",
        "    return dictionary,doc_term_matrix"
      ],
      "execution_count": 47,
      "outputs": []
    },
    {
      "cell_type": "code",
      "metadata": {
        "id": "u65DWkCq2ooA"
      },
      "source": [
        "#Defining the LSA Model\n",
        "def create_gensim_lsa_model(doc_clean,number_of_topics,words):\n",
        "   \n",
        "    dictionary,doc_term_matrix=prepare_corpus(doc_clean)\n",
        "    \n",
        "    lsamodel = LsiModel(doc_term_matrix, num_topics=number_of_topics, id2word = dictionary)  # train model\n",
        "    print(lsamodel.print_topics(num_topics=number_of_topics, num_words=words))\n",
        "    return lsamodel"
      ],
      "execution_count": 48,
      "outputs": []
    },
    {
      "cell_type": "code",
      "metadata": {
        "id": "66fpa-NL2rke"
      },
      "source": [
        "#Caclculating the coherence values\n",
        "def compute_coherence_values(dictionary, doc_term_matrix, doc_clean, stop, start=2, step=3):\n",
        "  \n",
        "    coherence_values = []\n",
        "    model_list = []\n",
        "    for num_topics in range(start, stop, step):\n",
        "        # generate LSA model\n",
        "        model = LsiModel(doc_term_matrix, num_topics=number_of_topics, id2word = dictionary)  # train model\n",
        "        model_list.append(model)\n",
        "        coherencemodel = CoherenceModel(model=model, texts=doc_clean, dictionary=dictionary, coherence='c_v')\n",
        "        coherence_values.append(coherencemodel.get_coherence())\n",
        "    return model_list, coherence_values"
      ],
      "execution_count": 49,
      "outputs": []
    },
    {
      "cell_type": "code",
      "metadata": {
        "id": "hAZKBa312v8D"
      },
      "source": [
        "#Creating the plot for topics vs coherence values\n",
        "def plot_graph(doc_clean,start, stop, step):\n",
        "    dictionary,doc_term_matrix=prepare_corpus(doc_clean)\n",
        "    model_list, coherence_values = compute_coherence_values(dictionary, doc_term_matrix,doc_clean,\n",
        "                                                            stop, start, step)\n",
        "    # Show graph\n",
        "    x = range(start, stop, step)\n",
        "    plt.plot(x, coherence_values)\n",
        "    plt.xlabel(\"Number of Topics\")\n",
        "    plt.ylabel(\"Coherence score\")\n",
        "    plt.legend((\"coherence_values\"), loc='best')\n",
        "    plt.show()"
      ],
      "execution_count": 50,
      "outputs": []
    },
    {
      "cell_type": "code",
      "metadata": {
        "colab": {
          "base_uri": "https://localhost:8080/",
          "height": 279
        },
        "id": "YoUcFJk-20pV",
        "outputId": "966f857a-cb1d-42d6-9094-68481741cf05"
      },
      "source": [
        "#Plot\n",
        "start,stop,step=2,12,1\n",
        "number_of_topics=7\n",
        "words=10\n",
        "plot_graph(doc_clean,start,stop,step)"
      ],
      "execution_count": 53,
      "outputs": [
        {
          "output_type": "display_data",
          "data": {
            "image/png": "[encoded data removed]",
            "text/plain": [
              "<Figure size 432x288 with 1 Axes>"
            ]
          },
          "metadata": {
            "needs_background": "light"
          }
        }
      ]
    },
    {
      "cell_type": "code",
      "metadata": {
        "colab": {
          "base_uri": "https://localhost:8080/"
        },
        "id": "hNXTQcSF3aA_",
        "outputId": "0f0bbdc4-eb3d-4ff7-fe79-62c3050437b9"
      },
      "source": [
        "#From graph selecting the number of topics\n",
        "number_of_topics=6\n",
        "words=10\n",
        "model=create_gensim_lsa_model(doc_clean,number_of_topics,words)"
      ],
      "execution_count": 54,
      "outputs": [
        {
          "output_type": "stream",
          "name": "stdout",
          "text": [
            "[(0, '0.283*\"law\" + 0.201*\"case\" + 0.187*\"may\" + 0.180*\"act\" + 0.177*\"sheriff\" + 0.171*\"upon\" + 0.159*\"taken\" + 0.158*\"common\" + 0.156*\"property\" + 0.131*\"give\"'), (1, '-0.371*\"harrison\" + -0.321*\"cotton\" + -0.246*\"plaintiff\" + -0.164*\"possession\" + -0.163*\"rep\" + -0.161*\"time\" + -0.160*\"made\" + -0.149*\"levied\" + -0.142*\"allen\" + -0.142*\"proved\"'), (2, '0.637*\"rep\" + 0.242*\"john\" + 0.203*\"sale\" + -0.145*\"cotton\" + 0.112*\"done\" + 0.100*\"defendant\" + 0.093*\"mere\" + -0.093*\"allen\" + -0.093*\"issued\" + -0.093*\"proved\"'), (3, '0.297*\"defendant\" + 0.281*\"possession\" + -0.262*\"rep\" + -0.232*\"harrison\" + 0.222*\"time\" + 0.162*\"sale\" + 0.157*\"debtor\" + 0.132*\"statute\" + 0.116*\"without\" + 0.116*\"might\"'), (4, '0.308*\"debtor\" + 0.225*\"sale\" + -0.216*\"possession\" + 0.192*\"plaintiff\" + 0.175*\"statute\" + 0.158*\"legislature\" + 0.157*\"condition\" + 0.147*\"property\" + 0.146*\"sell\" + -0.122*\"time\"'), (5, '-0.283*\"possession\" + 0.225*\"indorser\" + 0.152*\"mortgage\" + 0.151*\"interest\" + -0.144*\"absence\" + -0.144*\"equity\" + -0.142*\"consent\" + -0.119*\"act\" + -0.103*\"fact\" + -0.098*\"would\"')]\n"
          ]
        }
      ]
    },
    {
      "cell_type": "code",
      "metadata": {
        "id": "iyPRbC3m3gfl"
      },
      "source": [
        "#Calculating the coherence list\n",
        "dictionary,doc_term_matrix= prepare_corpus(doc_clean)\n",
        "model_list_lsa,coherence_values_lsa = compute_coherence_values(dictionary,doc_term_matrix,doc_clean,40,2,6)"
      ],
      "execution_count": 57,
      "outputs": []
    },
    {
      "cell_type": "code",
      "metadata": {
        "colab": {
          "base_uri": "https://localhost:8080/"
        },
        "id": "zJYdC3-Y3n07",
        "outputId": "7d19bd7f-ea1c-4b09-a49b-375e5df8b860"
      },
      "source": [
        "#Assigning the number of topics with coherence\n",
        "x = range(start, stop, step)\n",
        "for m, cv in zip(x, coherence_values_lsa):\n",
        "    print(\"Num Topics =\", m, \" has Coherence Value of\", round(cv, 4))"
      ],
      "execution_count": 58,
      "outputs": [
        {
          "output_type": "stream",
          "name": "stdout",
          "text": [
            "Num Topics = 2  has Coherence Value of 0.5191\n",
            "Num Topics = 3  has Coherence Value of 0.5384\n",
            "Num Topics = 4  has Coherence Value of 0.5399\n",
            "Num Topics = 5  has Coherence Value of 0.5333\n",
            "Num Topics = 6  has Coherence Value of 0.5371\n",
            "Num Topics = 7  has Coherence Value of 0.5826\n",
            "Num Topics = 8  has Coherence Value of 0.6107\n"
          ]
        }
      ]
    },
    {
      "cell_type": "markdown",
      "metadata": {
        "id": "AvCmPXo3a6b1"
      },
      "source": [
        "## (3) (10 points) Compare the results generated by the two topic modeling algorithms, which one is better? You should explain the reasons in details."
      ]
    },
    {
      "cell_type": "code",
      "metadata": {
        "colab": {
          "base_uri": "https://localhost:8080/",
          "height": 137
        },
        "id": "kv_xnZr2a6b1",
        "outputId": "27515c47-43d6-4388-c4b1-c7802387a504"
      },
      "source": [
        "'''\n",
        "LDA(Latent Dirichlet Allocation):\n",
        "LDA is a topic modelling method to classify text into their relevane topics. \n",
        "It uses the probalility of finding a word in the given text by comparing \n",
        "to the probability of topics and then the allocation of the topic is done. \n",
        "In this exercise the optimal number of topics using LDA method is 18 and the \n",
        "coherence score is 0.8\n",
        "\n",
        "\n",
        "LSA (Latent Semantic Analysis):\n",
        "LSA is also a topic moedlling concept where the topics are determined\n",
        "by converting words into single values using SVD. The output is then \n",
        "compared to the cosine values of the output of all topics. The topic \n",
        "which appears to have the highest cosine similarity is considered\n",
        "to be the key topic. Using LSA method in this exercise the number of\n",
        "topics is calculated to be 4 and coherence is 0.45\n",
        "\n",
        "\n",
        "On comparing the scores from both scores we can see LDA outcome for coherence\n",
        "is much higher then LSA method. The difference is almost double in size so higher\n",
        "the coherence score higher the chance of word to be aligned with topic. \n",
        "So, LDA method is the best method for the topic modelling in this exercise.\n",
        "\n",
        "'''"
      ],
      "execution_count": 59,
      "outputs": [
        {
          "output_type": "execute_result",
          "data": {
            "application/vnd.google.colaboratory.intrinsic+json": {
              "type": "string"
            },
            "text/plain": [
              "'\\nLDA(Latent Dirichlet Allocation):\\nLDA is a topic modelling method to classify text into their relevane topics. \\nIt uses the probalility of finding a word in the given text by comparing \\nto the probability of topics and then the allocation of the topic is done. \\nIn this exercise the optimal number of topics using LDA method is 18 and the \\ncoherence score is 0.8\\n\\n\\nLSA (Latent Semantic Analysis):\\nLSA is also a topic moedlling concept where the topics are determined\\nby converting words into single values using SVD. The output is then \\ncompared to the cosine values of the output of all topics. The topic \\nwhich appears to have the highest cosine similarity is considered\\nto be the key topic. Using LSA method in this exercise the number of\\ntopics is calculated to be 4 and coherence is 0.45\\n\\n\\nOn comparing the scores from both scores we can see LDA outcome for coherence\\nis much higher then LSA method. The difference is almost double in size so higher\\nthe coherence score higher the chance of word to be aligned with topic. \\nSo, LDA method is the best method for the topic modelling in this exercise.\\n\\n'"
            ]
          },
          "metadata": {},
          "execution_count": 59
        }
      ]
    }
  ]
}