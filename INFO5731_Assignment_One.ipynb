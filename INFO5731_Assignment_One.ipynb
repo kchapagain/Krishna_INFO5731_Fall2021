{
  "nbformat": 4,
  "nbformat_minor": 0,
  "metadata": {
    "colab": {
      "name": "INFO5731_Assignment_One.ipynb",
      "provenance": [],
      "collapsed_sections": [],
      "include_colab_link": true
    },
    "kernelspec": {
      "display_name": "Python 3",
      "language": "python",
      "name": "python3"
    },
    "language_info": {
      "codemirror_mode": {
        "name": "ipython",
        "version": 3
      },
      "file_extension": ".py",
      "mimetype": "text/x-python",
      "name": "python",
      "nbconvert_exporter": "python",
      "pygments_lexer": "ipython3",
      "version": "3.8.3"
    }
  },
  "cells": [
    {
      "cell_type": "markdown",
      "metadata": {
        "id": "view-in-github",
        "colab_type": "text"
      },
      "source": [
        "<a href=\"https://colab.research.google.com/github/kchapagain/Krishna_INFO5731_Fall2021/blob/main/INFO5731_Assignment_One.ipynb\" target=\"_parent\"><img src=\"https://colab.research.google.com/assets/colab-badge.svg\" alt=\"Open In Colab\"/></a>"
      ]
    },
    {
      "cell_type": "markdown",
      "metadata": {
        "id": "Ryk8D1Q4Wsrp"
      },
      "source": [
        "# **INFO5731 Assignment One**"
      ]
    },
    {
      "cell_type": "markdown",
      "metadata": {
        "id": "90_NR8c5XGWc"
      },
      "source": [
        "# Question 1\n",
        "\n",
        "(20 points). Write a Python program to generate 12 random numbers between 1 and 100. Sort the list of numbers in ascending order and print it out. Sort the list of numbers in descending order and print it out. Calculate the average for the group and print it out."
      ]
    },
    {
      "cell_type": "code",
      "metadata": {
        "colab": {
          "base_uri": "https://localhost:8080/"
        },
        "id": "5QX6bJjGWXY9",
        "outputId": "387686bc-6e5b-4d17-a857-f48ead1710b6"
      },
      "source": [
        "#Question(1)\n",
        "\n",
        "import random\n",
        "#Defining a function that will create 12 random intigera from 1 to 100\n",
        "def rand(start, end, num): \n",
        "    list = []\n",
        "    for i in range(num):\n",
        "        list.append(random.randint(start,end))\n",
        "    return list\n",
        "\n",
        "#This changes the random integers into list\n",
        "Group = list(rand(1,100,12))\n",
        "\n",
        "print('Group =',Group)\n",
        "\n",
        "#Sorting the List\n",
        "Asc = sorted(Group)\n",
        "Desc = sorted(Group, reverse = True)\n",
        "\n",
        "#Average of the list\n",
        "Avg = sum(Group) / len(Group)\n",
        "\n",
        "print('Ascending Order =', Asc)\n",
        "print('Descending Order =', Desc)\n",
        "print('Average =', Avg)"
      ],
      "execution_count": 1,
      "outputs": [
        {
          "output_type": "stream",
          "name": "stdout",
          "text": [
            "Group = [30, 26, 3, 56, 62, 80, 86, 4, 96, 18, 99, 80]\n",
            "Ascending Order = [3, 4, 18, 26, 30, 56, 62, 80, 80, 86, 96, 99]\n",
            "Descending Order = [99, 96, 86, 80, 80, 62, 56, 30, 26, 18, 4, 3]\n",
            "Average = 53.333333333333336\n"
          ]
        }
      ]
    },
    {
      "cell_type": "markdown",
      "metadata": {
        "id": "1F_PZdH9Sh49"
      },
      "source": [
        "# Question 2\n",
        "(25 points). Write a program that will do the following string formatting tasks:\n",
        "\n",
        "(1) Ask the user to enter two sentences.\n",
        "\n",
        "(2) Make each sentence into a list. Each element in the list should correspond to a word in the sentence. For example, if the sentence is \"Alas! Am I alive? This is my first python program\", the program should print out ['Alas, '!', 'Am', 'I', 'alive, '?', 'This', 'is', 'my', 'first', 'python', 'program'].\n",
        "\n",
        "(3) Compare the two sentences. Print out a list of words that occur in both sentences.\n",
        "\n",
        "(4) Remove any punctuation from the sentence and print it back out. It should remove at least the following characters, but it can remove more: period(“.”), comma (“,”), semicolon (“;”), and colon (“:”)\n",
        "\n",
        "(5) Count the number of vowels in the sentences. Print out each vowel and the number of times it appears in the sentences, such as: a:2, e:1, i:0, etc"
      ]
    },
    {
      "cell_type": "markdown",
      "metadata": {
        "id": "vWKAJRu6dRAL"
      },
      "source": [
        "Input Sentences: (Please Copy and Paste below two Sentences)\n",
        "\n",
        "Hi! This is Krishna, I am a Data Engineer and this program is to split the sentences into list.\n",
        "\n",
        "Being a Data Engineer; we have to be careful to split the special characters too."
      ]
    },
    {
      "cell_type": "code",
      "metadata": {
        "colab": {
          "base_uri": "https://localhost:8080/"
        },
        "id": "5s4f6FLBcQOu",
        "outputId": "a47b42ee-97d8-44ef-f882-907c05aa6fd3"
      },
      "source": [
        "#Question 2(1):\n",
        "\n",
        "#These are the two input sentences\n",
        "sentence1 = input('Please enter the first sentence ', )\n",
        "sentence2 = input('Please enter the second sentence ', )"
      ],
      "execution_count": 2,
      "outputs": [
        {
          "name": "stdout",
          "output_type": "stream",
          "text": [
            "Please enter the first sentence Hi! This is Krishna, I am a Data Engineer and this program is to split the sentences into list.\n",
            "Please enter the second sentence Being a Data Engineer; we have to be careful to split the special characters too.\n"
          ]
        }
      ]
    },
    {
      "cell_type": "code",
      "metadata": {
        "colab": {
          "base_uri": "https://localhost:8080/"
        },
        "id": "vnNdE0FsdktW",
        "outputId": "4ef51aba-9511-4cd0-af93-c079ba0fe67b"
      },
      "source": [
        "#Question 2(2):\n",
        "\n",
        "import re\n",
        "def split(sentence):\n",
        "    return re.findall(r\"[A-Za-z]+|\\S\", sentence)\n",
        "\n",
        "list1 = list(split(sentence1)) # split function is used to get each words and characters seperate\n",
        "list2 = list(split(sentence2))\n",
        "\n",
        "print('First Sentence:  \\n', list1)\n",
        "print('\\nSecond Sentence: \\n', list2)"
      ],
      "execution_count": 3,
      "outputs": [
        {
          "output_type": "stream",
          "name": "stdout",
          "text": [
            "First Sentence:  \n",
            " ['Hi', '!', 'This', 'is', 'Krishna', ',', 'I', 'am', 'a', 'Data', 'Engineer', 'and', 'this', 'program', 'is', 'to', 'split', 'the', 'sentences', 'into', 'list', '.']\n",
            "\n",
            "Second Sentence: \n",
            " ['Being', 'a', 'Data', 'Engineer', ';', 'we', 'have', 'to', 'be', 'careful', 'to', 'split', 'the', 'special', 'characters', 'too', '.']\n"
          ]
        }
      ]
    },
    {
      "cell_type": "code",
      "metadata": {
        "colab": {
          "base_uri": "https://localhost:8080/"
        },
        "id": "Cd6OBuUFdoGD",
        "outputId": "6c430d41-ea3d-40be-f858-988f9e1ad777"
      },
      "source": [
        "#Question 2(3):\n",
        "\n",
        "common = []\n",
        "\n",
        "#Extracting the common words from two sentences\n",
        "for i in set(list1):\n",
        "    for j in set(list2):\n",
        "        if i==j and len(i)>1:\n",
        "            common.append(i)\n",
        "\n",
        "print('List of Common Words: ', common)"
      ],
      "execution_count": 4,
      "outputs": [
        {
          "output_type": "stream",
          "name": "stdout",
          "text": [
            "List of Common Words:  ['Engineer', 'the', 'to', 'Data', 'split']\n"
          ]
        }
      ]
    },
    {
      "cell_type": "code",
      "metadata": {
        "colab": {
          "base_uri": "https://localhost:8080/"
        },
        "id": "hZLZC4VWdrML",
        "outputId": "bfa4b4cf-b03d-4cf6-d11f-69fba2f1cf41"
      },
      "source": [
        "#Question 2(4):\n",
        "\n",
        "#Split the original sentence ignoring punctuation\n",
        "def remove_punctuation(sentence):\n",
        "    return re.findall(r\"[A-Za-z]+\", sentence)\n",
        "\n",
        "#List of words without punctuation\n",
        "list3 = list(remove_punctuation(sentence1))\n",
        "list4 = list(remove_punctuation(sentence2))\n",
        "\n",
        "#Original Sentences joining back without punctuation\n",
        "sentence1_no_punctuation = ' '.join(list3)\n",
        "sentence2_no_punctuation = ' '.join(list4)\n",
        "\n",
        "#Final Original Sentences\n",
        "print(sentence1_no_punctuation)\n",
        "print(sentence2_no_punctuation)"
      ],
      "execution_count": 5,
      "outputs": [
        {
          "output_type": "stream",
          "name": "stdout",
          "text": [
            "Hi This is Krishna I am a Data Engineer and this program is to split the sentences into list\n",
            "Being a Data Engineer we have to be careful to split the special characters too\n"
          ]
        }
      ]
    },
    {
      "cell_type": "code",
      "metadata": {
        "colab": {
          "base_uri": "https://localhost:8080/"
        },
        "id": "Uw_Z5bpUdzO2",
        "outputId": "7ddac175-982e-49fc-804a-e839f6d07420"
      },
      "source": [
        "#Question 2(5):\n",
        "\n",
        "vowels = 'aeiou'\n",
        "def Vow_Check(sentence):\n",
        "    \n",
        "    #Changing all the words lowercase\n",
        "    Sent = sentence.casefold()\n",
        "    \n",
        "    #Assigning a dictionary\n",
        "    vowel = {}.fromkeys(vowels, 0)\n",
        "    \n",
        "    for i in Sent:\n",
        "        if i in vowel:\n",
        "            vowel[i] +=1\n",
        "    return vowel\n",
        "        \n",
        "print('Vowels in Sentence1: ', Vow_Check(sentence1_no_punctuation))\n",
        "print('Vowels in Sentence2: ', Vow_Check(sentence2_no_punctuation))"
      ],
      "execution_count": 6,
      "outputs": [
        {
          "output_type": "stream",
          "name": "stdout",
          "text": [
            "Vowels in Sentence1:  {'a': 7, 'e': 7, 'i': 11, 'o': 3, 'u': 0}\n",
            "Vowels in Sentence2:  {'a': 8, 'e': 11, 'i': 4, 'o': 4, 'u': 1}\n"
          ]
        }
      ]
    },
    {
      "cell_type": "markdown",
      "metadata": {
        "id": "CmFoI4jDS9nx"
      },
      "source": [
        "# Question 3 \n",
        "\n",
        "(15 points). The formula that describes the volume V of a sphere with radius r is the following:\n",
        "\n",
        "$ V=\\frac{4}{3}\\ast\\ \\pi\\ast\\ r^3 $\n",
        "\n",
        "Write a program to calculate the value of V when r is in the range of 1–10. Output the result in the following format:\n",
        "\n",
        "\tr\tV\n",
        "\t1\t…\n",
        "\t2\t…\n",
        "\t3\t…\n"
      ]
    },
    {
      "cell_type": "code",
      "metadata": {
        "colab": {
          "base_uri": "https://localhost:8080/"
        },
        "id": "pEyqeioAT95b",
        "outputId": "46a7218f-37d1-45e8-cf87-fc404aa83dbb"
      },
      "source": [
        "#Question 3\n",
        "\n",
        "from math import *\n",
        "\n",
        "#Creating question format\n",
        "print('r ','   ',' V')\n",
        "\n",
        "#Applying formula and getting outputs for Volume\n",
        "for r in range(1,11):\n",
        "    V = (4/3)*pi*r**3\n",
        "    print(r,'   ',V)\n",
        "\n"
      ],
      "execution_count": 7,
      "outputs": [
        {
          "output_type": "stream",
          "name": "stdout",
          "text": [
            "r       V\n",
            "1     4.1887902047863905\n",
            "2     33.510321638291124\n",
            "3     113.09733552923254\n",
            "4     268.082573106329\n",
            "5     523.5987755982989\n",
            "6     904.7786842338603\n",
            "7     1436.7550402417319\n",
            "8     2144.660584850632\n",
            "9     3053.6280592892786\n",
            "10     4188.790204786391\n"
          ]
        }
      ]
    },
    {
      "cell_type": "markdown",
      "metadata": {
        "id": "z3tBE7E-Xn5X"
      },
      "source": [
        "# Question 4\n",
        "\n",
        "(40 points). In the field of Data Science, data is often formatted as a comma-delimited (CSV) file, where each line in a file corresponds to a field's value. Refer to Chapter 9 (p. 106) for more information on comma-delimited files. To answer this question, you will need to download the file [Assignment1_denton_housing.csv](https://github.com/unt-iialab/info5731-fall2021/blob/main/assignments/Assignment1_denton_housing.csv) included with this assignment. The file [Assignment1_denton_housing.csv](https://github.com/unt-iialab/info5731-fall2021/blob/main/assignments/Assignment1_denton_housing.csv) contains statistics about housing in the city of Denton from 2008 to 2014. Write a program to implement the following questions.\n",
        "\n",
        "(1) (10 pts) Calculate the difference in the number of Occupied Housing Units from year to year and print it. The difference must be calculated for the consecutive years such as 2008-2009, 2009-2010 etc. Finally, print the values in the ascending order.\n",
        "\n",
        "(2) (10 pts) For all the years, calculate the percentage of housing units which are vacant an occupied. Print the results in the following format:\n",
        "\n",
        "Year Vacant Housing Units Occupied Housing Units\n",
        "\n",
        "    2008  30%   70%                          \n",
        "\t2009 ----- -----\n",
        "\t2010 ----- -----\n",
        "    2011 ----- -----\n",
        "\t2012 ----- -----\n",
        "    2013 ----- -----\n",
        "\t2014 ----- -----\n",
        "  \n",
        "  \n",
        "\n",
        "(3) (10 pts) Calculate and print the valued and years in which the highest number of housing units were vacant and occupied. Print the results in the following format:  \n",
        "\n",
        "                              Year\tValue\n",
        "\tVacant Housing Units\t  -----   -----\n",
        "\tOccupied Housing Units\t-----   -----\n",
        "\n",
        "(4) (10 pts) Calculate the harmonic mean of the total housing units and print it out. You can find the information about harmonic mean here: https://ncalculators.com/statistics/harmonic-mean-calculator.htm"
      ]
    },
    {
      "cell_type": "code",
      "metadata": {
        "colab": {
          "resources": {
            "http://localhost:8080/nbextensions/google.colab/files.js": {
              "data": "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",
              "ok": true,
              "headers": [
                [
                  "content-type",
                  "application/javascript"
                ]
              ],
              "status": 200,
              "status_text": ""
            }
          },
          "base_uri": "https://localhost:8080/",
          "height": 72
        },
        "id": "lqGYuHBhcsRH",
        "outputId": "20a4395e-0ec7-4a17-afb5-25d1782b991a"
      },
      "source": [
        "from google.colab import files # This will import the required csv file to colab for easy access\n",
        "uploaded = files.upload()"
      ],
      "execution_count": 8,
      "outputs": [
        {
          "output_type": "display_data",
          "data": {
            "text/html": [
              "\n",
              "     <input type=\"file\" id=\"files-425eacd2-06b8-4640-8bee-b8ed1518ceaf\" name=\"files[]\" multiple disabled\n",
              "        style=\"border:none\" />\n",
              "     <output id=\"result-425eacd2-06b8-4640-8bee-b8ed1518ceaf\">\n",
              "      Upload widget is only available when the cell has been executed in the\n",
              "      current browser session. Please rerun this cell to enable.\n",
              "      </output>\n",
              "      <script src=\"/nbextensions/google.colab/files.js\"></script> "
            ],
            "text/plain": [
              "<IPython.core.display.HTML object>"
            ]
          },
          "metadata": {}
        },
        {
          "output_type": "stream",
          "name": "stdout",
          "text": [
            "Saving Assignment1_denton_housing.csv to Assignment1_denton_housing (1).csv\n"
          ]
        }
      ]
    },
    {
      "cell_type": "code",
      "metadata": {
        "colab": {
          "base_uri": "https://localhost:8080/",
          "height": 1000
        },
        "id": "9IldpShKfIuS",
        "outputId": "bba81983-9414-4c05-f647-605e15fae100"
      },
      "source": [
        "#Question 4\n",
        "\n",
        "#Importing the table as it is.\n",
        "import pandas as pd\n",
        "Housing = pd.read_csv('Assignment1_denton_housing.csv')\n",
        "Housing"
      ],
      "execution_count": 9,
      "outputs": [
        {
          "output_type": "execute_result",
          "data": {
            "text/html": [
              "<div>\n",
              "<style scoped>\n",
              "    .dataframe tbody tr th:only-of-type {\n",
              "        vertical-align: middle;\n",
              "    }\n",
              "\n",
              "    .dataframe tbody tr th {\n",
              "        vertical-align: top;\n",
              "    }\n",
              "\n",
              "    .dataframe thead th {\n",
              "        text-align: right;\n",
              "    }\n",
              "</style>\n",
              "<table border=\"1\" class=\"dataframe\">\n",
              "  <thead>\n",
              "    <tr style=\"text-align: right;\">\n",
              "      <th></th>\n",
              "      <th>year</th>\n",
              "      <th>title_field</th>\n",
              "      <th>value</th>\n",
              "    </tr>\n",
              "  </thead>\n",
              "  <tbody>\n",
              "    <tr>\n",
              "      <th>0</th>\n",
              "      <td>2014</td>\n",
              "      <td>Total Housing Units</td>\n",
              "      <td>49109</td>\n",
              "    </tr>\n",
              "    <tr>\n",
              "      <th>1</th>\n",
              "      <td>2014</td>\n",
              "      <td>Vacant Housing Units</td>\n",
              "      <td>2814</td>\n",
              "    </tr>\n",
              "    <tr>\n",
              "      <th>2</th>\n",
              "      <td>2014</td>\n",
              "      <td>Occupied Housing Units</td>\n",
              "      <td>46295</td>\n",
              "    </tr>\n",
              "    <tr>\n",
              "      <th>3</th>\n",
              "      <td>2014</td>\n",
              "      <td>Owner Occupied</td>\n",
              "      <td>21427</td>\n",
              "    </tr>\n",
              "    <tr>\n",
              "      <th>4</th>\n",
              "      <td>2014</td>\n",
              "      <td>Renter Occupied</td>\n",
              "      <td>24868</td>\n",
              "    </tr>\n",
              "    <tr>\n",
              "      <th>5</th>\n",
              "      <td>2014</td>\n",
              "      <td>Median Gross Rent</td>\n",
              "      <td>905</td>\n",
              "    </tr>\n",
              "    <tr>\n",
              "      <th>6</th>\n",
              "      <td>2013</td>\n",
              "      <td>Total Housing Units</td>\n",
              "      <td>47888</td>\n",
              "    </tr>\n",
              "    <tr>\n",
              "      <th>7</th>\n",
              "      <td>2013</td>\n",
              "      <td>Vacant Housing Units</td>\n",
              "      <td>4215</td>\n",
              "    </tr>\n",
              "    <tr>\n",
              "      <th>8</th>\n",
              "      <td>2013</td>\n",
              "      <td>Occupied Housing Units</td>\n",
              "      <td>43673</td>\n",
              "    </tr>\n",
              "    <tr>\n",
              "      <th>9</th>\n",
              "      <td>2013</td>\n",
              "      <td>Owner Occupied</td>\n",
              "      <td>20845</td>\n",
              "    </tr>\n",
              "    <tr>\n",
              "      <th>10</th>\n",
              "      <td>2013</td>\n",
              "      <td>Renter Occupied</td>\n",
              "      <td>22828</td>\n",
              "    </tr>\n",
              "    <tr>\n",
              "      <th>11</th>\n",
              "      <td>2013</td>\n",
              "      <td>Median Gross Rent</td>\n",
              "      <td>887</td>\n",
              "    </tr>\n",
              "    <tr>\n",
              "      <th>12</th>\n",
              "      <td>2012</td>\n",
              "      <td>Total Housing Units</td>\n",
              "      <td>45121</td>\n",
              "    </tr>\n",
              "    <tr>\n",
              "      <th>13</th>\n",
              "      <td>2012</td>\n",
              "      <td>Vacant Housing Units</td>\n",
              "      <td>3013</td>\n",
              "    </tr>\n",
              "    <tr>\n",
              "      <th>14</th>\n",
              "      <td>2012</td>\n",
              "      <td>Occupied Housing Units</td>\n",
              "      <td>42108</td>\n",
              "    </tr>\n",
              "    <tr>\n",
              "      <th>15</th>\n",
              "      <td>2012</td>\n",
              "      <td>Owner Occupied</td>\n",
              "      <td>20068</td>\n",
              "    </tr>\n",
              "    <tr>\n",
              "      <th>16</th>\n",
              "      <td>2012</td>\n",
              "      <td>Renter Occupied</td>\n",
              "      <td>22040</td>\n",
              "    </tr>\n",
              "    <tr>\n",
              "      <th>17</th>\n",
              "      <td>2012</td>\n",
              "      <td>Median Gross Rent</td>\n",
              "      <td>842</td>\n",
              "    </tr>\n",
              "    <tr>\n",
              "      <th>18</th>\n",
              "      <td>2011</td>\n",
              "      <td>Total Housing Units</td>\n",
              "      <td>44917</td>\n",
              "    </tr>\n",
              "    <tr>\n",
              "      <th>19</th>\n",
              "      <td>2011</td>\n",
              "      <td>Vacant Housing Units</td>\n",
              "      <td>4213</td>\n",
              "    </tr>\n",
              "    <tr>\n",
              "      <th>20</th>\n",
              "      <td>2011</td>\n",
              "      <td>Occupied Housing Units</td>\n",
              "      <td>40704</td>\n",
              "    </tr>\n",
              "    <tr>\n",
              "      <th>21</th>\n",
              "      <td>2011</td>\n",
              "      <td>Owner Occupied</td>\n",
              "      <td>18478</td>\n",
              "    </tr>\n",
              "    <tr>\n",
              "      <th>22</th>\n",
              "      <td>2011</td>\n",
              "      <td>Renter Occupied</td>\n",
              "      <td>22226</td>\n",
              "    </tr>\n",
              "    <tr>\n",
              "      <th>23</th>\n",
              "      <td>2011</td>\n",
              "      <td>Median Gross Rent</td>\n",
              "      <td>821</td>\n",
              "    </tr>\n",
              "    <tr>\n",
              "      <th>24</th>\n",
              "      <td>2010</td>\n",
              "      <td>Total Housing Units</td>\n",
              "      <td>44642</td>\n",
              "    </tr>\n",
              "    <tr>\n",
              "      <th>25</th>\n",
              "      <td>2010</td>\n",
              "      <td>Vacant Housing Units</td>\n",
              "      <td>3635</td>\n",
              "    </tr>\n",
              "    <tr>\n",
              "      <th>26</th>\n",
              "      <td>2010</td>\n",
              "      <td>Occupied Housing Units</td>\n",
              "      <td>41007</td>\n",
              "    </tr>\n",
              "    <tr>\n",
              "      <th>27</th>\n",
              "      <td>2010</td>\n",
              "      <td>Owner Occupied</td>\n",
              "      <td>18867</td>\n",
              "    </tr>\n",
              "    <tr>\n",
              "      <th>28</th>\n",
              "      <td>2010</td>\n",
              "      <td>Renter Occupied</td>\n",
              "      <td>22140</td>\n",
              "    </tr>\n",
              "    <tr>\n",
              "      <th>29</th>\n",
              "      <td>2010</td>\n",
              "      <td>Median Gross Rent</td>\n",
              "      <td>780</td>\n",
              "    </tr>\n",
              "    <tr>\n",
              "      <th>30</th>\n",
              "      <td>2009</td>\n",
              "      <td>Total Housing Units</td>\n",
              "      <td>39499</td>\n",
              "    </tr>\n",
              "    <tr>\n",
              "      <th>31</th>\n",
              "      <td>2009</td>\n",
              "      <td>Vacant Housing Units</td>\n",
              "      <td>3583</td>\n",
              "    </tr>\n",
              "    <tr>\n",
              "      <th>32</th>\n",
              "      <td>2009</td>\n",
              "      <td>Occupied Housing Units</td>\n",
              "      <td>35916</td>\n",
              "    </tr>\n",
              "    <tr>\n",
              "      <th>33</th>\n",
              "      <td>2009</td>\n",
              "      <td>Owner Occupied</td>\n",
              "      <td>18057</td>\n",
              "    </tr>\n",
              "    <tr>\n",
              "      <th>34</th>\n",
              "      <td>2009</td>\n",
              "      <td>Renter Occupied</td>\n",
              "      <td>17859</td>\n",
              "    </tr>\n",
              "    <tr>\n",
              "      <th>35</th>\n",
              "      <td>2009</td>\n",
              "      <td>Median Gross Rent</td>\n",
              "      <td>769</td>\n",
              "    </tr>\n",
              "    <tr>\n",
              "      <th>36</th>\n",
              "      <td>2008</td>\n",
              "      <td>Total Housing Units</td>\n",
              "      <td>41194</td>\n",
              "    </tr>\n",
              "    <tr>\n",
              "      <th>37</th>\n",
              "      <td>2008</td>\n",
              "      <td>Vacant Housing Units</td>\n",
              "      <td>4483</td>\n",
              "    </tr>\n",
              "    <tr>\n",
              "      <th>38</th>\n",
              "      <td>2008</td>\n",
              "      <td>Occupied Housing Units</td>\n",
              "      <td>36711</td>\n",
              "    </tr>\n",
              "    <tr>\n",
              "      <th>39</th>\n",
              "      <td>2008</td>\n",
              "      <td>Owner Occupied</td>\n",
              "      <td>17340</td>\n",
              "    </tr>\n",
              "    <tr>\n",
              "      <th>40</th>\n",
              "      <td>2008</td>\n",
              "      <td>Renter Occupied</td>\n",
              "      <td>19371</td>\n",
              "    </tr>\n",
              "    <tr>\n",
              "      <th>41</th>\n",
              "      <td>2008</td>\n",
              "      <td>Median Gross Rent</td>\n",
              "      <td>768</td>\n",
              "    </tr>\n",
              "  </tbody>\n",
              "</table>\n",
              "</div>"
            ],
            "text/plain": [
              "    year             title_field  value\n",
              "0   2014     Total Housing Units  49109\n",
              "1   2014    Vacant Housing Units   2814\n",
              "2   2014  Occupied Housing Units  46295\n",
              "3   2014          Owner Occupied  21427\n",
              "4   2014         Renter Occupied  24868\n",
              "5   2014       Median Gross Rent    905\n",
              "6   2013     Total Housing Units  47888\n",
              "7   2013    Vacant Housing Units   4215\n",
              "8   2013  Occupied Housing Units  43673\n",
              "9   2013          Owner Occupied  20845\n",
              "10  2013         Renter Occupied  22828\n",
              "11  2013       Median Gross Rent    887\n",
              "12  2012     Total Housing Units  45121\n",
              "13  2012    Vacant Housing Units   3013\n",
              "14  2012  Occupied Housing Units  42108\n",
              "15  2012          Owner Occupied  20068\n",
              "16  2012         Renter Occupied  22040\n",
              "17  2012       Median Gross Rent    842\n",
              "18  2011     Total Housing Units  44917\n",
              "19  2011    Vacant Housing Units   4213\n",
              "20  2011  Occupied Housing Units  40704\n",
              "21  2011          Owner Occupied  18478\n",
              "22  2011         Renter Occupied  22226\n",
              "23  2011       Median Gross Rent    821\n",
              "24  2010     Total Housing Units  44642\n",
              "25  2010    Vacant Housing Units   3635\n",
              "26  2010  Occupied Housing Units  41007\n",
              "27  2010          Owner Occupied  18867\n",
              "28  2010         Renter Occupied  22140\n",
              "29  2010       Median Gross Rent    780\n",
              "30  2009     Total Housing Units  39499\n",
              "31  2009    Vacant Housing Units   3583\n",
              "32  2009  Occupied Housing Units  35916\n",
              "33  2009          Owner Occupied  18057\n",
              "34  2009         Renter Occupied  17859\n",
              "35  2009       Median Gross Rent    769\n",
              "36  2008     Total Housing Units  41194\n",
              "37  2008    Vacant Housing Units   4483\n",
              "38  2008  Occupied Housing Units  36711\n",
              "39  2008          Owner Occupied  17340\n",
              "40  2008         Renter Occupied  19371\n",
              "41  2008       Median Gross Rent    768"
            ]
          },
          "metadata": {},
          "execution_count": 9
        }
      ]
    },
    {
      "cell_type": "code",
      "metadata": {
        "colab": {
          "base_uri": "https://localhost:8080/",
          "height": 266
        },
        "id": "AIe63ImdfOEF",
        "outputId": "b260a121-a119-4c00-a819-7a9ea8a899b7"
      },
      "source": [
        "# Organizing table to make the analysis easier\n",
        "\n",
        "Housing_data = Housing.pivot( index = 'year',columns = 'title_field', values = 'value')\n",
        "Housing_data = Housing_data.reset_index()\n",
        "Housing_data"
      ],
      "execution_count": 10,
      "outputs": [
        {
          "output_type": "execute_result",
          "data": {
            "text/html": [
              "<div>\n",
              "<style scoped>\n",
              "    .dataframe tbody tr th:only-of-type {\n",
              "        vertical-align: middle;\n",
              "    }\n",
              "\n",
              "    .dataframe tbody tr th {\n",
              "        vertical-align: top;\n",
              "    }\n",
              "\n",
              "    .dataframe thead th {\n",
              "        text-align: right;\n",
              "    }\n",
              "</style>\n",
              "<table border=\"1\" class=\"dataframe\">\n",
              "  <thead>\n",
              "    <tr style=\"text-align: right;\">\n",
              "      <th>title_field</th>\n",
              "      <th>year</th>\n",
              "      <th>Median Gross Rent</th>\n",
              "      <th>Occupied Housing Units</th>\n",
              "      <th>Owner Occupied</th>\n",
              "      <th>Renter Occupied</th>\n",
              "      <th>Total Housing Units</th>\n",
              "      <th>Vacant Housing Units</th>\n",
              "    </tr>\n",
              "  </thead>\n",
              "  <tbody>\n",
              "    <tr>\n",
              "      <th>0</th>\n",
              "      <td>2008</td>\n",
              "      <td>768</td>\n",
              "      <td>36711</td>\n",
              "      <td>17340</td>\n",
              "      <td>19371</td>\n",
              "      <td>41194</td>\n",
              "      <td>4483</td>\n",
              "    </tr>\n",
              "    <tr>\n",
              "      <th>1</th>\n",
              "      <td>2009</td>\n",
              "      <td>769</td>\n",
              "      <td>35916</td>\n",
              "      <td>18057</td>\n",
              "      <td>17859</td>\n",
              "      <td>39499</td>\n",
              "      <td>3583</td>\n",
              "    </tr>\n",
              "    <tr>\n",
              "      <th>2</th>\n",
              "      <td>2010</td>\n",
              "      <td>780</td>\n",
              "      <td>41007</td>\n",
              "      <td>18867</td>\n",
              "      <td>22140</td>\n",
              "      <td>44642</td>\n",
              "      <td>3635</td>\n",
              "    </tr>\n",
              "    <tr>\n",
              "      <th>3</th>\n",
              "      <td>2011</td>\n",
              "      <td>821</td>\n",
              "      <td>40704</td>\n",
              "      <td>18478</td>\n",
              "      <td>22226</td>\n",
              "      <td>44917</td>\n",
              "      <td>4213</td>\n",
              "    </tr>\n",
              "    <tr>\n",
              "      <th>4</th>\n",
              "      <td>2012</td>\n",
              "      <td>842</td>\n",
              "      <td>42108</td>\n",
              "      <td>20068</td>\n",
              "      <td>22040</td>\n",
              "      <td>45121</td>\n",
              "      <td>3013</td>\n",
              "    </tr>\n",
              "    <tr>\n",
              "      <th>5</th>\n",
              "      <td>2013</td>\n",
              "      <td>887</td>\n",
              "      <td>43673</td>\n",
              "      <td>20845</td>\n",
              "      <td>22828</td>\n",
              "      <td>47888</td>\n",
              "      <td>4215</td>\n",
              "    </tr>\n",
              "    <tr>\n",
              "      <th>6</th>\n",
              "      <td>2014</td>\n",
              "      <td>905</td>\n",
              "      <td>46295</td>\n",
              "      <td>21427</td>\n",
              "      <td>24868</td>\n",
              "      <td>49109</td>\n",
              "      <td>2814</td>\n",
              "    </tr>\n",
              "  </tbody>\n",
              "</table>\n",
              "</div>"
            ],
            "text/plain": [
              "title_field  year  Median Gross Rent  ...  Total Housing Units  Vacant Housing Units\n",
              "0            2008                768  ...                41194                  4483\n",
              "1            2009                769  ...                39499                  3583\n",
              "2            2010                780  ...                44642                  3635\n",
              "3            2011                821  ...                44917                  4213\n",
              "4            2012                842  ...                45121                  3013\n",
              "5            2013                887  ...                47888                  4215\n",
              "6            2014                905  ...                49109                  2814\n",
              "\n",
              "[7 rows x 7 columns]"
            ]
          },
          "metadata": {},
          "execution_count": 10
        }
      ]
    },
    {
      "cell_type": "code",
      "metadata": {
        "colab": {
          "base_uri": "https://localhost:8080/",
          "height": 354
        },
        "id": "pvZ0nET7fR3o",
        "outputId": "200ef41d-ffc7-457e-dc9e-34bcc4e51f21"
      },
      "source": [
        "# Question 4(1)\n",
        "\n",
        "Difference_Consecutive_years = pd.DataFrame()\n",
        "\n",
        "#This will create the years range\n",
        "Difference_Consecutive_years['Years_Range'] = ['2008-2009','2009-2010','2010-2011','2011-2012','2012-2013','2013-2014']\n",
        "\n",
        "#This will calculate the consecutive difference of Occupied Housing Units\n",
        "Difference_Consecutive_years['Consecutive_Difference'] = abs(Housing_data[\"Occupied Housing Units\"].diff(-1))\n",
        "print(Difference_Consecutive_years)\n",
        "\n",
        "#Sorting the difference in ascending order\n",
        "Difference_Consecutive_years.sort_values(by=['Consecutive_Difference'])"
      ],
      "execution_count": 11,
      "outputs": [
        {
          "output_type": "stream",
          "name": "stdout",
          "text": [
            "  Years_Range  Consecutive_Difference\n",
            "0   2008-2009                   795.0\n",
            "1   2009-2010                  5091.0\n",
            "2   2010-2011                   303.0\n",
            "3   2011-2012                  1404.0\n",
            "4   2012-2013                  1565.0\n",
            "5   2013-2014                  2622.0\n"
          ]
        },
        {
          "output_type": "execute_result",
          "data": {
            "text/html": [
              "<div>\n",
              "<style scoped>\n",
              "    .dataframe tbody tr th:only-of-type {\n",
              "        vertical-align: middle;\n",
              "    }\n",
              "\n",
              "    .dataframe tbody tr th {\n",
              "        vertical-align: top;\n",
              "    }\n",
              "\n",
              "    .dataframe thead th {\n",
              "        text-align: right;\n",
              "    }\n",
              "</style>\n",
              "<table border=\"1\" class=\"dataframe\">\n",
              "  <thead>\n",
              "    <tr style=\"text-align: right;\">\n",
              "      <th></th>\n",
              "      <th>Years_Range</th>\n",
              "      <th>Consecutive_Difference</th>\n",
              "    </tr>\n",
              "  </thead>\n",
              "  <tbody>\n",
              "    <tr>\n",
              "      <th>2</th>\n",
              "      <td>2010-2011</td>\n",
              "      <td>303.0</td>\n",
              "    </tr>\n",
              "    <tr>\n",
              "      <th>0</th>\n",
              "      <td>2008-2009</td>\n",
              "      <td>795.0</td>\n",
              "    </tr>\n",
              "    <tr>\n",
              "      <th>3</th>\n",
              "      <td>2011-2012</td>\n",
              "      <td>1404.0</td>\n",
              "    </tr>\n",
              "    <tr>\n",
              "      <th>4</th>\n",
              "      <td>2012-2013</td>\n",
              "      <td>1565.0</td>\n",
              "    </tr>\n",
              "    <tr>\n",
              "      <th>5</th>\n",
              "      <td>2013-2014</td>\n",
              "      <td>2622.0</td>\n",
              "    </tr>\n",
              "    <tr>\n",
              "      <th>1</th>\n",
              "      <td>2009-2010</td>\n",
              "      <td>5091.0</td>\n",
              "    </tr>\n",
              "  </tbody>\n",
              "</table>\n",
              "</div>"
            ],
            "text/plain": [
              "  Years_Range  Consecutive_Difference\n",
              "2   2010-2011                   303.0\n",
              "0   2008-2009                   795.0\n",
              "3   2011-2012                  1404.0\n",
              "4   2012-2013                  1565.0\n",
              "5   2013-2014                  2622.0\n",
              "1   2009-2010                  5091.0"
            ]
          },
          "metadata": {},
          "execution_count": 11
        }
      ]
    },
    {
      "cell_type": "code",
      "metadata": {
        "colab": {
          "base_uri": "https://localhost:8080/",
          "height": 187
        },
        "id": "6xQ7bfvbfU7w",
        "outputId": "8900d45b-8086-4136-b5f6-4997eab5d8b3"
      },
      "source": [
        "#Question 4(2)\n",
        "\n",
        "Percent = pd.DataFrame()\n",
        "Percent['Years'] = Housing_data['year']\n",
        "\n",
        "#Calculating Percent\n",
        "Percent['Vacant Housing Units'] = (Housing_data['Vacant Housing Units'] / Housing_data['Total Housing Units'])\n",
        "Percent['Occupied Housing Units'] = (Housing_data['Occupied Housing Units'] / Housing_data['Total Housing Units'])\n",
        "\n",
        "#Formatting Percent in %\n",
        "Percent.style.format({'Vacant Housing Units' : \"{:.2%}\" , 'Occupied Housing Units' : \"{:.2%}\" })"
      ],
      "execution_count": 12,
      "outputs": [
        {
          "output_type": "execute_result",
          "data": {
            "text/html": [
              "<style  type=\"text/css\" >\n",
              "</style><table id=\"T_0866389c_15af_11ec_805d_0242ac1c0002\" ><thead>    <tr>        <th class=\"blank level0\" ></th>        <th class=\"col_heading level0 col0\" >Years</th>        <th class=\"col_heading level0 col1\" >Vacant Housing Units</th>        <th class=\"col_heading level0 col2\" >Occupied Housing Units</th>    </tr></thead><tbody>\n",
              "                <tr>\n",
              "                        <th id=\"T_0866389c_15af_11ec_805d_0242ac1c0002level0_row0\" class=\"row_heading level0 row0\" >0</th>\n",
              "                        <td id=\"T_0866389c_15af_11ec_805d_0242ac1c0002row0_col0\" class=\"data row0 col0\" >2008</td>\n",
              "                        <td id=\"T_0866389c_15af_11ec_805d_0242ac1c0002row0_col1\" class=\"data row0 col1\" >10.88%</td>\n",
              "                        <td id=\"T_0866389c_15af_11ec_805d_0242ac1c0002row0_col2\" class=\"data row0 col2\" >89.12%</td>\n",
              "            </tr>\n",
              "            <tr>\n",
              "                        <th id=\"T_0866389c_15af_11ec_805d_0242ac1c0002level0_row1\" class=\"row_heading level0 row1\" >1</th>\n",
              "                        <td id=\"T_0866389c_15af_11ec_805d_0242ac1c0002row1_col0\" class=\"data row1 col0\" >2009</td>\n",
              "                        <td id=\"T_0866389c_15af_11ec_805d_0242ac1c0002row1_col1\" class=\"data row1 col1\" >9.07%</td>\n",
              "                        <td id=\"T_0866389c_15af_11ec_805d_0242ac1c0002row1_col2\" class=\"data row1 col2\" >90.93%</td>\n",
              "            </tr>\n",
              "            <tr>\n",
              "                        <th id=\"T_0866389c_15af_11ec_805d_0242ac1c0002level0_row2\" class=\"row_heading level0 row2\" >2</th>\n",
              "                        <td id=\"T_0866389c_15af_11ec_805d_0242ac1c0002row2_col0\" class=\"data row2 col0\" >2010</td>\n",
              "                        <td id=\"T_0866389c_15af_11ec_805d_0242ac1c0002row2_col1\" class=\"data row2 col1\" >8.14%</td>\n",
              "                        <td id=\"T_0866389c_15af_11ec_805d_0242ac1c0002row2_col2\" class=\"data row2 col2\" >91.86%</td>\n",
              "            </tr>\n",
              "            <tr>\n",
              "                        <th id=\"T_0866389c_15af_11ec_805d_0242ac1c0002level0_row3\" class=\"row_heading level0 row3\" >3</th>\n",
              "                        <td id=\"T_0866389c_15af_11ec_805d_0242ac1c0002row3_col0\" class=\"data row3 col0\" >2011</td>\n",
              "                        <td id=\"T_0866389c_15af_11ec_805d_0242ac1c0002row3_col1\" class=\"data row3 col1\" >9.38%</td>\n",
              "                        <td id=\"T_0866389c_15af_11ec_805d_0242ac1c0002row3_col2\" class=\"data row3 col2\" >90.62%</td>\n",
              "            </tr>\n",
              "            <tr>\n",
              "                        <th id=\"T_0866389c_15af_11ec_805d_0242ac1c0002level0_row4\" class=\"row_heading level0 row4\" >4</th>\n",
              "                        <td id=\"T_0866389c_15af_11ec_805d_0242ac1c0002row4_col0\" class=\"data row4 col0\" >2012</td>\n",
              "                        <td id=\"T_0866389c_15af_11ec_805d_0242ac1c0002row4_col1\" class=\"data row4 col1\" >6.68%</td>\n",
              "                        <td id=\"T_0866389c_15af_11ec_805d_0242ac1c0002row4_col2\" class=\"data row4 col2\" >93.32%</td>\n",
              "            </tr>\n",
              "            <tr>\n",
              "                        <th id=\"T_0866389c_15af_11ec_805d_0242ac1c0002level0_row5\" class=\"row_heading level0 row5\" >5</th>\n",
              "                        <td id=\"T_0866389c_15af_11ec_805d_0242ac1c0002row5_col0\" class=\"data row5 col0\" >2013</td>\n",
              "                        <td id=\"T_0866389c_15af_11ec_805d_0242ac1c0002row5_col1\" class=\"data row5 col1\" >8.80%</td>\n",
              "                        <td id=\"T_0866389c_15af_11ec_805d_0242ac1c0002row5_col2\" class=\"data row5 col2\" >91.20%</td>\n",
              "            </tr>\n",
              "            <tr>\n",
              "                        <th id=\"T_0866389c_15af_11ec_805d_0242ac1c0002level0_row6\" class=\"row_heading level0 row6\" >6</th>\n",
              "                        <td id=\"T_0866389c_15af_11ec_805d_0242ac1c0002row6_col0\" class=\"data row6 col0\" >2014</td>\n",
              "                        <td id=\"T_0866389c_15af_11ec_805d_0242ac1c0002row6_col1\" class=\"data row6 col1\" >5.73%</td>\n",
              "                        <td id=\"T_0866389c_15af_11ec_805d_0242ac1c0002row6_col2\" class=\"data row6 col2\" >94.27%</td>\n",
              "            </tr>\n",
              "    </tbody></table>"
            ],
            "text/plain": [
              "<pandas.io.formats.style.Styler at 0x7f5e59fcc750>"
            ]
          },
          "metadata": {},
          "execution_count": 12
        }
      ]
    },
    {
      "cell_type": "code",
      "metadata": {
        "colab": {
          "base_uri": "https://localhost:8080/",
          "height": 111
        },
        "id": "ZiPtxSiNfZxY",
        "outputId": "6395ff87-6f20-4d4b-b1b5-26238c49ee72"
      },
      "source": [
        "#Question 4(3)\n",
        "\n",
        "#Creating Category\n",
        "Housing_data = Housing_data.rename(columns={'Vacant Housing Units':'Vacant_Housing_Units','Occupied Housing Units':'Occupied_Housing_Units'})\n",
        "\n",
        "#Extracting the records with max Vaccant and Occupied data\n",
        "Vacant = Housing_data[Housing_data.Vacant_Housing_Units == Housing_data.Vacant_Housing_Units.max()]\n",
        "Occupied = Housing_data[Housing_data.Occupied_Housing_Units == Housing_data.Occupied_Housing_Units.max()]\n",
        "\n",
        "#Saving max records in High Table\n",
        "High = Vacant.append(Occupied)\n",
        "High = High.reset_index()\n",
        "\n",
        "#Arranging the data as per the format asked in question\n",
        "Highest = pd. DataFrame()\n",
        "Highest['Category'] = ['Vacant Housing Units','Occupied Housing Units']\n",
        "Highest['Year'] = High['year']\n",
        "Highest['Value'] = High['Vacant_Housing_Units']\n",
        "Highest.at[1,'Value'] = Housing_data['Occupied_Housing_Units'].max()\n",
        "Highest"
      ],
      "execution_count": 13,
      "outputs": [
        {
          "output_type": "execute_result",
          "data": {
            "text/html": [
              "<div>\n",
              "<style scoped>\n",
              "    .dataframe tbody tr th:only-of-type {\n",
              "        vertical-align: middle;\n",
              "    }\n",
              "\n",
              "    .dataframe tbody tr th {\n",
              "        vertical-align: top;\n",
              "    }\n",
              "\n",
              "    .dataframe thead th {\n",
              "        text-align: right;\n",
              "    }\n",
              "</style>\n",
              "<table border=\"1\" class=\"dataframe\">\n",
              "  <thead>\n",
              "    <tr style=\"text-align: right;\">\n",
              "      <th></th>\n",
              "      <th>Category</th>\n",
              "      <th>Year</th>\n",
              "      <th>Value</th>\n",
              "    </tr>\n",
              "  </thead>\n",
              "  <tbody>\n",
              "    <tr>\n",
              "      <th>0</th>\n",
              "      <td>Vacant Housing Units</td>\n",
              "      <td>2008</td>\n",
              "      <td>4483</td>\n",
              "    </tr>\n",
              "    <tr>\n",
              "      <th>1</th>\n",
              "      <td>Occupied Housing Units</td>\n",
              "      <td>2014</td>\n",
              "      <td>46295</td>\n",
              "    </tr>\n",
              "  </tbody>\n",
              "</table>\n",
              "</div>"
            ],
            "text/plain": [
              "                 Category  Year  Value\n",
              "0    Vacant Housing Units  2008   4483\n",
              "1  Occupied Housing Units  2014  46295"
            ]
          },
          "metadata": {},
          "execution_count": 13
        }
      ]
    },
    {
      "cell_type": "code",
      "metadata": {
        "colab": {
          "base_uri": "https://localhost:8080/",
          "height": 266
        },
        "id": "Gs7sDrfXfdHp",
        "outputId": "83500266-ab1f-4f32-f197-da4ca18373d1"
      },
      "source": [
        "#Question 4(4)\n",
        "\n",
        "Harmonic = pd.DataFrame()\n",
        "Harmonic['Years'] = Housing_data['year']\n",
        "Harmonic['Total_Housing_Units'] = Housing_data['Total Housing Units']\n",
        "\n",
        "#This will calculate inverse of each records in Total Housing Units\n",
        "Harmonic['Inverse_Total_Housing_Units'] = 1/Harmonic['Total_Housing_Units']\n",
        "Harmonic"
      ],
      "execution_count": 14,
      "outputs": [
        {
          "output_type": "execute_result",
          "data": {
            "text/html": [
              "<div>\n",
              "<style scoped>\n",
              "    .dataframe tbody tr th:only-of-type {\n",
              "        vertical-align: middle;\n",
              "    }\n",
              "\n",
              "    .dataframe tbody tr th {\n",
              "        vertical-align: top;\n",
              "    }\n",
              "\n",
              "    .dataframe thead th {\n",
              "        text-align: right;\n",
              "    }\n",
              "</style>\n",
              "<table border=\"1\" class=\"dataframe\">\n",
              "  <thead>\n",
              "    <tr style=\"text-align: right;\">\n",
              "      <th></th>\n",
              "      <th>Years</th>\n",
              "      <th>Total_Housing_Units</th>\n",
              "      <th>Inverse_Total_Housing_Units</th>\n",
              "    </tr>\n",
              "  </thead>\n",
              "  <tbody>\n",
              "    <tr>\n",
              "      <th>0</th>\n",
              "      <td>2008</td>\n",
              "      <td>41194</td>\n",
              "      <td>0.000024</td>\n",
              "    </tr>\n",
              "    <tr>\n",
              "      <th>1</th>\n",
              "      <td>2009</td>\n",
              "      <td>39499</td>\n",
              "      <td>0.000025</td>\n",
              "    </tr>\n",
              "    <tr>\n",
              "      <th>2</th>\n",
              "      <td>2010</td>\n",
              "      <td>44642</td>\n",
              "      <td>0.000022</td>\n",
              "    </tr>\n",
              "    <tr>\n",
              "      <th>3</th>\n",
              "      <td>2011</td>\n",
              "      <td>44917</td>\n",
              "      <td>0.000022</td>\n",
              "    </tr>\n",
              "    <tr>\n",
              "      <th>4</th>\n",
              "      <td>2012</td>\n",
              "      <td>45121</td>\n",
              "      <td>0.000022</td>\n",
              "    </tr>\n",
              "    <tr>\n",
              "      <th>5</th>\n",
              "      <td>2013</td>\n",
              "      <td>47888</td>\n",
              "      <td>0.000021</td>\n",
              "    </tr>\n",
              "    <tr>\n",
              "      <th>6</th>\n",
              "      <td>2014</td>\n",
              "      <td>49109</td>\n",
              "      <td>0.000020</td>\n",
              "    </tr>\n",
              "  </tbody>\n",
              "</table>\n",
              "</div>"
            ],
            "text/plain": [
              "   Years  Total_Housing_Units  Inverse_Total_Housing_Units\n",
              "0   2008                41194                     0.000024\n",
              "1   2009                39499                     0.000025\n",
              "2   2010                44642                     0.000022\n",
              "3   2011                44917                     0.000022\n",
              "4   2012                45121                     0.000022\n",
              "5   2013                47888                     0.000021\n",
              "6   2014                49109                     0.000020"
            ]
          },
          "metadata": {},
          "execution_count": 14
        }
      ]
    },
    {
      "cell_type": "code",
      "metadata": {
        "colab": {
          "base_uri": "https://localhost:8080/"
        },
        "id": "_MGwGl9FfepG",
        "outputId": "4d58015e-4eed-4d4d-df03-dd825e20bc38"
      },
      "source": [
        "#Applying the Harmonic Mean Formula\n",
        "Harmonic_Mean = len(Harmonic.Years)/(Harmonic.Inverse_Total_Housing_Units.sum())\n",
        "print('The Harmonic Mean of Total Housing Units is :' , Harmonic_Mean)"
      ],
      "execution_count": 15,
      "outputs": [
        {
          "output_type": "stream",
          "name": "stdout",
          "text": [
            "The Harmonic Mean of Total Housing Units is : 44398.28543969185\n"
          ]
        }
      ]
    }
  ]
}