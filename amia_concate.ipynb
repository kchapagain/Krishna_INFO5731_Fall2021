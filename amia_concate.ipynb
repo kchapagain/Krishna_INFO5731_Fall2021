{
  "nbformat": 4,
  "nbformat_minor": 0,
  "metadata": {
    "colab": {
      "name": "amia_concate.ipynb",
      "provenance": [],
      "collapsed_sections": []
    },
    "kernelspec": {
      "name": "python3",
      "display_name": "Python 3"
    },
    "language_info": {
      "name": "python"
    }
  },
  "cells": [
    {
      "cell_type": "code",
      "metadata": {
        "colab": {
          "resources": {
            "http://localhost:8080/nbextensions/google.colab/files.js": {
              "data": "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",
              "ok": true,
              "headers": [
                [
                  "content-type",
                  "application/javascript"
                ]
              ],
              "status": 200,
              "status_text": ""
            }
          },
          "base_uri": "https://localhost:8080/",
          "height": 1000
        },
        "id": "lPO6kr_QRes1",
        "outputId": "232899dd-b3a7-4453-e53f-19ecc8fa62b0"
      },
      "source": [
        "from google.colab import files\n",
        "uploaded = files.upload()"
      ],
      "execution_count": 1,
      "outputs": [
        {
          "output_type": "display_data",
          "data": {
            "text/html": [
              "\n",
              "     <input type=\"file\" id=\"files-7604953a-a694-4f09-a411-cc1dbe9681c9\" name=\"files[]\" multiple disabled\n",
              "        style=\"border:none\" />\n",
              "     <output id=\"result-7604953a-a694-4f09-a411-cc1dbe9681c9\">\n",
              "      Upload widget is only available when the cell has been executed in the\n",
              "      current browser session. Please rerun this cell to enable.\n",
              "      </output>\n",
              "      <script src=\"/nbextensions/google.colab/files.js\"></script> "
            ],
            "text/plain": [
              "<IPython.core.display.HTML object>"
            ]
          },
          "metadata": {}
        },
        {
          "output_type": "stream",
          "name": "stdout",
          "text": [
            "Saving amia_1981.csv to amia_1981.csv\n",
            "Saving amia_1982.csv to amia_1982.csv\n",
            "Saving amia_1983.csv to amia_1983.csv\n",
            "Saving amia_1984.csv to amia_1984.csv\n",
            "Saving amia_1985.csv to amia_1985.csv\n",
            "Saving amia_1986.csv to amia_1986.csv\n",
            "Saving amia_1987.csv to amia_1987.csv\n",
            "Saving amia_1988.csv to amia_1988.csv\n",
            "Saving amia_1989.csv to amia_1989.csv\n",
            "Saving amia_1990.csv to amia_1990.csv\n",
            "Saving amia_1991.csv to amia_1991.csv\n",
            "Saving amia_1992.csv to amia_1992.csv\n",
            "Saving amia_1993.csv to amia_1993.csv\n",
            "Saving amia_1994.csv to amia_1994.csv\n",
            "Saving amia_1995.csv to amia_1995.csv\n",
            "Saving amia_1996.csv to amia_1996.csv\n",
            "Saving amia_1997.csv to amia_1997.csv\n",
            "Saving amia_1998.csv to amia_1998.csv\n",
            "Saving amia_1999.csv to amia_1999.csv\n",
            "Saving amia_2000.csv to amia_2000.csv\n",
            "Saving amia_2001.csv to amia_2001.csv\n",
            "Saving amia_2002.csv to amia_2002.csv\n",
            "Saving amia_2003.csv to amia_2003.csv\n",
            "Saving amia_2005.csv to amia_2005.csv\n",
            "Saving amia_2006.csv to amia_2006.csv\n",
            "Saving amia_2007.csv to amia_2007.csv\n",
            "Saving amia_2008.csv to amia_2008.csv\n",
            "Saving amia_2009.csv to amia_2009.csv\n",
            "Saving amia_2010.csv to amia_2010.csv\n",
            "Saving amia_2011.csv to amia_2011.csv\n",
            "Saving amia_2012.csv to amia_2012.csv\n",
            "Saving amia_2013.csv to amia_2013.csv\n",
            "Saving amia_2014.csv to amia_2014.csv\n",
            "Saving amia_2015.csv to amia_2015.csv\n",
            "Saving amia_2016.csv to amia_2016.csv\n",
            "Saving amia_2017.csv to amia_2017.csv\n",
            "Saving amia_2018.csv to amia_2018.csv\n",
            "Saving amia_2019.csv to amia_2019.csv\n",
            "Saving amia_2020.csv to amia_2020.csv\n"
          ]
        }
      ]
    },
    {
      "cell_type": "code",
      "metadata": {
        "id": "_G4fKKSbRyZV"
      },
      "source": [
        "import pandas as pd\n",
        "amia_2020 = pd.read_csv('amia_2020.csv')\n",
        "amia_2019 = pd.read_csv('amia_2019.csv')\n",
        "amia_2018 = pd.read_csv('amia_2018.csv')\n",
        "amia_2017 = pd.read_csv('amia_2017.csv')\n",
        "amia_2016 = pd.read_csv('amia_2016.csv')\n",
        "amia_2015 = pd.read_csv('amia_2015.csv')\n",
        "amia_2014 = pd.read_csv('amia_2014.csv')\n",
        "amia_2013 = pd.read_csv('amia_2013.csv')\n",
        "amia_2012 = pd.read_csv('amia_2012.csv')\n",
        "amia_2011 = pd.read_csv('amia_2011.csv')\n",
        "amia_2010 = pd.read_csv('amia_2010.csv')\n",
        "amia_2009 = pd.read_csv('amia_2009.csv')\n",
        "amia_2008 = pd.read_csv('amia_2008.csv')\n",
        "amia_2007 = pd.read_csv('amia_2007.csv')\n",
        "amia_2006 = pd.read_csv('amia_2006.csv')\n",
        "amia_2005 = pd.read_csv('amia_2005.csv')\n",
        "amia_2003 = pd.read_csv('amia_2003.csv')\n",
        "amia_2002 = pd.read_csv('amia_2002.csv')\n",
        "amia_2001 = pd.read_csv('amia_2001.csv')\n",
        "amia_2000 = pd.read_csv('amia_2000.csv')\n",
        "amia_1999 = pd.read_csv('amia_1999.csv')\n",
        "amia_1998 = pd.read_csv('amia_1998.csv')\n",
        "amia_1997 = pd.read_csv('amia_1997.csv')\n",
        "amia_1996 = pd.read_csv('amia_1996.csv')\n",
        "amia_1995 = pd.read_csv('amia_1995.csv')\n",
        "amia_1994 = pd.read_csv('amia_1994.csv')\n",
        "amia_1993 = pd.read_csv('amia_1993.csv')\n",
        "amia_1992 = pd.read_csv('amia_1992.csv')\n",
        "amia_1991 = pd.read_csv('amia_1991.csv')\n",
        "amia_1990 = pd.read_csv('amia_1990.csv')\n",
        "amia_1989 = pd.read_csv('amia_1989.csv')\n",
        "amia_1988 = pd.read_csv('amia_1988.csv')\n",
        "amia_1987 = pd.read_csv('amia_1987.csv')\n",
        "amia_1986 = pd.read_csv('amia_1986.csv')\n",
        "amia_1985 = pd.read_csv('amia_1985.csv')\n",
        "amia_1984 = pd.read_csv('amia_1984.csv')\n",
        "amia_1983 = pd.read_csv('amia_1983.csv')\n",
        "amia_1982 = pd.read_csv('amia_1982.csv')\n",
        "amia_1981 = pd.read_csv('amia_1981.csv')"
      ],
      "execution_count": 3,
      "outputs": []
    },
    {
      "cell_type": "code",
      "metadata": {
        "colab": {
          "base_uri": "https://localhost:8080/",
          "height": 597
        },
        "id": "WVvhhYu7TNuf",
        "outputId": "8b834ba7-fbc1-4fd7-903c-25cbcf407c39"
      },
      "source": [
        "frames = [amia_2020,amia_2019,amia_2018,amia_2017,amia_2016,amia_2015,amia_2014,amia_2013,amia_2012,amia_2011,amia_2010,amia_2009,amia_2008,amia_2007,amia_2006,amia_2005,amia_2003,amia_2002,amia_2001,amia_2000,amia_1999,amia_1998,amia_1997,amia_1996,amia_1995,amia_1994,amia_1993,amia_1992,amia_1991,amia_1990,amia_1989,amia_1988,amia_1987,amia_1986,amia_1985,amia_1984,amia_1983,amia_1982,amia_1981]\n",
        "amia = pd.concat(frames)\n",
        "amia"
      ],
      "execution_count": 4,
      "outputs": [
        {
          "output_type": "execute_result",
          "data": {
            "text/html": [
              "<div>\n",
              "<style scoped>\n",
              "    .dataframe tbody tr th:only-of-type {\n",
              "        vertical-align: middle;\n",
              "    }\n",
              "\n",
              "    .dataframe tbody tr th {\n",
              "        vertical-align: top;\n",
              "    }\n",
              "\n",
              "    .dataframe thead th {\n",
              "        text-align: right;\n",
              "    }\n",
              "</style>\n",
              "<table border=\"1\" class=\"dataframe\">\n",
              "  <thead>\n",
              "    <tr style=\"text-align: right;\">\n",
              "      <th></th>\n",
              "      <th>pmc_id</th>\n",
              "      <th>title</th>\n",
              "      <th>authors</th>\n",
              "      <th>authors_information</th>\n",
              "      <th>year</th>\n",
              "      <th>abstract</th>\n",
              "    </tr>\n",
              "  </thead>\n",
              "  <tbody>\n",
              "    <tr>\n",
              "      <th>0</th>\n",
              "      <td>PMCID:PMC8075400</td>\n",
              "      <td>Association of White Matter Hyperintensity Pro...</td>\n",
              "      <td>Kentaro Hirao</td>\n",
              "      <td>aDepartment of Geriatric Medicine, Tokyo Medic...</td>\n",
              "      <td>J Alzheimers Dis.2021; 80(2): 877–883.</td>\n",
              "      <td>White matter hyperintensities (WMH) on MRI hav...</td>\n",
              "    </tr>\n",
              "    <tr>\n",
              "      <th>1</th>\n",
              "      <td>PMCID:PMC8075401</td>\n",
              "      <td>Mild Behavioral Impairment and Subjective Cogn...</td>\n",
              "      <td>Fumio Yamashita</td>\n",
              "      <td>bDepartment of Ultrahigh Field MRI, Institute ...</td>\n",
              "      <td>J Alzheimers Dis.2021; 80(1): 459–469.</td>\n",
              "      <td>Mild behavioral impairment (MBI) and subjectiv...</td>\n",
              "    </tr>\n",
              "    <tr>\n",
              "      <th>2</th>\n",
              "      <td>PMCID:PMC8075402</td>\n",
              "      <td>Safety Monitoring of Gene Therapy for Spinal M...</td>\n",
              "      <td>Akito Tsugawa</td>\n",
              "      <td>aDepartment of Psychiatry, University of Calga...</td>\n",
              "      <td>J Neuromuscul Dis.2021; 8(2): 209–216.</td>\n",
              "      <td>Recently gene therapy with onasemnogene abepar...</td>\n",
              "    </tr>\n",
              "    <tr>\n",
              "      <th>3</th>\n",
              "      <td>PMCID:PMC8075403</td>\n",
              "      <td>Assessing the Progression of Alzheimer’s Disea...</td>\n",
              "      <td>Rieko Haime</td>\n",
              "      <td>bDepartment of Clinical Neurosciences, Univers...</td>\n",
              "      <td>J Alzheimers Dis.2021; 80(2): 749–759.</td>\n",
              "      <td>There exists considerable variation in disease...</td>\n",
              "    </tr>\n",
              "    <tr>\n",
              "      <th>4</th>\n",
              "      <td>PMCID:PMC8075404</td>\n",
              "      <td>Investigating the Spatial Associations Between...</td>\n",
              "      <td>Raita Fukasawa</td>\n",
              "      <td>cDepartment of Community Health Sciences, Univ...</td>\n",
              "      <td>J Alzheimers Dis.2021; 80(1): 113–132.</td>\n",
              "      <td>It has been proposed that amyloid-β (Aβ) plays...</td>\n",
              "    </tr>\n",
              "    <tr>\n",
              "      <th>...</th>\n",
              "      <td>...</td>\n",
              "      <td>...</td>\n",
              "      <td>...</td>\n",
              "      <td>...</td>\n",
              "      <td>...</td>\n",
              "      <td>...</td>\n",
              "    </tr>\n",
              "    <tr>\n",
              "      <th>112</th>\n",
              "      <td>PMCID:PMC2581286</td>\n",
              "      <td>A Comparison of Models for Predicting the Outc...</td>\n",
              "      <td>Harriet H. Werley</td>\n",
              "      <td>Harriet H. Werley</td>\n",
              "      <td>Proc Annu Symp Comput Appl Med Care.1981 Nov 4...</td>\n",
              "      <td>There are several basic strategies that may be...</td>\n",
              "    </tr>\n",
              "    <tr>\n",
              "      <th>113</th>\n",
              "      <td>PMCID:PMC2581287</td>\n",
              "      <td>Impact of Computers on Nursing Research</td>\n",
              "      <td>Donna L. HudsonandThelma Estrin</td>\n",
              "      <td>Donna L. HudsonandThelma Estrin</td>\n",
              "      <td>Proc Annu Symp Comput Appl Med Care.1981 Nov 4...</td>\n",
              "      <td>A microcomputer-based medical information syst...</td>\n",
              "    </tr>\n",
              "    <tr>\n",
              "      <th>114</th>\n",
              "      <td>PMCID:PMC2581288</td>\n",
              "      <td>Microcomputer-Based Expert System for Clinical...</td>\n",
              "      <td>Virginia K. Saba</td>\n",
              "      <td>Virginia K. Saba</td>\n",
              "      <td>Proc Annu Symp Comput Appl Med Care.1981 Nov 4...</td>\n",
              "      <td>A substantial portion of the information in th...</td>\n",
              "    </tr>\n",
              "    <tr>\n",
              "      <th>115</th>\n",
              "      <td>PMCID:PMC2581289</td>\n",
              "      <td>Impact of Computers on Nursing Administration ...</td>\n",
              "      <td>Jane BarnettandDavid Kramlich</td>\n",
              "      <td>Jane BarnettandDavid Kramlich</td>\n",
              "      <td>Proc Annu Symp Comput Appl Med Care.1981 Nov 4...</td>\n",
              "      <td>A computer-aided interactive “game” has been d...</td>\n",
              "    </tr>\n",
              "    <tr>\n",
              "      <th>116</th>\n",
              "      <td>PMCID:PMC2581290</td>\n",
              "      <td>Medical Applications of a Spatial Data Managem...</td>\n",
              "      <td>William B. Hamlin</td>\n",
              "      <td>William B. Hamlin</td>\n",
              "      <td>Proc Annu Symp Comput Appl Med Care.1981 Nov 4...</td>\n",
              "      <td>Automated quantitation of UC and FHR tabulated...</td>\n",
              "    </tr>\n",
              "  </tbody>\n",
              "</table>\n",
              "<p>5082 rows × 6 columns</p>\n",
              "</div>"
            ],
            "text/plain": [
              "               pmc_id  ...                                           abstract\n",
              "0    PMCID:PMC8075400  ...  White matter hyperintensities (WMH) on MRI hav...\n",
              "1    PMCID:PMC8075401  ...  Mild behavioral impairment (MBI) and subjectiv...\n",
              "2    PMCID:PMC8075402  ...  Recently gene therapy with onasemnogene abepar...\n",
              "3    PMCID:PMC8075403  ...  There exists considerable variation in disease...\n",
              "4    PMCID:PMC8075404  ...  It has been proposed that amyloid-β (Aβ) plays...\n",
              "..                ...  ...                                                ...\n",
              "112  PMCID:PMC2581286  ...  There are several basic strategies that may be...\n",
              "113  PMCID:PMC2581287  ...  A microcomputer-based medical information syst...\n",
              "114  PMCID:PMC2581288  ...  A substantial portion of the information in th...\n",
              "115  PMCID:PMC2581289  ...  A computer-aided interactive “game” has been d...\n",
              "116  PMCID:PMC2581290  ...  Automated quantitation of UC and FHR tabulated...\n",
              "\n",
              "[5082 rows x 6 columns]"
            ]
          },
          "metadata": {},
          "execution_count": 4
        }
      ]
    },
    {
      "cell_type": "code",
      "metadata": {
        "colab": {
          "base_uri": "https://localhost:8080/",
          "height": 17
        },
        "id": "A-Ja3OzGTuhs",
        "outputId": "a4adfa5f-4a65-403f-971a-08c15ef4d076"
      },
      "source": [
        "from google.colab import files\n",
        "amia.to_csv('amia.csv',index=False)\n",
        "files.download('amia.csv')"
      ],
      "execution_count": 5,
      "outputs": [
        {
          "output_type": "display_data",
          "data": {
            "application/javascript": [
              "\n",
              "    async function download(id, filename, size) {\n",
              "      if (!google.colab.kernel.accessAllowed) {\n",
              "        return;\n",
              "      }\n",
              "      const div = document.createElement('div');\n",
              "      const label = document.createElement('label');\n",
              "      label.textContent = `Downloading \"${filename}\": `;\n",
              "      div.appendChild(label);\n",
              "      const progress = document.createElement('progress');\n",
              "      progress.max = size;\n",
              "      div.appendChild(progress);\n",
              "      document.body.appendChild(div);\n",
              "\n",
              "      const buffers = [];\n",
              "      let downloaded = 0;\n",
              "\n",
              "      const channel = await google.colab.kernel.comms.open(id);\n",
              "      // Send a message to notify the kernel that we're ready.\n",
              "      channel.send({})\n",
              "\n",
              "      for await (const message of channel.messages) {\n",
              "        // Send a message to notify the kernel that we're ready.\n",
              "        channel.send({})\n",
              "        if (message.buffers) {\n",
              "          for (const buffer of message.buffers) {\n",
              "            buffers.push(buffer);\n",
              "            downloaded += buffer.byteLength;\n",
              "            progress.value = downloaded;\n",
              "          }\n",
              "        }\n",
              "      }\n",
              "      const blob = new Blob(buffers, {type: 'application/binary'});\n",
              "      const a = document.createElement('a');\n",
              "      a.href = window.URL.createObjectURL(blob);\n",
              "      a.download = filename;\n",
              "      div.appendChild(a);\n",
              "      a.click();\n",
              "      div.remove();\n",
              "    }\n",
              "  "
            ],
            "text/plain": [
              "<IPython.core.display.Javascript object>"
            ]
          },
          "metadata": {}
        },
        {
          "output_type": "display_data",
          "data": {
            "application/javascript": [
              "download(\"download_e5cde212-7eb8-4856-85a2-ae356a05fba8\", \"amia.csv\", 5419951)"
            ],
            "text/plain": [
              "<IPython.core.display.Javascript object>"
            ]
          },
          "metadata": {}
        }
      ]
    }
  ]
}