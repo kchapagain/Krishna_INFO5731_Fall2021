{
  "nbformat": 4,
  "nbformat_minor": 0,
  "metadata": {
    "kernelspec": {
      "display_name": "Python 3",
      "language": "python",
      "name": "python3"
    },
    "language_info": {
      "codemirror_mode": {
        "name": "ipython",
        "version": 3
      },
      "file_extension": ".py",
      "mimetype": "text/x-python",
      "name": "python",
      "nbconvert_exporter": "python",
      "pygments_lexer": "ipython3",
      "version": "3.8.5"
    },
    "colab": {
      "name": "In-class-exercise-03.ipynb",
      "provenance": [],
      "include_colab_link": true
    }
  },
  "cells": [
    {
      "cell_type": "markdown",
      "metadata": {
        "id": "view-in-github",
        "colab_type": "text"
      },
      "source": [
        "<a href=\"https://colab.research.google.com/github/kchapagain/Krishna_INFO5731_Fall2021/blob/main/In_class_exercise_03.ipynb\" target=\"_parent\"><img src=\"https://colab.research.google.com/assets/colab-badge.svg\" alt=\"Open In Colab\"/></a>"
      ]
    },
    {
      "cell_type": "markdown",
      "metadata": {
        "id": "vRgXHmrbnm8g"
      },
      "source": [
        "## The third In-class-exercise (9/29/2021, 40 points in total)"
      ]
    },
    {
      "cell_type": "markdown",
      "metadata": {
        "id": "HkRlrQMTnm8k"
      },
      "source": [
        "The purpose of this exercise is to understand text representation."
      ]
    },
    {
      "cell_type": "markdown",
      "metadata": {
        "id": "OfgELRBYnm8m"
      },
      "source": [
        "Question 1 (10 points): Describe an interesting text classification or text mining task and explain what kind of features might be useful for you to build the machine learning model. List your features and explain why these features might be helpful. You need to list at least five different types of features."
      ]
    },
    {
      "cell_type": "code",
      "metadata": {
        "colab": {
          "base_uri": "https://localhost:8080/",
          "height": 140
        },
        "id": "ZDBslvKdnm8n",
        "outputId": "8338c48a-4ccc-4778-e537-4b5c26fff0d5"
      },
      "source": [
        "# Your answer here (no code for this question, write down your answer as detail as possible for the above questions):\n",
        "\n",
        "'''\n",
        "Task -  Sentiment Anslysis from twitter Data\n",
        "The main goal for the sentiment analysis from the twitter data is to determine the positive or negative sentiments of the tweets people post in twitter.\n",
        "Both of the methods text classifications and text mining will be used in this task where text mining process will bring in the data to the system from twitter and\n",
        "text classification will classify the brought data into smaller portions like sentences, words, characters, punctuation and many more.\n",
        "\n",
        "Below are the features targeted to be extracted in this task:\n",
        "1. Sentence Count\n",
        "2. Word Count\n",
        "3. Characters Count\n",
        "4. Stop Words\n",
        "5. Special Characters Count\n",
        "6. Numeric Count\n",
        "7. Uppercase Words Count\n",
        "\n",
        "The above count will give us the rough idea on how many features are there in the tweets which we can extract and remove from the tweets of people to \n",
        "bring up the cleaned collection of sentences and words from where we can compare the cleaned words with the data dictionary for positive and negative\n",
        "sentiments. Finally summing all the sentiments count will give us the overall sentiment of the tweets as positive or negative.\n",
        "This way by using text mining and text classification we can see the setiments of people in the twitter.\n",
        "'''"
      ],
      "execution_count": 1,
      "outputs": [
        {
          "output_type": "execute_result",
          "data": {
            "application/vnd.google.colaboratory.intrinsic+json": {
              "type": "string"
            },
            "text/plain": [
              "'\\nTask -  Sentiment Anslysis from twitter Data\\nThe main goal for the sentiment analysis from the twitter data is to determine the positive or negative sentiments of the tweets people post in twitter.\\nBoth of the methods text classifications and text mining will be used in this task where text mining process will bring in the data to the system from twitter and\\ntext classification will classify the brought data into smaller portions like sentences, words, characters, punctuation and many more.\\n\\nBelow are the features targeted to be extracted in this task:\\n1. Sentence Count\\n2. Word Count\\n3. Characters Count\\n4. Stop Words\\n5. Special Characters Count\\n6. Numeric Count\\n7. Uppercase Words Count\\n\\nThe above count will give us the rough idea on how many features are there in the tweets which we can extract and remove from the tweets of people to \\nbring up the cleaned collection of sentences and words from where we can compare the cleaned words with the data dictionary for positive and negative\\nsentiments. Finally summing all the sentiments count will give us the overall sentiment of the tweets as positive or negative.\\nThis way by using text mining and text classification we can see the setiments of people in the twitter.\\n'"
            ]
          },
          "metadata": {},
          "execution_count": 1
        }
      ]
    },
    {
      "cell_type": "markdown",
      "metadata": {
        "id": "apak7NvLnm8p"
      },
      "source": [
        "Question 2 (20 points): Write python code to extract these features you discussed above. You can collect a few sample text data for the feature extraction. "
      ]
    },
    {
      "cell_type": "code",
      "metadata": {
        "colab": {
          "base_uri": "https://localhost:8080/",
          "height": 424
        },
        "id": "2x_TMMajnm8r",
        "outputId": "50ab0d5f-1e0b-4895-a9a2-942c40d8a8f2"
      },
      "source": [
        "# You code here (Please add comments in the code):\n",
        "\n",
        "# Setting up the Consumer Key and Access Key from Developer Account\n",
        "import tweepy\n",
        "import pandas as pd\n",
        "\n",
        "consumer_key = \"Sl9QlYe2uIYFB4c56ht3suQpx\"\n",
        "consumer_secret = \"itmSoGGJBHAjnhcy0jZOyBHEEB9oYztj5mLBAa7yJm4tRAb2ai\"\n",
        "access_token = \"1438705493510344707-C3jtWFSrEjfyj0dtBY09lXUVsDL0oi\"\n",
        "access_token_secret = \"XEnNE1Mn6WupA0XnSV8aVNYXrV1k9no4iq6BMDZEOAV5d\"\n",
        "auth = tweepy.OAuthHandler(consumer_key, consumer_secret)\n",
        "auth.set_access_token(access_token, access_token_secret)\n",
        "api = tweepy.API(auth,wait_on_rate_limit=True)\n",
        "\n",
        "#Defining all the variables\n",
        "text_query = 'blacklivesmatter'\n",
        "max_tweets = 100\n",
        "\n",
        "# this will bring 1000 tweets using the set up API\n",
        "tweets = tweepy.Cursor(api.search,q=text_query,lang='en', location = 'Texas', since = '2021-01-01', until = '2021-09-27').items(max_tweets)\n",
        " \n",
        "# This will create a nested list of all the attributes in the tweets\n",
        "tweets_list = [[tweet.text, tweet.created_at, tweet.id_str, tweet.user.name, tweet.user.screen_name, tweet.user.id_str, tweet.user.location, tweet.user.url, tweet.user.description, tweet.user.verified, tweet.user.followers_count, tweet.user.friends_count, tweet.user.favourites_count, tweet.user.statuses_count, tweet.user.listed_count, tweet.user.created_at, tweet.user.profile_image_url_https, tweet.user.default_profile, tweet.user.default_profile_image] for tweet in tweets]\n",
        " \n",
        "# Creation of dataframe from tweets_list\n",
        "tweets_df = pd.DataFrame(tweets_list)\n",
        "tweets_df\n",
        "\n",
        "#Arranging the DataFrame as per the Requirement\n",
        "Tweets = pd.DataFrame()\n",
        "Tweets['Tweets'] = tweets_df[0]\n",
        "Tweets"
      ],
      "execution_count": 2,
      "outputs": [
        {
          "output_type": "execute_result",
          "data": {
            "text/html": [
              "<div>\n",
              "<style scoped>\n",
              "    .dataframe tbody tr th:only-of-type {\n",
              "        vertical-align: middle;\n",
              "    }\n",
              "\n",
              "    .dataframe tbody tr th {\n",
              "        vertical-align: top;\n",
              "    }\n",
              "\n",
              "    .dataframe thead th {\n",
              "        text-align: right;\n",
              "    }\n",
              "</style>\n",
              "<table border=\"1\" class=\"dataframe\">\n",
              "  <thead>\n",
              "    <tr style=\"text-align: right;\">\n",
              "      <th></th>\n",
              "      <th>Tweets</th>\n",
              "    </tr>\n",
              "  </thead>\n",
              "  <tbody>\n",
              "    <tr>\n",
              "      <th>0</th>\n",
              "      <td>RT @TribalArmy: Missing Black and indigenous t...</td>\n",
              "    </tr>\n",
              "    <tr>\n",
              "      <th>1</th>\n",
              "      <td>RT @amanda_gfx: #Overlays made for @ebsii_pvp ...</td>\n",
              "    </tr>\n",
              "    <tr>\n",
              "      <th>2</th>\n",
              "      <td>RT @amanda_gfx: #Overlays made for @ebsii_pvp ...</td>\n",
              "    </tr>\n",
              "    <tr>\n",
              "      <th>3</th>\n",
              "      <td>RT @IDLIVA: Staging the same Black people behi...</td>\n",
              "    </tr>\n",
              "    <tr>\n",
              "      <th>4</th>\n",
              "      <td>RT @amanda_gfx: #Overlays made for @ebsii_pvp ...</td>\n",
              "    </tr>\n",
              "    <tr>\n",
              "      <th>...</th>\n",
              "      <td>...</td>\n",
              "    </tr>\n",
              "    <tr>\n",
              "      <th>95</th>\n",
              "      <td>RT @VegasVisions: Did you know 2020, with #Bla...</td>\n",
              "    </tr>\n",
              "    <tr>\n",
              "      <th>96</th>\n",
              "      <td>RT @WhiteBirdMarke1: 𝗖𝗔𝗥𝗧𝗢𝗢𝗡 𝗣𝗢𝗥𝗧𝗥𝗔𝗜𝗧💥💥\\n Come...</td>\n",
              "    </tr>\n",
              "    <tr>\n",
              "      <th>97</th>\n",
              "      <td>RT @rodneysampson: Some of y’all #blacklivesma...</td>\n",
              "    </tr>\n",
              "    <tr>\n",
              "      <th>98</th>\n",
              "      <td>She accepted our offering from the Ocean. She ...</td>\n",
              "    </tr>\n",
              "    <tr>\n",
              "      <th>99</th>\n",
              "      <td>RT @blakandblack: .@ABarrMLA @ShaneRattenbury ...</td>\n",
              "    </tr>\n",
              "  </tbody>\n",
              "</table>\n",
              "<p>100 rows × 1 columns</p>\n",
              "</div>"
            ],
            "text/plain": [
              "                                               Tweets\n",
              "0   RT @TribalArmy: Missing Black and indigenous t...\n",
              "1   RT @amanda_gfx: #Overlays made for @ebsii_pvp ...\n",
              "2   RT @amanda_gfx: #Overlays made for @ebsii_pvp ...\n",
              "3   RT @IDLIVA: Staging the same Black people behi...\n",
              "4   RT @amanda_gfx: #Overlays made for @ebsii_pvp ...\n",
              "..                                                ...\n",
              "95  RT @VegasVisions: Did you know 2020, with #Bla...\n",
              "96  RT @WhiteBirdMarke1: 𝗖𝗔𝗥𝗧𝗢𝗢𝗡 𝗣𝗢𝗥𝗧𝗥𝗔𝗜𝗧💥💥\\n Come...\n",
              "97  RT @rodneysampson: Some of y’all #blacklivesma...\n",
              "98  She accepted our offering from the Ocean. She ...\n",
              "99  RT @blakandblack: .@ABarrMLA @ShaneRattenbury ...\n",
              "\n",
              "[100 rows x 1 columns]"
            ]
          },
          "metadata": {},
          "execution_count": 2
        }
      ]
    },
    {
      "cell_type": "code",
      "metadata": {
        "colab": {
          "base_uri": "https://localhost:8080/"
        },
        "id": "D5B1s4pTAshD",
        "outputId": "5ad52d8c-1190-4678-c1fc-7a6bf27e0c6f"
      },
      "source": [
        "import nltk\n",
        "nltk.download('punkt')"
      ],
      "execution_count": 3,
      "outputs": [
        {
          "output_type": "stream",
          "name": "stdout",
          "text": [
            "[nltk_data] Downloading package punkt to /root/nltk_data...\n",
            "[nltk_data]   Package punkt is already up-to-date!\n"
          ]
        },
        {
          "output_type": "execute_result",
          "data": {
            "text/plain": [
              "True"
            ]
          },
          "metadata": {},
          "execution_count": 3
        }
      ]
    },
    {
      "cell_type": "code",
      "metadata": {
        "colab": {
          "base_uri": "https://localhost:8080/"
        },
        "id": "W0kn9EenA7a_",
        "outputId": "0f12c470-baff-42f8-ec12-bc60e558e70d"
      },
      "source": [
        "import nltk\n",
        "nltk.download('stopwords')"
      ],
      "execution_count": 4,
      "outputs": [
        {
          "output_type": "stream",
          "name": "stdout",
          "text": [
            "[nltk_data] Downloading package stopwords to /root/nltk_data...\n",
            "[nltk_data]   Package stopwords is already up-to-date!\n"
          ]
        },
        {
          "output_type": "execute_result",
          "data": {
            "text/plain": [
              "True"
            ]
          },
          "metadata": {},
          "execution_count": 4
        }
      ]
    },
    {
      "cell_type": "code",
      "metadata": {
        "colab": {
          "base_uri": "https://localhost:8080/",
          "height": 580
        },
        "id": "e5XF8hMsAg5k",
        "outputId": "26253ea3-b73a-4a91-b0d3-216f1b1d5df4"
      },
      "source": [
        "#importing related libraries\n",
        "import nltk\n",
        "from nltk.tokenize import *\n",
        "from nltk.corpus import stopwords\n",
        "\n",
        "Tweet1 = pd.DataFrame()\n",
        "Tweet1['Tweets'] = tweets_df[0]\n",
        "Tweet = Tweets\n",
        "\n",
        "#1.Number of sentences\n",
        "Tweet1['Tweets'] = Tweet1['Tweets'].apply(sent_tokenize)\n",
        "Tweet['Sentence_Count'] = Tweet1['Tweets'].apply(len)\n",
        "\n",
        "Tweet['Word_Count'] = Tweet['Tweets'].apply(lambda x: len(str(x).split(\" \")))\n",
        "\n",
        "Tweet['Char_Count'] = Tweet['Tweets'].str.len()\n",
        "\n",
        "def avg_word(sentence):\n",
        "  words = sentence.split()\n",
        "  return (sum(len(word) for word in words)/len(words))\n",
        "\n",
        "Tweet['Avg_Word'] = Tweet['Tweets'].apply(lambda x: avg_word(x))\n",
        "\n",
        "stop = stopwords.words('english')\n",
        "Tweet['Stopwords'] = Tweet['Tweets'].apply(lambda x: len([x for x in x.split() if x in stop]))\n",
        "\n",
        "Special_Characters = '[@_!#$%^&*()<>?/\\|}{~:]'\n",
        "SC_Tuple = tuple(Special_Characters)\n",
        "Tweet['Special_Characters_Count'] = Tweet['Tweets'].apply(lambda x: len([x for x in x.split() if x.startswith(SC_Tuple)]))\n",
        "\n",
        "Tweet['Numerics_Count'] = Tweet['Tweets'].apply(lambda x: len([x for x in x.split() if x.isdigit()]))\n",
        "\n",
        "Tweet['Upper_Count'] = Tweet['Tweets'].apply(lambda x: len([x for x in x.split() if x.isupper()]))\n",
        "\n",
        "Tweet"
      ],
      "execution_count": 5,
      "outputs": [
        {
          "output_type": "execute_result",
          "data": {
            "text/html": [
              "<div>\n",
              "<style scoped>\n",
              "    .dataframe tbody tr th:only-of-type {\n",
              "        vertical-align: middle;\n",
              "    }\n",
              "\n",
              "    .dataframe tbody tr th {\n",
              "        vertical-align: top;\n",
              "    }\n",
              "\n",
              "    .dataframe thead th {\n",
              "        text-align: right;\n",
              "    }\n",
              "</style>\n",
              "<table border=\"1\" class=\"dataframe\">\n",
              "  <thead>\n",
              "    <tr style=\"text-align: right;\">\n",
              "      <th></th>\n",
              "      <th>Tweets</th>\n",
              "      <th>Sentence_Count</th>\n",
              "      <th>Word_Count</th>\n",
              "      <th>Char_Count</th>\n",
              "      <th>Avg_Word</th>\n",
              "      <th>Stopwords</th>\n",
              "      <th>Special_Characters_Count</th>\n",
              "      <th>Numerics_Count</th>\n",
              "      <th>Upper_Count</th>\n",
              "    </tr>\n",
              "  </thead>\n",
              "  <tbody>\n",
              "    <tr>\n",
              "      <th>0</th>\n",
              "      <td>RT @TribalArmy: Missing Black and indigenous t...</td>\n",
              "      <td>2</td>\n",
              "      <td>23</td>\n",
              "      <td>140</td>\n",
              "      <td>5.043478</td>\n",
              "      <td>8</td>\n",
              "      <td>2</td>\n",
              "      <td>0</td>\n",
              "      <td>1</td>\n",
              "    </tr>\n",
              "    <tr>\n",
              "      <th>1</th>\n",
              "      <td>RT @amanda_gfx: #Overlays made for @ebsii_pvp ...</td>\n",
              "      <td>1</td>\n",
              "      <td>13</td>\n",
              "      <td>143</td>\n",
              "      <td>10.000000</td>\n",
              "      <td>1</td>\n",
              "      <td>10</td>\n",
              "      <td>0</td>\n",
              "      <td>1</td>\n",
              "    </tr>\n",
              "    <tr>\n",
              "      <th>2</th>\n",
              "      <td>RT @amanda_gfx: #Overlays made for @ebsii_pvp ...</td>\n",
              "      <td>1</td>\n",
              "      <td>13</td>\n",
              "      <td>143</td>\n",
              "      <td>10.000000</td>\n",
              "      <td>1</td>\n",
              "      <td>10</td>\n",
              "      <td>0</td>\n",
              "      <td>1</td>\n",
              "    </tr>\n",
              "    <tr>\n",
              "      <th>3</th>\n",
              "      <td>RT @IDLIVA: Staging the same Black people behi...</td>\n",
              "      <td>2</td>\n",
              "      <td>25</td>\n",
              "      <td>140</td>\n",
              "      <td>4.384615</td>\n",
              "      <td>8</td>\n",
              "      <td>2</td>\n",
              "      <td>0</td>\n",
              "      <td>2</td>\n",
              "    </tr>\n",
              "    <tr>\n",
              "      <th>4</th>\n",
              "      <td>RT @amanda_gfx: #Overlays made for @ebsii_pvp ...</td>\n",
              "      <td>1</td>\n",
              "      <td>13</td>\n",
              "      <td>143</td>\n",
              "      <td>10.000000</td>\n",
              "      <td>1</td>\n",
              "      <td>10</td>\n",
              "      <td>0</td>\n",
              "      <td>1</td>\n",
              "    </tr>\n",
              "    <tr>\n",
              "      <th>...</th>\n",
              "      <td>...</td>\n",
              "      <td>...</td>\n",
              "      <td>...</td>\n",
              "      <td>...</td>\n",
              "      <td>...</td>\n",
              "      <td>...</td>\n",
              "      <td>...</td>\n",
              "      <td>...</td>\n",
              "      <td>...</td>\n",
              "    </tr>\n",
              "    <tr>\n",
              "      <th>95</th>\n",
              "      <td>RT @VegasVisions: Did you know 2020, with #Bla...</td>\n",
              "      <td>2</td>\n",
              "      <td>22</td>\n",
              "      <td>140</td>\n",
              "      <td>5.086957</td>\n",
              "      <td>7</td>\n",
              "      <td>2</td>\n",
              "      <td>0</td>\n",
              "      <td>1</td>\n",
              "    </tr>\n",
              "    <tr>\n",
              "      <th>96</th>\n",
              "      <td>RT @WhiteBirdMarke1: 𝗖𝗔𝗥𝗧𝗢𝗢𝗡 𝗣𝗢𝗥𝗧𝗥𝗔𝗜𝗧💥💥\\n Come...</td>\n",
              "      <td>2</td>\n",
              "      <td>15</td>\n",
              "      <td>140</td>\n",
              "      <td>7.750000</td>\n",
              "      <td>3</td>\n",
              "      <td>5</td>\n",
              "      <td>0</td>\n",
              "      <td>4</td>\n",
              "    </tr>\n",
              "    <tr>\n",
              "      <th>97</th>\n",
              "      <td>RT @rodneysampson: Some of y’all #blacklivesma...</td>\n",
              "      <td>2</td>\n",
              "      <td>21</td>\n",
              "      <td>144</td>\n",
              "      <td>5.904762</td>\n",
              "      <td>4</td>\n",
              "      <td>3</td>\n",
              "      <td>0</td>\n",
              "      <td>1</td>\n",
              "    </tr>\n",
              "    <tr>\n",
              "      <th>98</th>\n",
              "      <td>She accepted our offering from the Ocean. She ...</td>\n",
              "      <td>3</td>\n",
              "      <td>24</td>\n",
              "      <td>140</td>\n",
              "      <td>5.086957</td>\n",
              "      <td>8</td>\n",
              "      <td>0</td>\n",
              "      <td>0</td>\n",
              "      <td>0</td>\n",
              "    </tr>\n",
              "    <tr>\n",
              "      <th>99</th>\n",
              "      <td>RT @blakandblack: .@ABarrMLA @ShaneRattenbury ...</td>\n",
              "      <td>2</td>\n",
              "      <td>21</td>\n",
              "      <td>144</td>\n",
              "      <td>5.904762</td>\n",
              "      <td>7</td>\n",
              "      <td>4</td>\n",
              "      <td>0</td>\n",
              "      <td>2</td>\n",
              "    </tr>\n",
              "  </tbody>\n",
              "</table>\n",
              "<p>100 rows × 9 columns</p>\n",
              "</div>"
            ],
            "text/plain": [
              "                                               Tweets  ...  Upper_Count\n",
              "0   RT @TribalArmy: Missing Black and indigenous t...  ...            1\n",
              "1   RT @amanda_gfx: #Overlays made for @ebsii_pvp ...  ...            1\n",
              "2   RT @amanda_gfx: #Overlays made for @ebsii_pvp ...  ...            1\n",
              "3   RT @IDLIVA: Staging the same Black people behi...  ...            2\n",
              "4   RT @amanda_gfx: #Overlays made for @ebsii_pvp ...  ...            1\n",
              "..                                                ...  ...          ...\n",
              "95  RT @VegasVisions: Did you know 2020, with #Bla...  ...            1\n",
              "96  RT @WhiteBirdMarke1: 𝗖𝗔𝗥𝗧𝗢𝗢𝗡 𝗣𝗢𝗥𝗧𝗥𝗔𝗜𝗧💥💥\\n Come...  ...            4\n",
              "97  RT @rodneysampson: Some of y’all #blacklivesma...  ...            1\n",
              "98  She accepted our offering from the Ocean. She ...  ...            0\n",
              "99  RT @blakandblack: .@ABarrMLA @ShaneRattenbury ...  ...            2\n",
              "\n",
              "[100 rows x 9 columns]"
            ]
          },
          "metadata": {},
          "execution_count": 5
        }
      ]
    },
    {
      "cell_type": "code",
      "metadata": {
        "colab": {
          "base_uri": "https://localhost:8080/"
        },
        "id": "GeBXaegaDOO5",
        "outputId": "712253c9-4c77-4b81-8fb4-d8faafb1614d"
      },
      "source": [
        "import nltk\n",
        "nltk.download('wordnet')"
      ],
      "execution_count": 6,
      "outputs": [
        {
          "output_type": "stream",
          "name": "stdout",
          "text": [
            "[nltk_data] Downloading package wordnet to /root/nltk_data...\n",
            "[nltk_data]   Package wordnet is already up-to-date!\n"
          ]
        },
        {
          "output_type": "execute_result",
          "data": {
            "text/plain": [
              "True"
            ]
          },
          "metadata": {},
          "execution_count": 6
        }
      ]
    },
    {
      "cell_type": "code",
      "metadata": {
        "colab": {
          "base_uri": "https://localhost:8080/",
          "height": 424
        },
        "id": "blVGze4ZDDWq",
        "outputId": "9bd1d867-edac-457a-92c7-c9892c157774"
      },
      "source": [
        "Tweet2 = pd.DataFrame()\n",
        "\n",
        "Tweet2['Tweets'] = Tweet['Tweets'].apply(lambda x: \" \".join(x.lower() for x in x.split()))\n",
        "\n",
        "Tweet2['Tweets'] = Tweet2['Tweets'].str.replace('[^\\w\\s]','')\n",
        "\n",
        "Tweet2['Tweets'] = Tweet2['Tweets'].apply(lambda x: \" \".join(x for x in x.split() if x not in stop))\n",
        "\n",
        "common = pd.Series(' '.join(Tweet2['Tweets']).split()).value_counts()[:10]\n",
        "\n",
        "Tweet2['Tweets'] = Tweet2['Tweets'].apply(lambda x: \" \".join(x for x in x.split() if x not in common))\n",
        "\n",
        "rare = pd.Series(' '.join(Tweet2['Tweets']).split()).value_counts()[-10:]\n",
        "Tweet2['Tweets'] = Tweet2['Tweets'].apply(lambda x: \" \".join(x for x in x.split() if x not in rare))\n",
        "\n",
        "from textblob import TextBlob\n",
        "Tweet2['Tweets'][:5].apply(lambda x: str(TextBlob(x).correct()))\n",
        "\n",
        "TextBlob(Tweet2['Tweets'][1]).words\n",
        "\n",
        "from nltk.stem import PorterStemmer\n",
        "st = PorterStemmer()\n",
        "Tweet2['Tweets'][:5].apply(lambda x: \" \".join([st.stem(word) for word in x.split()]))\n",
        "\n",
        "from textblob import Word\n",
        "Tweet2['Tweets'] = Tweet2['Tweets'].apply(lambda x: \" \".join([Word(word).lemmatize() for word in x.split()]))\n",
        "Tweet2"
      ],
      "execution_count": 7,
      "outputs": [
        {
          "output_type": "execute_result",
          "data": {
            "text/html": [
              "<div>\n",
              "<style scoped>\n",
              "    .dataframe tbody tr th:only-of-type {\n",
              "        vertical-align: middle;\n",
              "    }\n",
              "\n",
              "    .dataframe tbody tr th {\n",
              "        vertical-align: top;\n",
              "    }\n",
              "\n",
              "    .dataframe thead th {\n",
              "        text-align: right;\n",
              "    }\n",
              "</style>\n",
              "<table border=\"1\" class=\"dataframe\">\n",
              "  <thead>\n",
              "    <tr style=\"text-align: right;\">\n",
              "      <th></th>\n",
              "      <th>Tweets</th>\n",
              "    </tr>\n",
              "  </thead>\n",
              "  <tbody>\n",
              "    <tr>\n",
              "      <th>0</th>\n",
              "      <td>tribalarmy missing black indigenous tribal wom...</td>\n",
              "    </tr>\n",
              "    <tr>\n",
              "      <th>1</th>\n",
              "      <td>amanda_gfx overlay made ebsii_pvp lt3 twitchaf...</td>\n",
              "    </tr>\n",
              "    <tr>\n",
              "      <th>2</th>\n",
              "      <td>amanda_gfx overlay made ebsii_pvp lt3 twitchaf...</td>\n",
              "    </tr>\n",
              "    <tr>\n",
              "      <th>3</th>\n",
              "      <td>idliva staging black people behind every klan ...</td>\n",
              "    </tr>\n",
              "    <tr>\n",
              "      <th>4</th>\n",
              "      <td>amanda_gfx overlay made ebsii_pvp lt3 twitchaf...</td>\n",
              "    </tr>\n",
              "    <tr>\n",
              "      <th>...</th>\n",
              "      <td>...</td>\n",
              "    </tr>\n",
              "    <tr>\n",
              "      <th>95</th>\n",
              "      <td>vegasvisions know 2020 full swing assault jour...</td>\n",
              "    </tr>\n",
              "    <tr>\n",
              "      <th>96</th>\n",
              "      <td>whitebirdmarke1 𝗖𝗔𝗥𝗧𝗢𝗢𝗡 𝗣𝗢𝗥𝗧𝗥𝗔𝗜𝗧 come dm get w...</td>\n",
              "    </tr>\n",
              "    <tr>\n",
              "      <th>97</th>\n",
              "      <td>rodneysampson yall ally truly antiblack humani...</td>\n",
              "    </tr>\n",
              "    <tr>\n",
              "      <th>98</th>\n",
              "      <td>offering ocean back shell hope ripple ocean in...</td>\n",
              "    </tr>\n",
              "    <tr>\n",
              "      <th>99</th>\n",
              "      <td>blakandblack abarrmla shanerattenbury would li...</td>\n",
              "    </tr>\n",
              "  </tbody>\n",
              "</table>\n",
              "<p>100 rows × 1 columns</p>\n",
              "</div>"
            ],
            "text/plain": [
              "                                               Tweets\n",
              "0   tribalarmy missing black indigenous tribal wom...\n",
              "1   amanda_gfx overlay made ebsii_pvp lt3 twitchaf...\n",
              "2   amanda_gfx overlay made ebsii_pvp lt3 twitchaf...\n",
              "3   idliva staging black people behind every klan ...\n",
              "4   amanda_gfx overlay made ebsii_pvp lt3 twitchaf...\n",
              "..                                                ...\n",
              "95  vegasvisions know 2020 full swing assault jour...\n",
              "96  whitebirdmarke1 𝗖𝗔𝗥𝗧𝗢𝗢𝗡 𝗣𝗢𝗥𝗧𝗥𝗔𝗜𝗧 come dm get w...\n",
              "97  rodneysampson yall ally truly antiblack humani...\n",
              "98  offering ocean back shell hope ripple ocean in...\n",
              "99  blakandblack abarrmla shanerattenbury would li...\n",
              "\n",
              "[100 rows x 1 columns]"
            ]
          },
          "metadata": {},
          "execution_count": 7
        }
      ]
    },
    {
      "cell_type": "markdown",
      "metadata": {
        "id": "knqhHgKcnm8s"
      },
      "source": [
        "Question 3 (10 points): Use any of the feature selection methods mentioned in this paper \"Deng, X., Li, Y., Weng, J., & Zhang, J. (2019). Feature selection for text classification: A review. Multimedia Tools & Applications, 78(3).\" Select the most important features you extracted above, rank the features based on their importance in the descending order. "
      ]
    },
    {
      "cell_type": "code",
      "metadata": {
        "colab": {
          "base_uri": "https://localhost:8080/",
          "height": 87
        },
        "id": "xqBEffWQnm8s",
        "outputId": "f1a32dc9-4334-4279-ebb9-826abddfe535"
      },
      "source": [
        "'''\n",
        "There are multiple feature selection methods discussed in the paper but my selection is text classification under which different models are discussed as:\n",
        "\n",
        "1.Text classification\n",
        "i.   Filter model\n",
        "ii.  Wrapper model\n",
        "iii. Embedded model\n",
        "iv.  Hybrid model\n",
        "\n",
        "Filter model is the one to be used in this task since all the features have to be removed from the tweets and filtered for the cleaned words.\n",
        "After the collection of cleaned words, these can be compared to the data dictionary and sentiments numeric can be assigned and total sentiment can be obtained.\n",
        "Hence tweets sentiments as positive or negative will be shown.\n",
        "'''"
      ],
      "execution_count": 8,
      "outputs": [
        {
          "output_type": "execute_result",
          "data": {
            "application/vnd.google.colaboratory.intrinsic+json": {
              "type": "string"
            },
            "text/plain": [
              "'\\nThere are multiple feature selection methods discussed in the paper but my selection is text classification under which different models are discussed as:\\n\\n1.Text classification\\ni.   Filter model\\nii.  Wrapper model\\niii. Embedded model\\niv.  Hybrid model\\n\\nFilter model is the one to be used in this task since all the features have to be removed from the tweets and filtered for the cleaned words.\\nAfter the collection of cleaned words, these can be compared to the data dictionary and sentiments numeric can be assigned and total sentiment can be obtained.\\nHence tweets sentiments as positive or negative will be shown.\\n'"
            ]
          },
          "metadata": {},
          "execution_count": 8
        }
      ]
    },
    {
      "cell_type": "code",
      "metadata": {
        "colab": {
          "base_uri": "https://localhost:8080/",
          "height": 424
        },
        "id": "ijTjmpZTBk8A",
        "outputId": "a2e339e5-6a7d-4829-cbe9-5ce4d7053e49"
      },
      "source": [
        "#Defining a function to get the polarity and subjectivity to reach the final goal\n",
        "def sentiment_calc(text):\n",
        "    try:\n",
        "        return TextBlob(text).sentiment\n",
        "    except:\n",
        "        return None\n",
        "\n",
        "#Adding the results in DataFrame\n",
        "Tweet2['Polarity_Subjectivity'] = Tweet2['Tweets'].apply(sentiment_calc)\n",
        "Tweet2['Polarity'] = Tweet2['Polarity_Subjectivity'].apply(lambda x: x[0])\n",
        "\n",
        "#Creating the filter model\n",
        "#If polarity is positive sentiment is filtered as Positive and viceversa\n",
        "def sentiment(Polarity):\n",
        "  if Polarity>0:\n",
        "    return 'Positive'\n",
        "  else:\n",
        "    return 'Negative'\n",
        "\n",
        "#Final DataFrame with Sentiments - Goal for this Assignment\n",
        "Tweet2['Sentiment'] = Tweet2['Polarity'].apply(sentiment)\n",
        "Tweet2\n",
        "  "
      ],
      "execution_count": 9,
      "outputs": [
        {
          "output_type": "execute_result",
          "data": {
            "text/html": [
              "<div>\n",
              "<style scoped>\n",
              "    .dataframe tbody tr th:only-of-type {\n",
              "        vertical-align: middle;\n",
              "    }\n",
              "\n",
              "    .dataframe tbody tr th {\n",
              "        vertical-align: top;\n",
              "    }\n",
              "\n",
              "    .dataframe thead th {\n",
              "        text-align: right;\n",
              "    }\n",
              "</style>\n",
              "<table border=\"1\" class=\"dataframe\">\n",
              "  <thead>\n",
              "    <tr style=\"text-align: right;\">\n",
              "      <th></th>\n",
              "      <th>Tweets</th>\n",
              "      <th>Polarity_Subjectivity</th>\n",
              "      <th>Polarity</th>\n",
              "      <th>Sentiment</th>\n",
              "    </tr>\n",
              "  </thead>\n",
              "  <tbody>\n",
              "    <tr>\n",
              "      <th>0</th>\n",
              "      <td>tribalarmy missing black indigenous tribal wom...</td>\n",
              "      <td>(-0.14166666666666666, 0.13333333333333333)</td>\n",
              "      <td>-0.141667</td>\n",
              "      <td>Negative</td>\n",
              "    </tr>\n",
              "    <tr>\n",
              "      <th>1</th>\n",
              "      <td>amanda_gfx overlay made ebsii_pvp lt3 twitchaf...</td>\n",
              "      <td>(0.0, 0.0)</td>\n",
              "      <td>0.000000</td>\n",
              "      <td>Negative</td>\n",
              "    </tr>\n",
              "    <tr>\n",
              "      <th>2</th>\n",
              "      <td>amanda_gfx overlay made ebsii_pvp lt3 twitchaf...</td>\n",
              "      <td>(0.0, 0.0)</td>\n",
              "      <td>0.000000</td>\n",
              "      <td>Negative</td>\n",
              "    </tr>\n",
              "    <tr>\n",
              "      <th>3</th>\n",
              "      <td>idliva staging black people behind every klan ...</td>\n",
              "      <td>(-0.10833333333333334, 0.44166666666666665)</td>\n",
              "      <td>-0.108333</td>\n",
              "      <td>Negative</td>\n",
              "    </tr>\n",
              "    <tr>\n",
              "      <th>4</th>\n",
              "      <td>amanda_gfx overlay made ebsii_pvp lt3 twitchaf...</td>\n",
              "      <td>(0.0, 0.0)</td>\n",
              "      <td>0.000000</td>\n",
              "      <td>Negative</td>\n",
              "    </tr>\n",
              "    <tr>\n",
              "      <th>...</th>\n",
              "      <td>...</td>\n",
              "      <td>...</td>\n",
              "      <td>...</td>\n",
              "      <td>...</td>\n",
              "    </tr>\n",
              "    <tr>\n",
              "      <th>95</th>\n",
              "      <td>vegasvisions know 2020 full swing assault jour...</td>\n",
              "      <td>(0.35, 0.55)</td>\n",
              "      <td>0.350000</td>\n",
              "      <td>Positive</td>\n",
              "    </tr>\n",
              "    <tr>\n",
              "      <th>96</th>\n",
              "      <td>whitebirdmarke1 𝗖𝗔𝗥𝗧𝗢𝗢𝗡 𝗣𝗢𝗥𝗧𝗥𝗔𝗜𝗧 come dm get w...</td>\n",
              "      <td>(0.0, 0.0)</td>\n",
              "      <td>0.000000</td>\n",
              "      <td>Negative</td>\n",
              "    </tr>\n",
              "    <tr>\n",
              "      <th>97</th>\n",
              "      <td>rodneysampson yall ally truly antiblack humani...</td>\n",
              "      <td>(0.2, 0.2)</td>\n",
              "      <td>0.200000</td>\n",
              "      <td>Positive</td>\n",
              "    </tr>\n",
              "    <tr>\n",
              "      <th>98</th>\n",
              "      <td>offering ocean back shell hope ripple ocean in...</td>\n",
              "      <td>(0.0, 0.0)</td>\n",
              "      <td>0.000000</td>\n",
              "      <td>Negative</td>\n",
              "    </tr>\n",
              "    <tr>\n",
              "      <th>99</th>\n",
              "      <td>blakandblack abarrmla shanerattenbury would li...</td>\n",
              "      <td>(0.0, 0.0)</td>\n",
              "      <td>0.000000</td>\n",
              "      <td>Negative</td>\n",
              "    </tr>\n",
              "  </tbody>\n",
              "</table>\n",
              "<p>100 rows × 4 columns</p>\n",
              "</div>"
            ],
            "text/plain": [
              "                                               Tweets  ... Sentiment\n",
              "0   tribalarmy missing black indigenous tribal wom...  ...  Negative\n",
              "1   amanda_gfx overlay made ebsii_pvp lt3 twitchaf...  ...  Negative\n",
              "2   amanda_gfx overlay made ebsii_pvp lt3 twitchaf...  ...  Negative\n",
              "3   idliva staging black people behind every klan ...  ...  Negative\n",
              "4   amanda_gfx overlay made ebsii_pvp lt3 twitchaf...  ...  Negative\n",
              "..                                                ...  ...       ...\n",
              "95  vegasvisions know 2020 full swing assault jour...  ...  Positive\n",
              "96  whitebirdmarke1 𝗖𝗔𝗥𝗧𝗢𝗢𝗡 𝗣𝗢𝗥𝗧𝗥𝗔𝗜𝗧 come dm get w...  ...  Negative\n",
              "97  rodneysampson yall ally truly antiblack humani...  ...  Positive\n",
              "98  offering ocean back shell hope ripple ocean in...  ...  Negative\n",
              "99  blakandblack abarrmla shanerattenbury would li...  ...  Negative\n",
              "\n",
              "[100 rows x 4 columns]"
            ]
          },
          "metadata": {},
          "execution_count": 9
        }
      ]
    }
  ]
}