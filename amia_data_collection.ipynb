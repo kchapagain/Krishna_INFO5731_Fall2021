{
  "nbformat": 4,
  "nbformat_minor": 0,
  "metadata": {
    "colab": {
      "name": "amia_data_collection.ipynb",
      "provenance": [],
      "collapsed_sections": [],
      "include_colab_link": true
    },
    "kernelspec": {
      "name": "python3",
      "display_name": "Python 3"
    },
    "language_info": {
      "name": "python"
    }
  },
  "cells": [
    {
      "cell_type": "markdown",
      "metadata": {
        "id": "view-in-github",
        "colab_type": "text"
      },
      "source": [
        "<a href=\"https://colab.research.google.com/github/kchapagain/Krishna_INFO5731_Fall2021/blob/Final-Project/amia_data_collection.ipynb\" target=\"_parent\"><img src=\"https://colab.research.google.com/assets/colab-badge.svg\" alt=\"Open In Colab\"/></a>"
      ]
    },
    {
      "cell_type": "code",
      "metadata": {
        "id": "do5X_Rz-jBns",
        "colab": {
          "base_uri": "https://localhost:8080/"
        },
        "outputId": "77493e2a-268d-41e7-ebc9-f1910a32e42f"
      },
      "source": [
        "#For Year 2020\n",
        "\n",
        "from bs4 import BeautifulSoup\n",
        "from urllib.request import Request, urlopen\n",
        "import pandas as pd\n",
        "pmc_id = []  #needs cleaning\n",
        "title = [] \n",
        "authors = []\n",
        "authors_information = [] \n",
        "year = []\n",
        "abstract = []\n",
        "hdrs = {'User-Agent': 'Mozilla/5.0'}\n",
        "try: \n",
        "  for pmc in range(8075400,8075600):\n",
        "    site= f\"https://www.ncbi.nlm.nih.gov/pmc/articles/PMC{pmc}\"\n",
        "    req = Request(site,headers=hdrs)\n",
        "    page = urlopen(req)\n",
        "    soup = BeautifulSoup(page)\n",
        "   \n",
        "    for i in soup.findAll(class_ = \"content-title\"):\n",
        "      title.append(i.get_text(strip = True)) # appends for all pages of the soup\n",
        "\n",
        "    \n",
        "    for j in soup.findAll(\"div\",{'class':'fm-citation-pmcid'}):\n",
        "      pmc_id.append(j.get_text(strip=True))\n",
        "\n",
        "    for k in soup.findAll(\"a\",{'class':'affpopup'},\"a\"):\n",
        "      authors.append(k.get_text(strip=True))\n",
        "\n",
        "    for l in soup.findAll(\"div\",{'class':'fm-affl'},\"a\"):\n",
        "      authors_information.append(l.get_text(strip=True))\n",
        "\n",
        "    for m in soup.findAll(\"div\",{'class':'part1'},\"span\"):\n",
        "      year.append(m.get_text(strip=True))\n",
        "    \n",
        "    for n in soup.findAll(\"p\",{'id':'__p1'},{'class':'p p-first-last'}):\n",
        "      abstract.append(n.get_text(strip=True))\n",
        "\n",
        "except:\n",
        "  pass\n",
        "\n",
        "#Check the number of data in a year\n",
        "print(len(abstract))"
      ],
      "execution_count": 2,
      "outputs": [
        {
          "output_type": "stream",
          "name": "stdout",
          "text": [
            "157\n"
          ]
        }
      ]
    },
    {
      "cell_type": "code",
      "metadata": {
        "colab": {
          "base_uri": "https://localhost:8080/",
          "height": 597
        },
        "id": "m-mWWiuK79sa",
        "outputId": "625a65c3-52a2-4465-98b2-d862f0642797"
      },
      "source": [
        "#Converting to dataframe\n",
        "amia_2020=pd.DataFrame(list(zip(pmc_id,title,authors,authors_information,year,abstract)),columns = ['pmc_id','title','authors','authors_information','year','abstract'])\n",
        "amia_2020"
      ],
      "execution_count": 5,
      "outputs": [
        {
          "output_type": "execute_result",
          "data": {
            "text/html": [
              "<div>\n",
              "<style scoped>\n",
              "    .dataframe tbody tr th:only-of-type {\n",
              "        vertical-align: middle;\n",
              "    }\n",
              "\n",
              "    .dataframe tbody tr th {\n",
              "        vertical-align: top;\n",
              "    }\n",
              "\n",
              "    .dataframe thead th {\n",
              "        text-align: right;\n",
              "    }\n",
              "</style>\n",
              "<table border=\"1\" class=\"dataframe\">\n",
              "  <thead>\n",
              "    <tr style=\"text-align: right;\">\n",
              "      <th></th>\n",
              "      <th>pmc_id</th>\n",
              "      <th>title</th>\n",
              "      <th>authors</th>\n",
              "      <th>authors_information</th>\n",
              "      <th>year</th>\n",
              "      <th>abstract</th>\n",
              "    </tr>\n",
              "  </thead>\n",
              "  <tbody>\n",
              "    <tr>\n",
              "      <th>0</th>\n",
              "      <td>PMCID:PMC8075400</td>\n",
              "      <td>Association of White Matter Hyperintensity Pro...</td>\n",
              "      <td>Kentaro Hirao</td>\n",
              "      <td>aDepartment of Geriatric Medicine, Tokyo Medic...</td>\n",
              "      <td>J Alzheimers Dis.2021; 80(2): 877–883.</td>\n",
              "      <td>White matter hyperintensities (WMH) on MRI hav...</td>\n",
              "    </tr>\n",
              "    <tr>\n",
              "      <th>1</th>\n",
              "      <td>PMCID:PMC8075401</td>\n",
              "      <td>Mild Behavioral Impairment and Subjective Cogn...</td>\n",
              "      <td>Fumio Yamashita</td>\n",
              "      <td>bDepartment of Ultrahigh Field MRI, Institute ...</td>\n",
              "      <td>J Alzheimers Dis.2021; 80(1): 459–469.</td>\n",
              "      <td>Mild behavioral impairment (MBI) and subjectiv...</td>\n",
              "    </tr>\n",
              "    <tr>\n",
              "      <th>2</th>\n",
              "      <td>PMCID:PMC8075402</td>\n",
              "      <td>Safety Monitoring of Gene Therapy for Spinal M...</td>\n",
              "      <td>Akito Tsugawa</td>\n",
              "      <td>aDepartment of Psychiatry, University of Calga...</td>\n",
              "      <td>J Neuromuscul Dis.2021; 8(2): 209–216.</td>\n",
              "      <td>Recently gene therapy with onasemnogene abepar...</td>\n",
              "    </tr>\n",
              "    <tr>\n",
              "      <th>3</th>\n",
              "      <td>PMCID:PMC8075403</td>\n",
              "      <td>Assessing the Progression of Alzheimer’s Disea...</td>\n",
              "      <td>Rieko Haime</td>\n",
              "      <td>bDepartment of Clinical Neurosciences, Univers...</td>\n",
              "      <td>J Alzheimers Dis.2021; 80(2): 749–759.</td>\n",
              "      <td>There exists considerable variation in disease...</td>\n",
              "    </tr>\n",
              "    <tr>\n",
              "      <th>4</th>\n",
              "      <td>PMCID:PMC8075404</td>\n",
              "      <td>Investigating the Spatial Associations Between...</td>\n",
              "      <td>Raita Fukasawa</td>\n",
              "      <td>cDepartment of Community Health Sciences, Univ...</td>\n",
              "      <td>J Alzheimers Dis.2021; 80(1): 113–132.</td>\n",
              "      <td>It has been proposed that amyloid-β (Aβ) plays...</td>\n",
              "    </tr>\n",
              "    <tr>\n",
              "      <th>...</th>\n",
              "      <td>...</td>\n",
              "      <td>...</td>\n",
              "      <td>...</td>\n",
              "      <td>...</td>\n",
              "      <td>...</td>\n",
              "      <td>...</td>\n",
              "    </tr>\n",
              "    <tr>\n",
              "      <th>152</th>\n",
              "      <td>PMCID:PMC8075552</td>\n",
              "      <td>A Virtual Reality-Based Screening Test for Cog...</td>\n",
              "      <td>Robert Thombley</td>\n",
              "      <td>*Senior author</td>\n",
              "      <td>J Alzheimers Dis Rep.2021; 5(1): 187–206.</td>\n",
              "      <td>The association between daily alcohol intake a...</td>\n",
              "    </tr>\n",
              "    <tr>\n",
              "      <th>153</th>\n",
              "      <td>PMCID:PMC8075553</td>\n",
              "      <td>Sex Differences in Cardiovascular Disease and ...</td>\n",
              "      <td>Jonathan Chiang</td>\n",
              "      <td>1Universidade de Fortaleza, Fortaleza, Cearά, ...</td>\n",
              "      <td>Fukushima J Med Sci.2021; 67(1): 27–32.</td>\n",
              "      <td>We treated a man with a chief complaint of mem...</td>\n",
              "    </tr>\n",
              "    <tr>\n",
              "      <th>154</th>\n",
              "      <td>PMCID:PMC8075554</td>\n",
              "      <td>Incorporating a Usual Care Comparator into a S...</td>\n",
              "      <td>Conor K. Corbin</td>\n",
              "      <td>1Institute of Biomedical Informatics, National...</td>\n",
              "      <td>Fukushima J Med Sci.2021; 67(1): 33–37.</td>\n",
              "      <td>[Journal of Alzheimer’s Disease Reports, 3(1) ...</td>\n",
              "    </tr>\n",
              "    <tr>\n",
              "      <th>155</th>\n",
              "      <td>PMCID:PMC8075555</td>\n",
              "      <td>Orthogonal antibody testing for COVID-19 among...</td>\n",
              "      <td>Minh Nguyen</td>\n",
              "      <td>2Health Management Center, The Affiliated BenQ...</td>\n",
              "      <td>Fukushima J Med Sci.2021; 67(1): 8–16.</td>\n",
              "      <td>Sequence determination of peptides is a crucia...</td>\n",
              "    </tr>\n",
              "    <tr>\n",
              "      <th>156</th>\n",
              "      <td>PMCID:PMC8075556</td>\n",
              "      <td>Ossification of the ligamentum flavum in the t...</td>\n",
              "      <td>Vincent X. Liu</td>\n",
              "      <td>3Kinyoung Smart Health (Nanjing) Co., Ltd</td>\n",
              "      <td>Fukushima J Med Sci.2021; 67(1): 17–26.</td>\n",
              "      <td>One of the challenges of implant breast recons...</td>\n",
              "    </tr>\n",
              "  </tbody>\n",
              "</table>\n",
              "<p>157 rows × 6 columns</p>\n",
              "</div>"
            ],
            "text/plain": [
              "               pmc_id  ...                                           abstract\n",
              "0    PMCID:PMC8075400  ...  White matter hyperintensities (WMH) on MRI hav...\n",
              "1    PMCID:PMC8075401  ...  Mild behavioral impairment (MBI) and subjectiv...\n",
              "2    PMCID:PMC8075402  ...  Recently gene therapy with onasemnogene abepar...\n",
              "3    PMCID:PMC8075403  ...  There exists considerable variation in disease...\n",
              "4    PMCID:PMC8075404  ...  It has been proposed that amyloid-β (Aβ) plays...\n",
              "..                ...  ...                                                ...\n",
              "152  PMCID:PMC8075552  ...  The association between daily alcohol intake a...\n",
              "153  PMCID:PMC8075553  ...  We treated a man with a chief complaint of mem...\n",
              "154  PMCID:PMC8075554  ...  [Journal of Alzheimer’s Disease Reports, 3(1) ...\n",
              "155  PMCID:PMC8075555  ...  Sequence determination of peptides is a crucia...\n",
              "156  PMCID:PMC8075556  ...  One of the challenges of implant breast recons...\n",
              "\n",
              "[157 rows x 6 columns]"
            ]
          },
          "metadata": {},
          "execution_count": 5
        }
      ]
    },
    {
      "cell_type": "code",
      "metadata": {
        "id": "_971cVtUKulv"
      },
      "source": [
        "amia_2020.to_csv('amia_2020.csv',index=False)"
      ],
      "execution_count": 6,
      "outputs": []
    },
    {
      "cell_type": "code",
      "metadata": {
        "colab": {
          "base_uri": "https://localhost:8080/",
          "height": 17
        },
        "id": "OMZfN69zM1ZP",
        "outputId": "a9e101a0-e2ef-48fb-8f39-cbee86aa0143"
      },
      "source": [
        "from google.colab import files\n",
        "files.download('amia_2020.csv')"
      ],
      "execution_count": 7,
      "outputs": [
        {
          "output_type": "display_data",
          "data": {
            "application/javascript": [
              "\n",
              "    async function download(id, filename, size) {\n",
              "      if (!google.colab.kernel.accessAllowed) {\n",
              "        return;\n",
              "      }\n",
              "      const div = document.createElement('div');\n",
              "      const label = document.createElement('label');\n",
              "      label.textContent = `Downloading \"${filename}\": `;\n",
              "      div.appendChild(label);\n",
              "      const progress = document.createElement('progress');\n",
              "      progress.max = size;\n",
              "      div.appendChild(progress);\n",
              "      document.body.appendChild(div);\n",
              "\n",
              "      const buffers = [];\n",
              "      let downloaded = 0;\n",
              "\n",
              "      const channel = await google.colab.kernel.comms.open(id);\n",
              "      // Send a message to notify the kernel that we're ready.\n",
              "      channel.send({})\n",
              "\n",
              "      for await (const message of channel.messages) {\n",
              "        // Send a message to notify the kernel that we're ready.\n",
              "        channel.send({})\n",
              "        if (message.buffers) {\n",
              "          for (const buffer of message.buffers) {\n",
              "            buffers.push(buffer);\n",
              "            downloaded += buffer.byteLength;\n",
              "            progress.value = downloaded;\n",
              "          }\n",
              "        }\n",
              "      }\n",
              "      const blob = new Blob(buffers, {type: 'application/binary'});\n",
              "      const a = document.createElement('a');\n",
              "      a.href = window.URL.createObjectURL(blob);\n",
              "      a.download = filename;\n",
              "      div.appendChild(a);\n",
              "      a.click();\n",
              "      div.remove();\n",
              "    }\n",
              "  "
            ],
            "text/plain": [
              "<IPython.core.display.Javascript object>"
            ]
          },
          "metadata": {}
        },
        {
          "output_type": "display_data",
          "data": {
            "application/javascript": [
              "download(\"download_e29883bd-86b6-4f7f-8a7d-c8e7baeaa607\", \"amia_2020.csv\", 192372)"
            ],
            "text/plain": [
              "<IPython.core.display.Javascript object>"
            ]
          },
          "metadata": {}
        }
      ]
    }
  ]
}