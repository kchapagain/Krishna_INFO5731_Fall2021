{
  "nbformat": 4,
  "nbformat_minor": 0,
  "metadata": {
    "colab": {
      "name": "In_class_exercise_01.ipynb",
      "provenance": [],
      "collapsed_sections": [],
      "include_colab_link": true
    },
    "kernelspec": {
      "display_name": "Python 3",
      "language": "python",
      "name": "python3"
    },
    "language_info": {
      "codemirror_mode": {
        "name": "ipython",
        "version": 3
      },
      "file_extension": ".py",
      "mimetype": "text/x-python",
      "name": "python",
      "nbconvert_exporter": "python",
      "pygments_lexer": "ipython3",
      "version": "3.8.3"
    }
  },
  "cells": [
    {
      "cell_type": "markdown",
      "metadata": {
        "id": "view-in-github",
        "colab_type": "text"
      },
      "source": [
        "<a href=\"https://colab.research.google.com/github/kchapagain/Krishna_INFO5731_Fall2021/blob/main/In_class_exercise_01.ipynb\" target=\"_parent\"><img src=\"https://colab.research.google.com/assets/colab-badge.svg\" alt=\"Open In Colab\"/></a>"
      ]
    },
    {
      "cell_type": "markdown",
      "metadata": {
        "id": "DymRJbxDBCnf"
      },
      "source": [
        "# **The first In-class-exercise (09/01/2021, 40 points in total)**"
      ]
    },
    {
      "cell_type": "markdown",
      "metadata": {
        "id": "03jb4GZsBkBS"
      },
      "source": [
        "(1) Write a Python program to calculate the length of a string. (4 points)"
      ]
    },
    {
      "cell_type": "code",
      "metadata": {
        "id": "YaGLbSHHB8Ej",
        "colab": {
          "base_uri": "https://localhost:8080/"
        },
        "outputId": "3554ae73-67d7-4a43-9964-f3fef6ff64b7"
      },
      "source": [
        "string = \"Krishna\"\n",
        "def length(string):\n",
        "  return len(string) # Returns the length of any string defined\n",
        "\n",
        "length(string)\n"
      ],
      "execution_count": 1,
      "outputs": [
        {
          "output_type": "execute_result",
          "data": {
            "text/plain": [
              "7"
            ]
          },
          "metadata": {},
          "execution_count": 1
        }
      ]
    },
    {
      "cell_type": "markdown",
      "metadata": {
        "id": "jJDe71iLB616"
      },
      "source": [
        "(2) Write a Python program to count the number of characters in a string. (4 points)\n",
        "\n",
        "Sample String : 'google.com‘, \n",
        "\n",
        "Expected Result : {'o': 3, 'g': 2, '.': 1, 'e': 1, 'l': 1, 'm': 1, 'c': 1}"
      ]
    },
    {
      "cell_type": "code",
      "metadata": {
        "id": "MtKskTzbCLaU",
        "colab": {
          "base_uri": "https://localhost:8080/"
        },
        "outputId": "8c439574-6f86-417f-dfd0-125e6c6d0e85"
      },
      "source": [
        "string = \"google.com\"\n",
        "Result = {}\n",
        "for i in string:\n",
        "  if i in Result:\n",
        "    Result[i] = Result[i] + 1\n",
        "  else:\n",
        "    Result[i] =  1\n",
        "Result\n"
      ],
      "execution_count": 2,
      "outputs": [
        {
          "output_type": "execute_result",
          "data": {
            "text/plain": [
              "{'.': 1, 'c': 1, 'e': 1, 'g': 2, 'l': 1, 'm': 1, 'o': 3}"
            ]
          },
          "metadata": {},
          "execution_count": 2
        }
      ]
    },
    {
      "cell_type": "markdown",
      "metadata": {
        "id": "55W9AMdXCSpV"
      },
      "source": [
        "(3) Write a Python program to sum all the items in a list. (4 points)"
      ]
    },
    {
      "cell_type": "code",
      "metadata": {
        "id": "I57NXsauCec2",
        "colab": {
          "base_uri": "https://localhost:8080/"
        },
        "outputId": "b295ab66-edd4-445d-e936-7734c1a3777c"
      },
      "source": [
        "Items = [1,2,3,4,5,6,7,8,9]\n",
        "sum = 0\n",
        "for i in Items:\n",
        "  sum = sum + i\n",
        "sum"
      ],
      "execution_count": 3,
      "outputs": [
        {
          "output_type": "execute_result",
          "data": {
            "text/plain": [
              "45"
            ]
          },
          "metadata": {},
          "execution_count": 3
        }
      ]
    },
    {
      "cell_type": "markdown",
      "metadata": {
        "id": "4ulBZ6yhCi9F"
      },
      "source": [
        "(4) Write a Python program to get a string from a given string where all occurrences of its first char have been changed to '\\$', except the first char itself. (4 points)\n",
        "\n",
        "Sample String : 'restart‘, \n",
        "\n",
        "Expected Result : 'resta\\$t'"
      ]
    },
    {
      "cell_type": "code",
      "metadata": {
        "id": "Fj0XhwbBCw2o",
        "colab": {
          "base_uri": "https://localhost:8080/",
          "height": 35
        },
        "outputId": "bb127338-89f0-4ebd-a3d7-b8aae7c2c1a2"
      },
      "source": [
        "\n",
        "string = 'restart'\n",
        "replace = string.replace(string[0],'$')\n",
        "string[0] + replace[1:]"
      ],
      "execution_count": 4,
      "outputs": [
        {
          "output_type": "execute_result",
          "data": {
            "application/vnd.google.colaboratory.intrinsic+json": {
              "type": "string"
            },
            "text/plain": [
              "'resta$t'"
            ]
          },
          "metadata": {},
          "execution_count": 4
        }
      ]
    },
    {
      "cell_type": "markdown",
      "metadata": {
        "id": "_bIP7s1MCzue"
      },
      "source": [
        "(5) Write a program with python which could accept two parameter a and b to calculate and output the result of S, where \n",
        "\n",
        "$\\ S=3.14*(1+a/b)^3$ (4 points)\n",
        "\n"
      ]
    },
    {
      "cell_type": "code",
      "metadata": {
        "id": "w79QilHXD3Mg",
        "colab": {
          "base_uri": "https://localhost:8080/"
        },
        "outputId": "03a9366e-38a4-47cd-9df7-2c3d48cfda6c"
      },
      "source": [
        "def S(a,b):\n",
        "  return 3.14*(a/b)**3\n",
        "S=S(8,6)\n",
        "print('S = ',S)\n"
      ],
      "execution_count": 5,
      "outputs": [
        {
          "output_type": "stream",
          "name": "stdout",
          "text": [
            "S =  7.4429629629629614\n"
          ]
        }
      ]
    },
    {
      "cell_type": "markdown",
      "metadata": {
        "id": "xCa2bK9aD4Q3"
      },
      "source": [
        "(6) Write a Python program to concatenate following dictionaries to create a new one. (4 points)\n",
        "\n",
        "Sample Dictionary : dic1={1:10, 2:20}, dic2={3:30, 4:40}, dic3={5:50,6:60}, \n",
        "\n",
        "Expected Result : {1: 10, 2: 20, 3: 30, 4: 40, 5: 50, 6: 60}\n"
      ]
    },
    {
      "cell_type": "code",
      "metadata": {
        "id": "_z4aLqAbEET1",
        "colab": {
          "base_uri": "https://localhost:8080/"
        },
        "outputId": "8acebfd1-de61-4a6a-902e-ff3dce68f083"
      },
      "source": [
        "dic1={1:10, 2:20} \n",
        "dic2={3:30, 4:40}\n",
        "dic3={5:50,6:60}\n",
        "newdict={}\n",
        "newdict.update(dic1)\n",
        "newdict.update(dic2)\n",
        "newdict.update(dic3)\n",
        "newdict"
      ],
      "execution_count": 6,
      "outputs": [
        {
          "output_type": "execute_result",
          "data": {
            "text/plain": [
              "{1: 10, 2: 20, 3: 30, 4: 40, 5: 50, 6: 60}"
            ]
          },
          "metadata": {},
          "execution_count": 6
        }
      ]
    },
    {
      "cell_type": "markdown",
      "metadata": {
        "id": "0v48Vqa7FrQh"
      },
      "source": [
        "(7) Write a Python program to check whether an element exists within a tuple. (4 points)"
      ]
    },
    {
      "cell_type": "code",
      "metadata": {
        "id": "7WEmgq-DF2P1",
        "colab": {
          "base_uri": "https://localhost:8080/"
        },
        "outputId": "1d00e2f6-cd1d-4f4f-d135-8af2f096522a"
      },
      "source": [
        "tupple = (0,1,2,3,4,5,6,7,8,9)\n",
        "element = [5,8,15,98]\n",
        "for i in element:\n",
        "  if i in tupple:\n",
        "    print( i, 'is in the tupple')\n",
        "  else:\n",
        "    print(i, 'is not present in tupple')\n"
      ],
      "execution_count": 7,
      "outputs": [
        {
          "output_type": "stream",
          "name": "stdout",
          "text": [
            "5 is in the tupple\n",
            "8 is in the tupple\n",
            "15 is not present in tupple\n",
            "98 is not present in tupple\n"
          ]
        }
      ]
    },
    {
      "cell_type": "markdown",
      "metadata": {
        "id": "vD5PYLMuGga_"
      },
      "source": [
        "(8) Write a Python program to find maximum and the minimum value in a set. (4 points)"
      ]
    },
    {
      "cell_type": "code",
      "metadata": {
        "id": "t0D5kdJUGjjw",
        "colab": {
          "base_uri": "https://localhost:8080/"
        },
        "outputId": "cf497665-ac29-4770-f3fb-b58f593f4171"
      },
      "source": [
        "list_set = {2,4,6,8,10,12,16,18,20}\n",
        "print('The max value in the set is :', max(list_set))\n",
        "print('The min value in the set is :', min(list_set))"
      ],
      "execution_count": 8,
      "outputs": [
        {
          "output_type": "stream",
          "name": "stdout",
          "text": [
            "The max value in the set is : 20\n",
            "The min value in the set is : 2\n"
          ]
        }
      ]
    },
    {
      "cell_type": "markdown",
      "metadata": {
        "id": "uHkd-y5VhVWC"
      },
      "source": [
        "(9) Write a Python program to randomly divide the students in this class into six groups for term projects, each group should have at least 4 students but no more than 6 students (including 6). Here is the students list: (4 points)\n",
        "\n",
        "studnet_list = ['vmb0067','pc0353','snd0097','yye0005','sg0940','bk0301','rak0120','rrk0058','spk0057','vl0135','nm0547','pn0159',\n",
        "           'msp0174','dd0420','ds0761','rs0850','ss1995','at0739','at0768','mv0299','tv0119','dy0091','py0080','ttp0037','hc0439','ri0094','pk0339', 'hn0145','mn0426']"
      ]
    },
    {
      "cell_type": "code",
      "metadata": {
        "id": "3iGbmcOBhTwy",
        "colab": {
          "base_uri": "https://localhost:8080/"
        },
        "outputId": "5e218e10-93b5-4a50-ad9d-6c1fe43a27f7"
      },
      "source": [
        "student_list = ['vmb0067','pc0353','snd0097','yye0005','sg0940','bk0301','rak0120','rrk0058','spk0057','vl0135','nm0547','pn0159', 'msp0174','dd0420','ds0761','rs0850','ss1995','at0739','at0768','mv0299','tv0119','dy0091','py0080','ttp0037','hc0439','ri0094','pk0339', 'hn0145','mn0426']\n",
        "list1=[]\n",
        "list2=[]\n",
        "list3=[]\n",
        "list4=[]\n",
        "list5=[]\n",
        "list6=[]\n",
        "for i in student_list:\n",
        "  if len(list1)<6:\n",
        "    list1.append(i)\n",
        "  elif len(list2)<6:\n",
        "    list2.append(i)\n",
        "  elif len(list3)<6:\n",
        "    list3.append(i)\n",
        "  elif len(list4)<6:\n",
        "    list4.append(i)\n",
        "  else:\n",
        "    list5.append(i)\n",
        "print(list1)\n",
        "print(list2)\n",
        "print(list3)\n",
        "print(list4)\n",
        "print(list5)\n",
        "\n"
      ],
      "execution_count": 9,
      "outputs": [
        {
          "output_type": "stream",
          "name": "stdout",
          "text": [
            "['vmb0067', 'pc0353', 'snd0097', 'yye0005', 'sg0940', 'bk0301']\n",
            "['rak0120', 'rrk0058', 'spk0057', 'vl0135', 'nm0547', 'pn0159']\n",
            "['msp0174', 'dd0420', 'ds0761', 'rs0850', 'ss1995', 'at0739']\n",
            "['at0768', 'mv0299', 'tv0119', 'dy0091', 'py0080', 'ttp0037']\n",
            "['hc0439', 'ri0094', 'pk0339', 'hn0145', 'mn0426']\n"
          ]
        }
      ]
    },
    {
      "cell_type": "markdown",
      "metadata": {
        "id": "LHBo0026q-iQ"
      },
      "source": [
        "(10) Write a Python program to find the duplicate elements in a given array of integers. Return -1 If there are no such elements. (4 points)"
      ]
    },
    {
      "cell_type": "code",
      "metadata": {
        "id": "jQ11gvisq-iR",
        "colab": {
          "base_uri": "https://localhost:8080/"
        },
        "outputId": "6f950baa-1465-4cad-a71e-9bb946f35154"
      },
      "source": [
        "array1 = [1,2,2,3,4,4,5,6,7,7,7,8,9,9] # list with duplicates\n",
        "array2 = [1,2,3,4,5,6,7,8,9] #list with no duplicates\n",
        "def duplicates(array):\n",
        "  return set ([i for i in array if array.count(i)>1])\n",
        "print(duplicates(array1))\n",
        "print(duplicates(array2))"
      ],
      "execution_count": 10,
      "outputs": [
        {
          "output_type": "stream",
          "name": "stdout",
          "text": [
            "{9, 2, 4, 7}\n",
            "set()\n"
          ]
        }
      ]
    },
    {
      "cell_type": "markdown",
      "metadata": {
        "id": "73X3qQ6nq-iS"
      },
      "source": [
        "(11) Write a Python program to select all the Sundays of a specified year. (4 extra points)"
      ]
    },
    {
      "cell_type": "code",
      "metadata": {
        "id": "P2LNdoUJq-iS",
        "colab": {
          "base_uri": "https://localhost:8080/"
        },
        "outputId": "08a9cb6e-53f5-494e-e299-c23123b433b6"
      },
      "source": [
        "import pandas as pd\n",
        "year = \"2021\"\n",
        "s = year + \"-01-01\"\n",
        "p = 52\n",
        "f = \"W-SUN\"\n",
        "sundays = pd.date_range(start = s,periods = p,freq = f)                     \n",
        "print('The date for all sundays are :\\n' ,sundays)"
      ],
      "execution_count": 11,
      "outputs": [
        {
          "output_type": "stream",
          "name": "stdout",
          "text": [
            "The date for all sundays are :\n",
            " DatetimeIndex(['2021-01-03', '2021-01-10', '2021-01-17', '2021-01-24',\n",
            "               '2021-01-31', '2021-02-07', '2021-02-14', '2021-02-21',\n",
            "               '2021-02-28', '2021-03-07', '2021-03-14', '2021-03-21',\n",
            "               '2021-03-28', '2021-04-04', '2021-04-11', '2021-04-18',\n",
            "               '2021-04-25', '2021-05-02', '2021-05-09', '2021-05-16',\n",
            "               '2021-05-23', '2021-05-30', '2021-06-06', '2021-06-13',\n",
            "               '2021-06-20', '2021-06-27', '2021-07-04', '2021-07-11',\n",
            "               '2021-07-18', '2021-07-25', '2021-08-01', '2021-08-08',\n",
            "               '2021-08-15', '2021-08-22', '2021-08-29', '2021-09-05',\n",
            "               '2021-09-12', '2021-09-19', '2021-09-26', '2021-10-03',\n",
            "               '2021-10-10', '2021-10-17', '2021-10-24', '2021-10-31',\n",
            "               '2021-11-07', '2021-11-14', '2021-11-21', '2021-11-28',\n",
            "               '2021-12-05', '2021-12-12', '2021-12-19', '2021-12-26'],\n",
            "              dtype='datetime64[ns]', freq='W-SUN')\n"
          ]
        }
      ]
    },
    {
      "cell_type": "code",
      "metadata": {
        "id": "8CgmC2XyMyVG"
      },
      "source": [
        ""
      ],
      "execution_count": 11,
      "outputs": []
    }
  ]
}