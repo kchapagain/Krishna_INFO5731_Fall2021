{
  "nbformat": 4,
  "nbformat_minor": 0,
  "metadata": {
    "colab": {
      "name": "amia_cleaning.ipynb",
      "provenance": []
    },
    "kernelspec": {
      "name": "python3",
      "display_name": "Python 3"
    },
    "language_info": {
      "name": "python"
    }
  },
  "cells": [
    {
      "cell_type": "code",
      "metadata": {
        "colab": {
          "resources": {
            "http://localhost:8080/nbextensions/google.colab/files.js": {
              "data": "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",
              "ok": true,
              "headers": [
                [
                  "content-type",
                  "application/javascript"
                ]
              ],
              "status": 200,
              "status_text": ""
            }
          },
          "base_uri": "https://localhost:8080/",
          "height": 73
        },
        "id": "3W4eAXn1Uf6n",
        "outputId": "1c9e6b40-fc7a-4f4a-928b-d9c3112af0aa"
      },
      "source": [
        "from google.colab import files\n",
        "uploaded = files.upload()"
      ],
      "execution_count": 1,
      "outputs": [
        {
          "output_type": "display_data",
          "data": {
            "text/html": [
              "\n",
              "     <input type=\"file\" id=\"files-33cd2bc9-957f-4520-a3f8-e00eab93b7b4\" name=\"files[]\" multiple disabled\n",
              "        style=\"border:none\" />\n",
              "     <output id=\"result-33cd2bc9-957f-4520-a3f8-e00eab93b7b4\">\n",
              "      Upload widget is only available when the cell has been executed in the\n",
              "      current browser session. Please rerun this cell to enable.\n",
              "      </output>\n",
              "      <script src=\"/nbextensions/google.colab/files.js\"></script> "
            ],
            "text/plain": [
              "<IPython.core.display.HTML object>"
            ]
          },
          "metadata": {}
        },
        {
          "output_type": "stream",
          "name": "stdout",
          "text": [
            "Saving amia.csv to amia.csv\n"
          ]
        }
      ]
    },
    {
      "cell_type": "code",
      "metadata": {
        "colab": {
          "base_uri": "https://localhost:8080/",
          "height": 597
        },
        "id": "vG-1GnTMUyDt",
        "outputId": "da92c4e1-df0b-4060-9fc4-7c4768197ccd"
      },
      "source": [
        "import pandas as pd\n",
        "amia = pd.read_csv('amia.csv')\n",
        "amia"
      ],
      "execution_count": 2,
      "outputs": [
        {
          "output_type": "execute_result",
          "data": {
            "text/html": [
              "<div>\n",
              "<style scoped>\n",
              "    .dataframe tbody tr th:only-of-type {\n",
              "        vertical-align: middle;\n",
              "    }\n",
              "\n",
              "    .dataframe tbody tr th {\n",
              "        vertical-align: top;\n",
              "    }\n",
              "\n",
              "    .dataframe thead th {\n",
              "        text-align: right;\n",
              "    }\n",
              "</style>\n",
              "<table border=\"1\" class=\"dataframe\">\n",
              "  <thead>\n",
              "    <tr style=\"text-align: right;\">\n",
              "      <th></th>\n",
              "      <th>pmc_id</th>\n",
              "      <th>title</th>\n",
              "      <th>authors</th>\n",
              "      <th>authors_information</th>\n",
              "      <th>year</th>\n",
              "      <th>abstract</th>\n",
              "    </tr>\n",
              "  </thead>\n",
              "  <tbody>\n",
              "    <tr>\n",
              "      <th>0</th>\n",
              "      <td>PMCID:PMC8075400</td>\n",
              "      <td>Association of White Matter Hyperintensity Pro...</td>\n",
              "      <td>Kentaro Hirao</td>\n",
              "      <td>aDepartment of Geriatric Medicine, Tokyo Medic...</td>\n",
              "      <td>J Alzheimers Dis.2021; 80(2): 877–883.</td>\n",
              "      <td>White matter hyperintensities (WMH) on MRI hav...</td>\n",
              "    </tr>\n",
              "    <tr>\n",
              "      <th>1</th>\n",
              "      <td>PMCID:PMC8075401</td>\n",
              "      <td>Mild Behavioral Impairment and Subjective Cogn...</td>\n",
              "      <td>Fumio Yamashita</td>\n",
              "      <td>bDepartment of Ultrahigh Field MRI, Institute ...</td>\n",
              "      <td>J Alzheimers Dis.2021; 80(1): 459–469.</td>\n",
              "      <td>Mild behavioral impairment (MBI) and subjectiv...</td>\n",
              "    </tr>\n",
              "    <tr>\n",
              "      <th>2</th>\n",
              "      <td>PMCID:PMC8075402</td>\n",
              "      <td>Safety Monitoring of Gene Therapy for Spinal M...</td>\n",
              "      <td>Akito Tsugawa</td>\n",
              "      <td>aDepartment of Psychiatry, University of Calga...</td>\n",
              "      <td>J Neuromuscul Dis.2021; 8(2): 209–216.</td>\n",
              "      <td>Recently gene therapy with onasemnogene abepar...</td>\n",
              "    </tr>\n",
              "    <tr>\n",
              "      <th>3</th>\n",
              "      <td>PMCID:PMC8075403</td>\n",
              "      <td>Assessing the Progression of Alzheimer’s Disea...</td>\n",
              "      <td>Rieko Haime</td>\n",
              "      <td>bDepartment of Clinical Neurosciences, Univers...</td>\n",
              "      <td>J Alzheimers Dis.2021; 80(2): 749–759.</td>\n",
              "      <td>There exists considerable variation in disease...</td>\n",
              "    </tr>\n",
              "    <tr>\n",
              "      <th>4</th>\n",
              "      <td>PMCID:PMC8075404</td>\n",
              "      <td>Investigating the Spatial Associations Between...</td>\n",
              "      <td>Raita Fukasawa</td>\n",
              "      <td>cDepartment of Community Health Sciences, Univ...</td>\n",
              "      <td>J Alzheimers Dis.2021; 80(1): 113–132.</td>\n",
              "      <td>It has been proposed that amyloid-β (Aβ) plays...</td>\n",
              "    </tr>\n",
              "    <tr>\n",
              "      <th>...</th>\n",
              "      <td>...</td>\n",
              "      <td>...</td>\n",
              "      <td>...</td>\n",
              "      <td>...</td>\n",
              "      <td>...</td>\n",
              "      <td>...</td>\n",
              "    </tr>\n",
              "    <tr>\n",
              "      <th>5077</th>\n",
              "      <td>PMCID:PMC2581286</td>\n",
              "      <td>A Comparison of Models for Predicting the Outc...</td>\n",
              "      <td>Harriet H. Werley</td>\n",
              "      <td>Harriet H. Werley</td>\n",
              "      <td>Proc Annu Symp Comput Appl Med Care.1981 Nov 4...</td>\n",
              "      <td>There are several basic strategies that may be...</td>\n",
              "    </tr>\n",
              "    <tr>\n",
              "      <th>5078</th>\n",
              "      <td>PMCID:PMC2581287</td>\n",
              "      <td>Impact of Computers on Nursing Research</td>\n",
              "      <td>Donna L. HudsonandThelma Estrin</td>\n",
              "      <td>Donna L. HudsonandThelma Estrin</td>\n",
              "      <td>Proc Annu Symp Comput Appl Med Care.1981 Nov 4...</td>\n",
              "      <td>A microcomputer-based medical information syst...</td>\n",
              "    </tr>\n",
              "    <tr>\n",
              "      <th>5079</th>\n",
              "      <td>PMCID:PMC2581288</td>\n",
              "      <td>Microcomputer-Based Expert System for Clinical...</td>\n",
              "      <td>Virginia K. Saba</td>\n",
              "      <td>Virginia K. Saba</td>\n",
              "      <td>Proc Annu Symp Comput Appl Med Care.1981 Nov 4...</td>\n",
              "      <td>A substantial portion of the information in th...</td>\n",
              "    </tr>\n",
              "    <tr>\n",
              "      <th>5080</th>\n",
              "      <td>PMCID:PMC2581289</td>\n",
              "      <td>Impact of Computers on Nursing Administration ...</td>\n",
              "      <td>Jane BarnettandDavid Kramlich</td>\n",
              "      <td>Jane BarnettandDavid Kramlich</td>\n",
              "      <td>Proc Annu Symp Comput Appl Med Care.1981 Nov 4...</td>\n",
              "      <td>A computer-aided interactive “game” has been d...</td>\n",
              "    </tr>\n",
              "    <tr>\n",
              "      <th>5081</th>\n",
              "      <td>PMCID:PMC2581290</td>\n",
              "      <td>Medical Applications of a Spatial Data Managem...</td>\n",
              "      <td>William B. Hamlin</td>\n",
              "      <td>William B. Hamlin</td>\n",
              "      <td>Proc Annu Symp Comput Appl Med Care.1981 Nov 4...</td>\n",
              "      <td>Automated quantitation of UC and FHR tabulated...</td>\n",
              "    </tr>\n",
              "  </tbody>\n",
              "</table>\n",
              "<p>5082 rows × 6 columns</p>\n",
              "</div>"
            ],
            "text/plain": [
              "                pmc_id  ...                                           abstract\n",
              "0     PMCID:PMC8075400  ...  White matter hyperintensities (WMH) on MRI hav...\n",
              "1     PMCID:PMC8075401  ...  Mild behavioral impairment (MBI) and subjectiv...\n",
              "2     PMCID:PMC8075402  ...  Recently gene therapy with onasemnogene abepar...\n",
              "3     PMCID:PMC8075403  ...  There exists considerable variation in disease...\n",
              "4     PMCID:PMC8075404  ...  It has been proposed that amyloid-β (Aβ) plays...\n",
              "...                ...  ...                                                ...\n",
              "5077  PMCID:PMC2581286  ...  There are several basic strategies that may be...\n",
              "5078  PMCID:PMC2581287  ...  A microcomputer-based medical information syst...\n",
              "5079  PMCID:PMC2581288  ...  A substantial portion of the information in th...\n",
              "5080  PMCID:PMC2581289  ...  A computer-aided interactive “game” has been d...\n",
              "5081  PMCID:PMC2581290  ...  Automated quantitation of UC and FHR tabulated...\n",
              "\n",
              "[5082 rows x 6 columns]"
            ]
          },
          "metadata": {},
          "execution_count": 2
        }
      ]
    },
    {
      "cell_type": "code",
      "metadata": {
        "colab": {
          "base_uri": "https://localhost:8080/",
          "height": 597
        },
        "id": "7_gmbhyNVyQQ",
        "outputId": "f462be46-0d2e-4119-cbd1-297186479ad3"
      },
      "source": [
        "#Data Cleaning\n",
        "\n",
        "#Cleaning pmc_id - we want only number in pmc_id\n",
        "\n",
        "def numbers(element):\n",
        "    \n",
        "    return \"\".join(filter(str.isnumeric, element))\n",
        "\n",
        "\n",
        "amia['pmc_id'] = [numbers(x) for x in amia.pmc_id]\n",
        "amia\n",
        "\n",
        "# pmc_id is cleaned"
      ],
      "execution_count": 3,
      "outputs": [
        {
          "output_type": "execute_result",
          "data": {
            "text/html": [
              "<div>\n",
              "<style scoped>\n",
              "    .dataframe tbody tr th:only-of-type {\n",
              "        vertical-align: middle;\n",
              "    }\n",
              "\n",
              "    .dataframe tbody tr th {\n",
              "        vertical-align: top;\n",
              "    }\n",
              "\n",
              "    .dataframe thead th {\n",
              "        text-align: right;\n",
              "    }\n",
              "</style>\n",
              "<table border=\"1\" class=\"dataframe\">\n",
              "  <thead>\n",
              "    <tr style=\"text-align: right;\">\n",
              "      <th></th>\n",
              "      <th>pmc_id</th>\n",
              "      <th>title</th>\n",
              "      <th>authors</th>\n",
              "      <th>authors_information</th>\n",
              "      <th>year</th>\n",
              "      <th>abstract</th>\n",
              "    </tr>\n",
              "  </thead>\n",
              "  <tbody>\n",
              "    <tr>\n",
              "      <th>0</th>\n",
              "      <td>8075400</td>\n",
              "      <td>Association of White Matter Hyperintensity Pro...</td>\n",
              "      <td>Kentaro Hirao</td>\n",
              "      <td>aDepartment of Geriatric Medicine, Tokyo Medic...</td>\n",
              "      <td>J Alzheimers Dis.2021; 80(2): 877–883.</td>\n",
              "      <td>White matter hyperintensities (WMH) on MRI hav...</td>\n",
              "    </tr>\n",
              "    <tr>\n",
              "      <th>1</th>\n",
              "      <td>8075401</td>\n",
              "      <td>Mild Behavioral Impairment and Subjective Cogn...</td>\n",
              "      <td>Fumio Yamashita</td>\n",
              "      <td>bDepartment of Ultrahigh Field MRI, Institute ...</td>\n",
              "      <td>J Alzheimers Dis.2021; 80(1): 459–469.</td>\n",
              "      <td>Mild behavioral impairment (MBI) and subjectiv...</td>\n",
              "    </tr>\n",
              "    <tr>\n",
              "      <th>2</th>\n",
              "      <td>8075402</td>\n",
              "      <td>Safety Monitoring of Gene Therapy for Spinal M...</td>\n",
              "      <td>Akito Tsugawa</td>\n",
              "      <td>aDepartment of Psychiatry, University of Calga...</td>\n",
              "      <td>J Neuromuscul Dis.2021; 8(2): 209–216.</td>\n",
              "      <td>Recently gene therapy with onasemnogene abepar...</td>\n",
              "    </tr>\n",
              "    <tr>\n",
              "      <th>3</th>\n",
              "      <td>8075403</td>\n",
              "      <td>Assessing the Progression of Alzheimer’s Disea...</td>\n",
              "      <td>Rieko Haime</td>\n",
              "      <td>bDepartment of Clinical Neurosciences, Univers...</td>\n",
              "      <td>J Alzheimers Dis.2021; 80(2): 749–759.</td>\n",
              "      <td>There exists considerable variation in disease...</td>\n",
              "    </tr>\n",
              "    <tr>\n",
              "      <th>4</th>\n",
              "      <td>8075404</td>\n",
              "      <td>Investigating the Spatial Associations Between...</td>\n",
              "      <td>Raita Fukasawa</td>\n",
              "      <td>cDepartment of Community Health Sciences, Univ...</td>\n",
              "      <td>J Alzheimers Dis.2021; 80(1): 113–132.</td>\n",
              "      <td>It has been proposed that amyloid-β (Aβ) plays...</td>\n",
              "    </tr>\n",
              "    <tr>\n",
              "      <th>...</th>\n",
              "      <td>...</td>\n",
              "      <td>...</td>\n",
              "      <td>...</td>\n",
              "      <td>...</td>\n",
              "      <td>...</td>\n",
              "      <td>...</td>\n",
              "    </tr>\n",
              "    <tr>\n",
              "      <th>5077</th>\n",
              "      <td>2581286</td>\n",
              "      <td>A Comparison of Models for Predicting the Outc...</td>\n",
              "      <td>Harriet H. Werley</td>\n",
              "      <td>Harriet H. Werley</td>\n",
              "      <td>Proc Annu Symp Comput Appl Med Care.1981 Nov 4...</td>\n",
              "      <td>There are several basic strategies that may be...</td>\n",
              "    </tr>\n",
              "    <tr>\n",
              "      <th>5078</th>\n",
              "      <td>2581287</td>\n",
              "      <td>Impact of Computers on Nursing Research</td>\n",
              "      <td>Donna L. HudsonandThelma Estrin</td>\n",
              "      <td>Donna L. HudsonandThelma Estrin</td>\n",
              "      <td>Proc Annu Symp Comput Appl Med Care.1981 Nov 4...</td>\n",
              "      <td>A microcomputer-based medical information syst...</td>\n",
              "    </tr>\n",
              "    <tr>\n",
              "      <th>5079</th>\n",
              "      <td>2581288</td>\n",
              "      <td>Microcomputer-Based Expert System for Clinical...</td>\n",
              "      <td>Virginia K. Saba</td>\n",
              "      <td>Virginia K. Saba</td>\n",
              "      <td>Proc Annu Symp Comput Appl Med Care.1981 Nov 4...</td>\n",
              "      <td>A substantial portion of the information in th...</td>\n",
              "    </tr>\n",
              "    <tr>\n",
              "      <th>5080</th>\n",
              "      <td>2581289</td>\n",
              "      <td>Impact of Computers on Nursing Administration ...</td>\n",
              "      <td>Jane BarnettandDavid Kramlich</td>\n",
              "      <td>Jane BarnettandDavid Kramlich</td>\n",
              "      <td>Proc Annu Symp Comput Appl Med Care.1981 Nov 4...</td>\n",
              "      <td>A computer-aided interactive “game” has been d...</td>\n",
              "    </tr>\n",
              "    <tr>\n",
              "      <th>5081</th>\n",
              "      <td>2581290</td>\n",
              "      <td>Medical Applications of a Spatial Data Managem...</td>\n",
              "      <td>William B. Hamlin</td>\n",
              "      <td>William B. Hamlin</td>\n",
              "      <td>Proc Annu Symp Comput Appl Med Care.1981 Nov 4...</td>\n",
              "      <td>Automated quantitation of UC and FHR tabulated...</td>\n",
              "    </tr>\n",
              "  </tbody>\n",
              "</table>\n",
              "<p>5082 rows × 6 columns</p>\n",
              "</div>"
            ],
            "text/plain": [
              "       pmc_id  ...                                           abstract\n",
              "0     8075400  ...  White matter hyperintensities (WMH) on MRI hav...\n",
              "1     8075401  ...  Mild behavioral impairment (MBI) and subjectiv...\n",
              "2     8075402  ...  Recently gene therapy with onasemnogene abepar...\n",
              "3     8075403  ...  There exists considerable variation in disease...\n",
              "4     8075404  ...  It has been proposed that amyloid-β (Aβ) plays...\n",
              "...       ...  ...                                                ...\n",
              "5077  2581286  ...  There are several basic strategies that may be...\n",
              "5078  2581287  ...  A microcomputer-based medical information syst...\n",
              "5079  2581288  ...  A substantial portion of the information in th...\n",
              "5080  2581289  ...  A computer-aided interactive “game” has been d...\n",
              "5081  2581290  ...  Automated quantitation of UC and FHR tabulated...\n",
              "\n",
              "[5082 rows x 6 columns]"
            ]
          },
          "metadata": {},
          "execution_count": 3
        }
      ]
    },
    {
      "cell_type": "code",
      "metadata": {
        "id": "5a-3UmxBXgyB"
      },
      "source": [
        "# Cleaning  year - we want only four digit year in this column\n",
        "import re\n",
        "def find_number(text):\n",
        "    for num in re.findall(r'(\\d{4})',text):\n",
        "      if int(num) > 1979:\n",
        "        return \" \".join(num)\n",
        "\n",
        "amia['year']=amia['year'].apply(lambda x: find_number(x))\n",
        "amia.year = amia.year.str.replace(' ', '')\n",
        "\n",
        "# year is cleaned"
      ],
      "execution_count": 4,
      "outputs": []
    },
    {
      "cell_type": "code",
      "metadata": {
        "colab": {
          "base_uri": "https://localhost:8080/",
          "height": 597
        },
        "id": "20BIQsJAmaUh",
        "outputId": "5fa258ef-cce7-4463-8ef9-29f96e53c8ed"
      },
      "source": [
        "#checking for pmc_id and year by displaying all the rows\n",
        "pd.options.display.max_rows=1044\n",
        "amia"
      ],
      "execution_count": 5,
      "outputs": [
        {
          "output_type": "execute_result",
          "data": {
            "text/html": [
              "<div>\n",
              "<style scoped>\n",
              "    .dataframe tbody tr th:only-of-type {\n",
              "        vertical-align: middle;\n",
              "    }\n",
              "\n",
              "    .dataframe tbody tr th {\n",
              "        vertical-align: top;\n",
              "    }\n",
              "\n",
              "    .dataframe thead th {\n",
              "        text-align: right;\n",
              "    }\n",
              "</style>\n",
              "<table border=\"1\" class=\"dataframe\">\n",
              "  <thead>\n",
              "    <tr style=\"text-align: right;\">\n",
              "      <th></th>\n",
              "      <th>pmc_id</th>\n",
              "      <th>title</th>\n",
              "      <th>authors</th>\n",
              "      <th>authors_information</th>\n",
              "      <th>year</th>\n",
              "      <th>abstract</th>\n",
              "    </tr>\n",
              "  </thead>\n",
              "  <tbody>\n",
              "    <tr>\n",
              "      <th>0</th>\n",
              "      <td>8075400</td>\n",
              "      <td>Association of White Matter Hyperintensity Pro...</td>\n",
              "      <td>Kentaro Hirao</td>\n",
              "      <td>aDepartment of Geriatric Medicine, Tokyo Medic...</td>\n",
              "      <td>2021</td>\n",
              "      <td>White matter hyperintensities (WMH) on MRI hav...</td>\n",
              "    </tr>\n",
              "    <tr>\n",
              "      <th>1</th>\n",
              "      <td>8075401</td>\n",
              "      <td>Mild Behavioral Impairment and Subjective Cogn...</td>\n",
              "      <td>Fumio Yamashita</td>\n",
              "      <td>bDepartment of Ultrahigh Field MRI, Institute ...</td>\n",
              "      <td>2021</td>\n",
              "      <td>Mild behavioral impairment (MBI) and subjectiv...</td>\n",
              "    </tr>\n",
              "    <tr>\n",
              "      <th>2</th>\n",
              "      <td>8075402</td>\n",
              "      <td>Safety Monitoring of Gene Therapy for Spinal M...</td>\n",
              "      <td>Akito Tsugawa</td>\n",
              "      <td>aDepartment of Psychiatry, University of Calga...</td>\n",
              "      <td>2021</td>\n",
              "      <td>Recently gene therapy with onasemnogene abepar...</td>\n",
              "    </tr>\n",
              "    <tr>\n",
              "      <th>3</th>\n",
              "      <td>8075403</td>\n",
              "      <td>Assessing the Progression of Alzheimer’s Disea...</td>\n",
              "      <td>Rieko Haime</td>\n",
              "      <td>bDepartment of Clinical Neurosciences, Univers...</td>\n",
              "      <td>2021</td>\n",
              "      <td>There exists considerable variation in disease...</td>\n",
              "    </tr>\n",
              "    <tr>\n",
              "      <th>4</th>\n",
              "      <td>8075404</td>\n",
              "      <td>Investigating the Spatial Associations Between...</td>\n",
              "      <td>Raita Fukasawa</td>\n",
              "      <td>cDepartment of Community Health Sciences, Univ...</td>\n",
              "      <td>2021</td>\n",
              "      <td>It has been proposed that amyloid-β (Aβ) plays...</td>\n",
              "    </tr>\n",
              "    <tr>\n",
              "      <th>...</th>\n",
              "      <td>...</td>\n",
              "      <td>...</td>\n",
              "      <td>...</td>\n",
              "      <td>...</td>\n",
              "      <td>...</td>\n",
              "      <td>...</td>\n",
              "    </tr>\n",
              "    <tr>\n",
              "      <th>5077</th>\n",
              "      <td>2581286</td>\n",
              "      <td>A Comparison of Models for Predicting the Outc...</td>\n",
              "      <td>Harriet H. Werley</td>\n",
              "      <td>Harriet H. Werley</td>\n",
              "      <td>1981</td>\n",
              "      <td>There are several basic strategies that may be...</td>\n",
              "    </tr>\n",
              "    <tr>\n",
              "      <th>5078</th>\n",
              "      <td>2581287</td>\n",
              "      <td>Impact of Computers on Nursing Research</td>\n",
              "      <td>Donna L. HudsonandThelma Estrin</td>\n",
              "      <td>Donna L. HudsonandThelma Estrin</td>\n",
              "      <td>1981</td>\n",
              "      <td>A microcomputer-based medical information syst...</td>\n",
              "    </tr>\n",
              "    <tr>\n",
              "      <th>5079</th>\n",
              "      <td>2581288</td>\n",
              "      <td>Microcomputer-Based Expert System for Clinical...</td>\n",
              "      <td>Virginia K. Saba</td>\n",
              "      <td>Virginia K. Saba</td>\n",
              "      <td>1981</td>\n",
              "      <td>A substantial portion of the information in th...</td>\n",
              "    </tr>\n",
              "    <tr>\n",
              "      <th>5080</th>\n",
              "      <td>2581289</td>\n",
              "      <td>Impact of Computers on Nursing Administration ...</td>\n",
              "      <td>Jane BarnettandDavid Kramlich</td>\n",
              "      <td>Jane BarnettandDavid Kramlich</td>\n",
              "      <td>1981</td>\n",
              "      <td>A computer-aided interactive “game” has been d...</td>\n",
              "    </tr>\n",
              "    <tr>\n",
              "      <th>5081</th>\n",
              "      <td>2581290</td>\n",
              "      <td>Medical Applications of a Spatial Data Managem...</td>\n",
              "      <td>William B. Hamlin</td>\n",
              "      <td>William B. Hamlin</td>\n",
              "      <td>1981</td>\n",
              "      <td>Automated quantitation of UC and FHR tabulated...</td>\n",
              "    </tr>\n",
              "  </tbody>\n",
              "</table>\n",
              "<p>5082 rows × 6 columns</p>\n",
              "</div>"
            ],
            "text/plain": [
              "       pmc_id  ...                                           abstract\n",
              "0     8075400  ...  White matter hyperintensities (WMH) on MRI hav...\n",
              "1     8075401  ...  Mild behavioral impairment (MBI) and subjectiv...\n",
              "2     8075402  ...  Recently gene therapy with onasemnogene abepar...\n",
              "3     8075403  ...  There exists considerable variation in disease...\n",
              "4     8075404  ...  It has been proposed that amyloid-β (Aβ) plays...\n",
              "...       ...  ...                                                ...\n",
              "5077  2581286  ...  There are several basic strategies that may be...\n",
              "5078  2581287  ...  A microcomputer-based medical information syst...\n",
              "5079  2581288  ...  A substantial portion of the information in th...\n",
              "5080  2581289  ...  A computer-aided interactive “game” has been d...\n",
              "5081  2581290  ...  Automated quantitation of UC and FHR tabulated...\n",
              "\n",
              "[5082 rows x 6 columns]"
            ]
          },
          "metadata": {},
          "execution_count": 5
        }
      ]
    },
    {
      "cell_type": "code",
      "metadata": {
        "colab": {
          "base_uri": "https://localhost:8080/"
        },
        "id": "7VyrU9IpHEh-",
        "outputId": "0d447835-9c58-4b9e-ff4d-62ab0fc6388f"
      },
      "source": [
        "list(amia)"
      ],
      "execution_count": 31,
      "outputs": [
        {
          "output_type": "execute_result",
          "data": {
            "text/plain": [
              "['pmc_id', 'title', 'authors', 'authors_information', 'year', 'abstract']"
            ]
          },
          "metadata": {},
          "execution_count": 31
        }
      ]
    },
    {
      "cell_type": "code",
      "metadata": {
        "colab": {
          "base_uri": "https://localhost:8080/"
        },
        "id": "NVBVBtcbjoq1",
        "outputId": "54726628-b0f5-49a1-84de-d15e69787677"
      },
      "source": [
        "\n",
        "#cleaning abstract - we want clean text in this column\n",
        "import nltk\n",
        "nltk.download('stopwords')\n",
        "nltk.download('punkt')\n",
        "nltk.download('wordnet')\n",
        "from nltk.corpus import stopwords\n",
        "\n",
        "amia['abstract'] = amia['abstract'].apply(lambda x: \" \".join(x.lower() for x in str(x).split()))\n",
        "\n",
        "amia['abstract'] = amia['abstract'].str.replace('[^\\w\\s]','')\n",
        "\n",
        "stop = stopwords.words('english')\n",
        "amia['abstract'] = amia['abstract'].apply(lambda x: \" \".join(x for x in str(x).split() if x not in stop))\n",
        "\n",
        "common = pd.Series(' '.join(amia['abstract']).split()).value_counts()[:10]\n",
        "\n",
        "amia['abstract'] = amia['abstract'].apply(lambda x: \" \".join(x for x in str(x).split() if x not in common))\n",
        "\n",
        "rare = pd.Series(' '.join(amia['abstract']).split()).value_counts()[-10:]\n",
        "amia['abstract'] = amia['abstract'].apply(lambda x: \" \".join(x for x in str(x).split() if x not in rare))\n",
        "\n",
        "from textblob import TextBlob\n",
        "amia['abstract'][:5].apply(lambda x: str(TextBlob(x).correct()))\n",
        "\n",
        "TextBlob(amia['abstract'][1]).words\n",
        "\n",
        "from nltk.stem import PorterStemmer\n",
        "st = PorterStemmer()\n",
        "amia['abstract'][:5].apply(lambda x: \" \".join([st.stem(word) for word in str(x).split()]))\n",
        "\n",
        "from textblob import Word\n",
        "amia['abstract'] = amia['abstract'].apply(lambda x: \" \".join([Word(word).lemmatize() for word in str(x).split()]))"
      ],
      "execution_count": 6,
      "outputs": [
        {
          "output_type": "stream",
          "name": "stdout",
          "text": [
            "[nltk_data] Downloading package stopwords to /root/nltk_data...\n",
            "[nltk_data]   Unzipping corpora/stopwords.zip.\n",
            "[nltk_data] Downloading package punkt to /root/nltk_data...\n",
            "[nltk_data]   Unzipping tokenizers/punkt.zip.\n",
            "[nltk_data] Downloading package wordnet to /root/nltk_data...\n",
            "[nltk_data]   Unzipping corpora/wordnet.zip.\n"
          ]
        }
      ]
    },
    {
      "cell_type": "code",
      "metadata": {
        "colab": {
          "base_uri": "https://localhost:8080/",
          "height": 597
        },
        "id": "0Ys3kBukn6cI",
        "outputId": "02d7ab47-4f45-4296-ce74-959fceeb224a"
      },
      "source": [
        "amia"
      ],
      "execution_count": 7,
      "outputs": [
        {
          "output_type": "execute_result",
          "data": {
            "text/html": [
              "<div>\n",
              "<style scoped>\n",
              "    .dataframe tbody tr th:only-of-type {\n",
              "        vertical-align: middle;\n",
              "    }\n",
              "\n",
              "    .dataframe tbody tr th {\n",
              "        vertical-align: top;\n",
              "    }\n",
              "\n",
              "    .dataframe thead th {\n",
              "        text-align: right;\n",
              "    }\n",
              "</style>\n",
              "<table border=\"1\" class=\"dataframe\">\n",
              "  <thead>\n",
              "    <tr style=\"text-align: right;\">\n",
              "      <th></th>\n",
              "      <th>pmc_id</th>\n",
              "      <th>title</th>\n",
              "      <th>authors</th>\n",
              "      <th>authors_information</th>\n",
              "      <th>year</th>\n",
              "      <th>abstract</th>\n",
              "    </tr>\n",
              "  </thead>\n",
              "  <tbody>\n",
              "    <tr>\n",
              "      <th>0</th>\n",
              "      <td>8075400</td>\n",
              "      <td>Association of White Matter Hyperintensity Pro...</td>\n",
              "      <td>Kentaro Hirao</td>\n",
              "      <td>aDepartment of Geriatric Medicine, Tokyo Medic...</td>\n",
              "      <td>2021</td>\n",
              "      <td>white matter hyperintensities wmh mri reported...</td>\n",
              "    </tr>\n",
              "    <tr>\n",
              "      <th>1</th>\n",
              "      <td>8075401</td>\n",
              "      <td>Mild Behavioral Impairment and Subjective Cogn...</td>\n",
              "      <td>Fumio Yamashita</td>\n",
              "      <td>bDepartment of Ultrahigh Field MRI, Institute ...</td>\n",
              "      <td>2021</td>\n",
              "      <td>mild behavioral impairment mbi subjective cogn...</td>\n",
              "    </tr>\n",
              "    <tr>\n",
              "      <th>2</th>\n",
              "      <td>8075402</td>\n",
              "      <td>Safety Monitoring of Gene Therapy for Spinal M...</td>\n",
              "      <td>Akito Tsugawa</td>\n",
              "      <td>aDepartment of Psychiatry, University of Calga...</td>\n",
              "      <td>2021</td>\n",
              "      <td>recently gene therapy onasemnogene abeparvovec...</td>\n",
              "    </tr>\n",
              "    <tr>\n",
              "      <th>3</th>\n",
              "      <td>8075403</td>\n",
              "      <td>Assessing the Progression of Alzheimer’s Disea...</td>\n",
              "      <td>Rieko Haime</td>\n",
              "      <td>bDepartment of Clinical Neurosciences, Univers...</td>\n",
              "      <td>2021</td>\n",
              "      <td>exists considerable variation disease progress...</td>\n",
              "    </tr>\n",
              "    <tr>\n",
              "      <th>4</th>\n",
              "      <td>8075404</td>\n",
              "      <td>Investigating the Spatial Associations Between...</td>\n",
              "      <td>Raita Fukasawa</td>\n",
              "      <td>cDepartment of Community Health Sciences, Univ...</td>\n",
              "      <td>2021</td>\n",
              "      <td>proposed amyloidβ aβ play causal role alzheime...</td>\n",
              "    </tr>\n",
              "    <tr>\n",
              "      <th>...</th>\n",
              "      <td>...</td>\n",
              "      <td>...</td>\n",
              "      <td>...</td>\n",
              "      <td>...</td>\n",
              "      <td>...</td>\n",
              "      <td>...</td>\n",
              "    </tr>\n",
              "    <tr>\n",
              "      <th>5077</th>\n",
              "      <td>2581286</td>\n",
              "      <td>A Comparison of Models for Predicting the Outc...</td>\n",
              "      <td>Harriet H. Werley</td>\n",
              "      <td>Harriet H. Werley</td>\n",
              "      <td>1981</td>\n",
              "      <td>several basic strategy may employed design new...</td>\n",
              "    </tr>\n",
              "    <tr>\n",
              "      <th>5078</th>\n",
              "      <td>2581287</td>\n",
              "      <td>Impact of Computers on Nursing Research</td>\n",
              "      <td>Donna L. HudsonandThelma Estrin</td>\n",
              "      <td>Donna L. HudsonandThelma Estrin</td>\n",
              "      <td>1981</td>\n",
              "      <td>microcomputerbased nuclear submarine ready fle...</td>\n",
              "    </tr>\n",
              "    <tr>\n",
              "      <th>5079</th>\n",
              "      <td>2581288</td>\n",
              "      <td>Microcomputer-Based Expert System for Clinical...</td>\n",
              "      <td>Virginia K. Saba</td>\n",
              "      <td>Virginia K. Saba</td>\n",
              "      <td>1981</td>\n",
              "      <td>substantial portion record historical nature p...</td>\n",
              "    </tr>\n",
              "    <tr>\n",
              "      <th>5080</th>\n",
              "      <td>2581289</td>\n",
              "      <td>Impact of Computers on Nursing Administration ...</td>\n",
              "      <td>Jane BarnettandDavid Kramlich</td>\n",
              "      <td>Jane BarnettandDavid Kramlich</td>\n",
              "      <td>1981</td>\n",
              "      <td>computeraided interactive game developed joint...</td>\n",
              "    </tr>\n",
              "    <tr>\n",
              "      <th>5081</th>\n",
              "      <td>2581290</td>\n",
              "      <td>Medical Applications of a Spatial Data Managem...</td>\n",
              "      <td>William B. Hamlin</td>\n",
              "      <td>William B. Hamlin</td>\n",
              "      <td>1981</td>\n",
              "      <td>automated quantitation uc fhr tabulated half h...</td>\n",
              "    </tr>\n",
              "  </tbody>\n",
              "</table>\n",
              "<p>5082 rows × 6 columns</p>\n",
              "</div>"
            ],
            "text/plain": [
              "       pmc_id  ...                                           abstract\n",
              "0     8075400  ...  white matter hyperintensities wmh mri reported...\n",
              "1     8075401  ...  mild behavioral impairment mbi subjective cogn...\n",
              "2     8075402  ...  recently gene therapy onasemnogene abeparvovec...\n",
              "3     8075403  ...  exists considerable variation disease progress...\n",
              "4     8075404  ...  proposed amyloidβ aβ play causal role alzheime...\n",
              "...       ...  ...                                                ...\n",
              "5077  2581286  ...  several basic strategy may employed design new...\n",
              "5078  2581287  ...  microcomputerbased nuclear submarine ready fle...\n",
              "5079  2581288  ...  substantial portion record historical nature p...\n",
              "5080  2581289  ...  computeraided interactive game developed joint...\n",
              "5081  2581290  ...  automated quantitation uc fhr tabulated half h...\n",
              "\n",
              "[5082 rows x 6 columns]"
            ]
          },
          "metadata": {},
          "execution_count": 7
        }
      ]
    },
    {
      "cell_type": "code",
      "metadata": {
        "id": "jWUMEgLQn77J"
      },
      "source": [
        "amia.to_csv('amia_cleaned.csv',index=False)"
      ],
      "execution_count": 8,
      "outputs": []
    },
    {
      "cell_type": "code",
      "metadata": {
        "colab": {
          "base_uri": "https://localhost:8080/",
          "height": 17
        },
        "id": "qIULZzXJoSN8",
        "outputId": "b7297aef-bbe8-4fa1-f60a-b9815353dd17"
      },
      "source": [
        "from google.colab import files\n",
        "files.download('amia_cleaned.csv')"
      ],
      "execution_count": 9,
      "outputs": [
        {
          "output_type": "display_data",
          "data": {
            "application/javascript": [
              "\n",
              "    async function download(id, filename, size) {\n",
              "      if (!google.colab.kernel.accessAllowed) {\n",
              "        return;\n",
              "      }\n",
              "      const div = document.createElement('div');\n",
              "      const label = document.createElement('label');\n",
              "      label.textContent = `Downloading \"${filename}\": `;\n",
              "      div.appendChild(label);\n",
              "      const progress = document.createElement('progress');\n",
              "      progress.max = size;\n",
              "      div.appendChild(progress);\n",
              "      document.body.appendChild(div);\n",
              "\n",
              "      const buffers = [];\n",
              "      let downloaded = 0;\n",
              "\n",
              "      const channel = await google.colab.kernel.comms.open(id);\n",
              "      // Send a message to notify the kernel that we're ready.\n",
              "      channel.send({})\n",
              "\n",
              "      for await (const message of channel.messages) {\n",
              "        // Send a message to notify the kernel that we're ready.\n",
              "        channel.send({})\n",
              "        if (message.buffers) {\n",
              "          for (const buffer of message.buffers) {\n",
              "            buffers.push(buffer);\n",
              "            downloaded += buffer.byteLength;\n",
              "            progress.value = downloaded;\n",
              "          }\n",
              "        }\n",
              "      }\n",
              "      const blob = new Blob(buffers, {type: 'application/binary'});\n",
              "      const a = document.createElement('a');\n",
              "      a.href = window.URL.createObjectURL(blob);\n",
              "      a.download = filename;\n",
              "      div.appendChild(a);\n",
              "      a.click();\n",
              "      div.remove();\n",
              "    }\n",
              "  "
            ],
            "text/plain": [
              "<IPython.core.display.Javascript object>"
            ]
          },
          "metadata": {}
        },
        {
          "output_type": "display_data",
          "data": {
            "application/javascript": [
              "download(\"download_e8c70364-3c3a-4387-988d-bd750ca4a0c6\", \"amia_cleaned.csv\", 3998571)"
            ],
            "text/plain": [
              "<IPython.core.display.Javascript object>"
            ]
          },
          "metadata": {}
        }
      ]
    },
    {
      "cell_type": "code",
      "metadata": {
        "colab": {
          "base_uri": "https://localhost:8080/"
        },
        "id": "DV6-FH8vAw7F",
        "outputId": "b0f07e87-ba48-4adc-b4e6-dcc15bfc4899"
      },
      "source": [
        "amia_year = amia.groupby(['year']).count()\n",
        "amia_year['pmc_id']"
      ],
      "execution_count": 29,
      "outputs": [
        {
          "output_type": "execute_result",
          "data": {
            "text/plain": [
              "year\n",
              "1981    117\n",
              "1982     94\n",
              "1983     44\n",
              "1985    159\n",
              "1986     28\n",
              "1987    102\n",
              "1988    115\n",
              "1989    145\n",
              "1990    156\n",
              "1991    201\n",
              "1992    114\n",
              "1993     90\n",
              "1994     77\n",
              "1995      2\n",
              "1996     49\n",
              "1997     10\n",
              "1998     69\n",
              "2000     28\n",
              "2001    143\n",
              "2002     27\n",
              "2003    232\n",
              "2004      6\n",
              "2005     14\n",
              "2006    283\n",
              "2007    224\n",
              "2008    475\n",
              "2009    196\n",
              "2010    170\n",
              "2011    252\n",
              "2012    178\n",
              "2013    120\n",
              "2014    131\n",
              "2015    160\n",
              "2016    151\n",
              "2017    180\n",
              "2018    180\n",
              "2019    149\n",
              "2020    171\n",
              "2021     26\n",
              "Name: pmc_id, dtype: int64"
            ]
          },
          "metadata": {},
          "execution_count": 29
        }
      ]
    },
    {
      "cell_type": "code",
      "metadata": {
        "colab": {
          "base_uri": "https://localhost:8080/",
          "height": 366
        },
        "id": "iJdsDVOpA59M",
        "outputId": "d58351a0-f1c8-45ca-cec8-cd4c7075cb35"
      },
      "source": [
        "import matplotlib.pyplot as plt\n",
        "f=plt.figure()\n",
        "f.set_figwidth(10)\n",
        "f.set_figheight(5)\n",
        "amia_year['pmc_id'].plot.bar()"
      ],
      "execution_count": 30,
      "outputs": [
        {
          "output_type": "execute_result",
          "data": {
            "text/plain": [
              "<matplotlib.axes._subplots.AxesSubplot at 0x7f2e57301e10>"
            ]
          },
          "metadata": {},
          "execution_count": 30
        },
        {
          "output_type": "display_data",
          "data": {
            "image/png": "[encoded data removed]",
            "text/plain": [
              "<Figure size 720x360 with 1 Axes>"
            ]
          },
          "metadata": {
            "needs_background": "light"
          }
        }
      ]
    }
  ]
}